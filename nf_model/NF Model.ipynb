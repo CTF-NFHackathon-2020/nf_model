{
 "cells": [
  {
   "cell_type": "code",
   "execution_count": 45,
   "metadata": {},
   "outputs": [],
   "source": [
    "import time\n",
    "from collections import Counter\n",
    "from indra_db import get_primary_db\n",
    "from indra_db.util import distill_stmts\n",
    "from indra.literature import pubmed_client\n",
    "from indra.tools import assemble_corpus as ac\n"
   ]
  },
  {
   "cell_type": "markdown",
   "metadata": {},
   "source": [
    "The first step in creating the EMMAA model for Neurofibromatosis is to find publications broadly relevant for neurofibromatosis. We do this by querying based on the both the term \"neurofibromatosis\" as well as the top-level Medical Subject Heading (MESH) term for Neurofibromatoses, D017253 (see https://www.ncbi.nlm.nih.gov/mesh/68017253)."
   ]
  },
  {
   "cell_type": "code",
   "execution_count": 16,
   "metadata": {},
   "outputs": [],
   "source": [
    "def get_nf_pmids():\n",
    "    nf_text_pmids = pubmed_client.get_ids('neurofibromatosis') # PMIDs from text search for \"neurofibromatosis\"\n",
    "    nf_mesh_ids = pubmed_client.get_ids_for_mesh('D017253') # Mesh term for neurofibromatoses\n",
    "    return list(set(nf_text_pmids + nf_mesh_ids))\n",
    "nf_pmids = get_nf_pmids()"
   ]
  },
  {
   "cell_type": "markdown",
   "metadata": {},
   "source": [
    "Here's how many articles we found:"
   ]
  },
  {
   "cell_type": "code",
   "execution_count": 18,
   "metadata": {},
   "outputs": [
    {
     "data": {
      "text/plain": [
       "17850"
      ]
     },
     "execution_count": 18,
     "metadata": {},
     "output_type": "execute_result"
    }
   ],
   "source": [
    "len(nf_pmids)"
   ]
  },
  {
   "cell_type": "markdown",
   "metadata": {},
   "source": [
    "The next step is to get the INDRA Statements that have been extracted from these, which will give us a sense of which molecular entities (proteins, drugs, etc.) are relevant to NF and should be included in the model."
   ]
  },
  {
   "cell_type": "code",
   "execution_count": 37,
   "metadata": {},
   "outputs": [
    {
     "name": "stderr",
     "output_type": "stream",
     "text": [
      "INFO: [2020-10-27 10:41:44] indra.tools.assemble_corpus - Loading nf_raw_stmts.pkl...\n",
      "INFO: [2020-10-27 10:41:45] indra.tools.assemble_corpus - Loaded 20209 statements\n"
     ]
    }
   ],
   "source": [
    "# Get raw statement IDs from the DB for the given TextRefs\n",
    "reload = False\n",
    "pmid_stmts_file = 'nf_raw_stmts.pkl'\n",
    "if reload: \n",
    "    db = get_primary_db()\n",
    "    # Get statements for the given text refs\n",
    "    print(f\"Distilling statements for {len(nf_pmids)} TextRefs\")\n",
    "    start = time.time()\n",
    "    clauses = [\n",
    "        db.TextRef.pmid.in_(nf_pmids),\n",
    "        db.TextContent.text_ref_id == db.TextRef.id,\n",
    "        db.Reading.text_content_id == db.TextContent.id,\n",
    "        db.RawStatements.reading_id == db.Reading.id]\n",
    "    pmid_stmts = distill_stmts(db, get_full_stmts=True, clauses=clauses)\n",
    "    end = time.time()\n",
    "    elapsed = end - start\n",
    "    print(elapsed)\n",
    "    list(ac.dump_statements(pmid_stmts, pmid_stmts_file))\n",
    "else:\n",
    "    pmid_stmts = list(ac.load_statements(pmid_stmts_file))\n"
   ]
  },
  {
   "cell_type": "code",
   "execution_count": 47,
   "metadata": {},
   "outputs": [],
   "source": [
    "proteins = [ag.name for stmt in pmid_stmts for ag in stmt.agent_list()\n",
    "            if ag is not None and 'HGNC' in ag.db_refs]\n",
    "protein_ctr = Counter(proteins)\n",
    "protein_ctr = sorted([(k, ct) for k, ct in protein_ctr.items()], key=lambda x: x[1], reverse=True)"
   ]
  },
  {
   "cell_type": "code",
   "execution_count": 68,
   "metadata": {},
   "outputs": [],
   "source": [
    "camp = [ag.db_refs.get('TEXT') for stmt in pmid_stmts for ag in stmt.agent_list() if ag and ag.name == 'CAMP']"
   ]
  },
  {
   "cell_type": "code",
   "execution_count": 69,
   "metadata": {},
   "outputs": [],
   "source": [
    "camp_ctr = Counter(camp)"
   ]
  },
  {
   "cell_type": "code",
   "execution_count": 70,
   "metadata": {},
   "outputs": [
    {
     "data": {
      "text/plain": [
       "Counter({'cAMP': 131, 'c-AMP': 2})"
      ]
     },
     "execution_count": 70,
     "metadata": {},
     "output_type": "execute_result"
    }
   ],
   "source": [
    "camp_ctr"
   ]
  },
  {
   "cell_type": "code",
   "execution_count": 49,
   "metadata": {},
   "outputs": [
    {
     "data": {
      "text/plain": [
       "1396"
      ]
     },
     "execution_count": 49,
     "metadata": {},
     "output_type": "execute_result"
    }
   ],
   "source": [
    "len(protein_ctr)"
   ]
  },
  {
   "cell_type": "code",
   "execution_count": 19,
   "metadata": {},
   "outputs": [],
   "source": [
    "from indra.sources import indra_db_rest as idr"
   ]
  },
  {
   "cell_type": "code",
   "execution_count": 33,
   "metadata": {
    "scrolled": true
   },
   "outputs": [
    {
     "name": "stderr",
     "output_type": "stream",
     "text": [
      "INFO: [2020-10-27 10:28:54] indra.sources.indra_db_rest.util - query: https://db.indra.bio/statements/from_papers\n",
      "INFO: [2020-10-27 10:28:54] indra.sources.indra_db_rest.util - params: {'ev_limit': 10, 'best_first': True, 'max_stmts': None, 'api_key': '[api-key]'}\n"
     ]
    }
   ],
   "source": [
    "idrp = idr.get_statements_for_paper([('pmid', pmid) for pmid in nf_pmids][0:100])"
   ]
  },
  {
   "cell_type": "markdown",
   "metadata": {},
   "source": [
    "Get drugs that:\n",
    "1. Have already been tested against NF (are in the screening datasets)\n",
    "2. Are known to target one or more genes relevant to NF."
   ]
  },
  {
   "cell_type": "code",
   "execution_count": 10,
   "metadata": {},
   "outputs": [],
   "source": [
    "both_pmids = set(nf_mesh_ids).union(set(nf_text_pmids))"
   ]
  },
  {
   "cell_type": "code",
   "execution_count": 11,
   "metadata": {},
   "outputs": [
    {
     "data": {
      "text/plain": [
       "17850"
      ]
     },
     "execution_count": 11,
     "metadata": {},
     "output_type": "execute_result"
    }
   ],
   "source": [
    "len(both_pmids)"
   ]
  },
  {
   "cell_type": "code",
   "execution_count": null,
   "metadata": {},
   "outputs": [],
   "source": []
  }
 ],
 "metadata": {
  "hide_input": false,
  "kernelspec": {
   "display_name": "Python 3",
   "language": "python",
   "name": "python3"
  },
  "language_info": {
   "codemirror_mode": {
    "name": "ipython",
    "version": 3
   },
   "file_extension": ".py",
   "mimetype": "text/x-python",
   "name": "python",
   "nbconvert_exporter": "python",
   "pygments_lexer": "ipython3",
   "version": "3.7.4"
  }
 },
 "nbformat": 4,
 "nbformat_minor": 2
}
