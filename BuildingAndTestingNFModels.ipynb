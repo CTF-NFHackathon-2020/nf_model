{
 "cells": [
  {
   "cell_type": "markdown",
   "metadata": {},
   "source": [
    "# Building and analyzing EMMAA Models of Neurofibromatosis"
   ]
  },
  {
   "cell_type": "markdown",
   "metadata": {},
   "source": [
    "## 1. A Knowledge Network of Molecular Mechanisms from the Neurofibromatosis Literature"
   ]
  },
  {
   "cell_type": "markdown",
   "metadata": {},
   "source": [
    "In this section we put together an initial neurofibromatosis-specific knowledge network based on molecular interactions we have compiled from reading all available abstracts and full text articles from PubMed.\n",
    "\n",
    "As background, we use multiple text mining systems from our collaborators and from the research community to extract raw causal relations and then assemble them using our knowledge assembly system, INDRA (the Integrated Network and Dynamical Reasoning Assembler). We do this systematically across all available literature and store the results in the INDRA Database for use in downstream projects like this one. The INDRA Database is publicly accessible at https://db.indra.bio. \n",
    "\n",
    "The first step in creating the EMMAA model for Neurofibromatosis is to find publications broadly relevant for neurofibromatosis. We do this by querying based on the both the term \"neurofibromatosis\" as well as the top-level Medical Subject Heading (MESH) term for Neurofibromatoses, D017253 (see https://www.ncbi.nlm.nih.gov/mesh/68017253). We use the `indra.literature` module to search PubMed using the PubMed REST API."
   ]
  },
  {
   "cell_type": "code",
   "execution_count": 34,
   "metadata": {},
   "outputs": [],
   "source": [
    "# Preliminaries\n",
    "import json\n",
    "from processor import NlModelProcessor\n",
    "from indra.tools import assemble_corpus as ac\n",
    "from indra.assemblers.pysb import PysbAssembler\n",
    "from indra.explanation.model_checker.pysb import PysbModelChecker\n",
    "from indra.literature import pubmed_client\n",
    "from indra.pipeline import AssemblyPipeline"
   ]
  },
  {
   "cell_type": "code",
   "execution_count": 27,
   "metadata": {},
   "outputs": [],
   "source": [
    "# Query PubMed for articles related to NF\n",
    "def get_nf_pmids():\n",
    "    # PMIDs from text search for \"neurofibromatosis\"\n",
    "    nf_text_pmids = pubmed_client.get_ids('neurofibromatosis')\n",
    "    # Mesh term for neurofibromatoses\n",
    "    nf_mesh_ids = pubmed_client.get_ids_for_mesh('D017253')\n",
    "    return list(set(nf_text_pmids + nf_mesh_ids))\n",
    "\n",
    "# Get the PMIDs\n",
    "nf_pmids = get_nf_pmids()"
   ]
  },
  {
   "cell_type": "markdown",
   "metadata": {},
   "source": [
    "Here's how many unique PMIDs we found:"
   ]
  },
  {
   "cell_type": "code",
   "execution_count": 28,
   "metadata": {},
   "outputs": [
    {
     "data": {
      "text/plain": [
       "17882"
      ]
     },
     "execution_count": 28,
     "metadata": {},
     "output_type": "execute_result"
    }
   ],
   "source": [
    "len(nf_pmids)"
   ]
  },
  {
   "cell_type": "markdown",
   "metadata": {},
   "source": [
    "We then query the INDRA Database to get the INDRA Statements that have been extracted from these papers by text mining. One complication here is that for the EMMAA model we need to get raw, unassembled statements from the INDRA Database, which are currently not available from the public APIs (the public APIs provide access to the \"finished\", assembled statements). Therefore for this example we show the code that we run internally to obtain these statements but, by default, load the statements from a cache."
   ]
  },
  {
   "cell_type": "code",
   "execution_count": 32,
   "metadata": {
    "scrolled": true
   },
   "outputs": [
    {
     "name": "stderr",
     "output_type": "stream",
     "text": [
      "INFO: [2020-11-11 17:47:12] indra.tools.assemble_corpus - Loading nf_raw_stmts.pkl...\n",
      "INFO: [2020-11-11 17:47:13] indra.tools.assemble_corpus - Loaded 20209 statements\n"
     ]
    }
   ],
   "source": [
    "# Get raw statement IDs from the DB for the given TextRefs\n",
    "reload = False\n",
    "pmid_stmts_file = 'nf_raw_stmts.pkl'\n",
    "if reload: \n",
    "    db = get_primary_db()\n",
    "    # Get statements for the given text refs\n",
    "    print(f\"Distilling statements for {len(nf_pmids)} TextRefs\")\n",
    "    start = time.time()\n",
    "    clauses = [\n",
    "        db.TextRef.pmid.in_(nf_pmids),\n",
    "        db.TextContent.text_ref_id == db.TextRef.id,\n",
    "        db.Reading.text_content_id == db.TextContent.id,\n",
    "        db.RawStatements.reading_id == db.Reading.id]\n",
    "    pmid_stmts = distill_stmts(db, get_full_stmts=True, clauses=clauses)\n",
    "    end = time.time()\n",
    "    elapsed = end - start\n",
    "    print(elapsed)\n",
    "    list(ac.dump_statements(pmid_stmts, pmid_stmts_file))\n",
    "else:\n",
    "    pmid_stmts = list(ac.load_statements(pmid_stmts_file))"
   ]
  },
  {
   "cell_type": "markdown",
   "metadata": {},
   "source": [
    "Let's see how many statements we got:"
   ]
  },
  {
   "cell_type": "code",
   "execution_count": 33,
   "metadata": {},
   "outputs": [
    {
     "data": {
      "text/plain": [
       "20209"
      ]
     },
     "execution_count": 33,
     "metadata": {},
     "output_type": "execute_result"
    }
   ],
   "source": [
    "len(pmid_stmts)"
   ]
  },
  {
   "cell_type": "markdown",
   "metadata": {},
   "source": [
    "### Preprocessing, filtering and deduplicating statements"
   ]
  },
  {
   "cell_type": "markdown",
   "metadata": {},
   "source": [
    "The statements that we've obtained from the INDRA Database in the previous step represent raw output from NLP systems. We need to preprocess these statements in several ways: we need to fix named entity normalization, standardize sites of posttranslation modifications to canonical protein sequences, identify duplicate statements and overlapping statements, etc. The steps of this procedure are described in the `config.json` file for the EMMAA model. The EMMAA system reads the `config.json` file and runs assembly on the raw statements in AWS Batch. For illustration purposes we do this ourselves here."
   ]
  },
  {
   "cell_type": "code",
   "execution_count": 37,
   "metadata": {},
   "outputs": [],
   "source": [
    "# Load the config file\n",
    "with open('../nf_model/config.json', 'rt') as f:\n",
    "    nf_config = json.load(f)"
   ]
  },
  {
   "cell_type": "markdown",
   "metadata": {},
   "source": [
    "Here are the assembly steps for the model:"
   ]
  },
  {
   "cell_type": "code",
   "execution_count": 36,
   "metadata": {},
   "outputs": [
    {
     "data": {
      "text/plain": [
       "[{'function': 'filter_no_hypothesis'},\n",
       " {'function': 'ground_statements',\n",
       "  'kwargs': {'mode': 'local', 'ungrounded_only': True}},\n",
       " {'function': 'ground_statements',\n",
       "  'kwargs': {'mode': 'local',\n",
       "   'sources': ['sparser'],\n",
       "   'ungrounded_only': False}},\n",
       " {'function': 'map_grounding'},\n",
       " {'function': 'filter_grounded_only'},\n",
       " {'function': 'map_sequence'},\n",
       " {'function': 'filter_eidos_ungrounded'},\n",
       " {'function': 'run_preassembly', 'kwargs': {'return_toplevel': False}},\n",
       " {'function': 'filter_human_only'},\n",
       " {'function': 'filter_by_curation',\n",
       "  'args': [{'function': 'get_curations'},\n",
       "   'any',\n",
       "   ['correct', 'act_vs_amt', 'hypothesis']],\n",
       "  'kwargs': {'update_belief': True}},\n",
       " {'function': 'filter_top_level'}]"
      ]
     },
     "execution_count": 36,
     "metadata": {},
     "output_type": "execute_result"
    }
   ],
   "source": [
    "nf_config['assembly']"
   ]
  },
  {
   "cell_type": "code",
   "execution_count": 38,
   "metadata": {},
   "outputs": [],
   "source": [
    "ap = AssemblyPipeline(nf_config['assembly'])"
   ]
  },
  {
   "cell_type": "code",
   "execution_count": 39,
   "metadata": {},
   "outputs": [
    {
     "name": "stderr",
     "output_type": "stream",
     "text": [
      "INFO: [2020-11-11 17:58:12] indra.pipeline.pipeline - Running the pipeline\n",
      "INFO: [2020-11-11 17:58:12] indra.pipeline.pipeline - Calling filter_no_hypothesis\n",
      "INFO: [2020-11-11 17:58:12] indra.tools.assemble_corpus - Filtering 20209 statements to no hypothesis...\n",
      "INFO: [2020-11-11 17:58:12] indra.tools.assemble_corpus - 19962 statements after filter...\n",
      "INFO: [2020-11-11 17:58:12] indra.pipeline.pipeline - Calling ground_statements\n"
     ]
    },
    {
     "ename": "ModuleNotFoundError",
     "evalue": "No module named 'nltk'",
     "output_type": "error",
     "traceback": [
      "\u001b[0;31m---------------------------------------------------------------------------\u001b[0m",
      "\u001b[0;31mModuleNotFoundError\u001b[0m                       Traceback (most recent call last)",
      "\u001b[0;32m<ipython-input-39-1001e5a53239>\u001b[0m in \u001b[0;36m<module>\u001b[0;34m\u001b[0m\n\u001b[0;32m----> 1\u001b[0;31m \u001b[0mpmid_stmts_asmb\u001b[0m \u001b[0;34m=\u001b[0m \u001b[0map\u001b[0m\u001b[0;34m.\u001b[0m\u001b[0mrun\u001b[0m\u001b[0;34m(\u001b[0m\u001b[0mpmid_stmts\u001b[0m\u001b[0;34m)\u001b[0m\u001b[0;34m\u001b[0m\u001b[0;34m\u001b[0m\u001b[0m\n\u001b[0m",
      "\u001b[0;32m~/Dropbox/1johndata/Knowledge File/Biology/Research/Big Mechanism/indra/indra/pipeline/pipeline.py\u001b[0m in \u001b[0;36mrun\u001b[0;34m(self, statements, **kwargs)\u001b[0m\n\u001b[1;32m    133\u001b[0m         \u001b[0mlogger\u001b[0m\u001b[0;34m.\u001b[0m\u001b[0minfo\u001b[0m\u001b[0;34m(\u001b[0m\u001b[0;34m'Running the pipeline'\u001b[0m\u001b[0;34m)\u001b[0m\u001b[0;34m\u001b[0m\u001b[0;34m\u001b[0m\u001b[0m\n\u001b[1;32m    134\u001b[0m         \u001b[0;32mfor\u001b[0m \u001b[0mstep\u001b[0m \u001b[0;32min\u001b[0m \u001b[0mself\u001b[0m\u001b[0;34m.\u001b[0m\u001b[0msteps\u001b[0m\u001b[0;34m:\u001b[0m\u001b[0;34m\u001b[0m\u001b[0;34m\u001b[0m\u001b[0m\n\u001b[0;32m--> 135\u001b[0;31m             \u001b[0mstatements\u001b[0m \u001b[0;34m=\u001b[0m \u001b[0mself\u001b[0m\u001b[0;34m.\u001b[0m\u001b[0mrun_function\u001b[0m\u001b[0;34m(\u001b[0m\u001b[0mstep\u001b[0m\u001b[0;34m,\u001b[0m \u001b[0mstatements\u001b[0m\u001b[0;34m,\u001b[0m \u001b[0;34m**\u001b[0m\u001b[0mkwargs\u001b[0m\u001b[0;34m)\u001b[0m\u001b[0;34m\u001b[0m\u001b[0;34m\u001b[0m\u001b[0m\n\u001b[0m\u001b[1;32m    136\u001b[0m         \u001b[0;32mreturn\u001b[0m \u001b[0mstatements\u001b[0m\u001b[0;34m\u001b[0m\u001b[0;34m\u001b[0m\u001b[0m\n\u001b[1;32m    137\u001b[0m \u001b[0;34m\u001b[0m\u001b[0m\n",
      "\u001b[0;32m~/Dropbox/1johndata/Knowledge File/Biology/Research/Big Mechanism/indra/indra/pipeline/pipeline.py\u001b[0m in \u001b[0;36mrun_function\u001b[0;34m(self, func_dict, statements, **kwargs)\u001b[0m\n\u001b[1;32m    324\u001b[0m                 \u001b[0;32mif\u001b[0m \u001b[0mk\u001b[0m \u001b[0;32mnot\u001b[0m \u001b[0;32min\u001b[0m \u001b[0mnew_kwargs\u001b[0m \u001b[0;32mand\u001b[0m \u001b[0mk\u001b[0m \u001b[0;32min\u001b[0m \u001b[0minspect\u001b[0m\u001b[0;34m.\u001b[0m\u001b[0mgetargspec\u001b[0m\u001b[0;34m(\u001b[0m\u001b[0mfunc\u001b[0m\u001b[0;34m)\u001b[0m\u001b[0;34m.\u001b[0m\u001b[0margs\u001b[0m\u001b[0;34m:\u001b[0m\u001b[0;34m\u001b[0m\u001b[0;34m\u001b[0m\u001b[0m\n\u001b[1;32m    325\u001b[0m                     \u001b[0mnew_kwargs\u001b[0m\u001b[0;34m[\u001b[0m\u001b[0mk\u001b[0m\u001b[0;34m]\u001b[0m \u001b[0;34m=\u001b[0m \u001b[0mv\u001b[0m\u001b[0;34m\u001b[0m\u001b[0;34m\u001b[0m\u001b[0m\n\u001b[0;32m--> 326\u001b[0;31m         \u001b[0;32mreturn\u001b[0m \u001b[0mself\u001b[0m\u001b[0;34m.\u001b[0m\u001b[0mrun_simple_function\u001b[0m\u001b[0;34m(\u001b[0m\u001b[0mfunc\u001b[0m\u001b[0;34m,\u001b[0m \u001b[0;34m*\u001b[0m\u001b[0mnew_args\u001b[0m\u001b[0;34m,\u001b[0m \u001b[0;34m**\u001b[0m\u001b[0mnew_kwargs\u001b[0m\u001b[0;34m)\u001b[0m\u001b[0;34m\u001b[0m\u001b[0;34m\u001b[0m\u001b[0m\n\u001b[0m\u001b[1;32m    327\u001b[0m \u001b[0;34m\u001b[0m\u001b[0m\n\u001b[1;32m    328\u001b[0m     \u001b[0;34m@\u001b[0m\u001b[0mstaticmethod\u001b[0m\u001b[0;34m\u001b[0m\u001b[0;34m\u001b[0m\u001b[0m\n",
      "\u001b[0;32m~/Dropbox/1johndata/Knowledge File/Biology/Research/Big Mechanism/indra/indra/pipeline/pipeline.py\u001b[0m in \u001b[0;36mrun_simple_function\u001b[0;34m(func, *args, **kwargs)\u001b[0m\n\u001b[1;32m    282\u001b[0m         \u001b[0mstatements\u001b[0m \u001b[0;34m=\u001b[0m \u001b[0mkwargs\u001b[0m\u001b[0;34m.\u001b[0m\u001b[0mpop\u001b[0m\u001b[0;34m(\u001b[0m\u001b[0;34m'statements'\u001b[0m\u001b[0;34m,\u001b[0m \u001b[0;32mNone\u001b[0m\u001b[0;34m)\u001b[0m\u001b[0;34m\u001b[0m\u001b[0;34m\u001b[0m\u001b[0m\n\u001b[1;32m    283\u001b[0m         \u001b[0;32mif\u001b[0m \u001b[0mstatements\u001b[0m \u001b[0;32mis\u001b[0m \u001b[0;32mnot\u001b[0m \u001b[0;32mNone\u001b[0m\u001b[0;34m:\u001b[0m\u001b[0;34m\u001b[0m\u001b[0;34m\u001b[0m\u001b[0m\n\u001b[0;32m--> 284\u001b[0;31m             \u001b[0;32mreturn\u001b[0m \u001b[0mfunc\u001b[0m\u001b[0;34m(\u001b[0m\u001b[0mstatements\u001b[0m\u001b[0;34m,\u001b[0m \u001b[0;34m*\u001b[0m\u001b[0margs\u001b[0m\u001b[0;34m,\u001b[0m \u001b[0;34m**\u001b[0m\u001b[0mkwargs\u001b[0m\u001b[0;34m)\u001b[0m\u001b[0;34m\u001b[0m\u001b[0;34m\u001b[0m\u001b[0m\n\u001b[0m\u001b[1;32m    285\u001b[0m         \u001b[0;32mreturn\u001b[0m \u001b[0mfunc\u001b[0m\u001b[0;34m(\u001b[0m\u001b[0;34m*\u001b[0m\u001b[0margs\u001b[0m\u001b[0;34m,\u001b[0m \u001b[0;34m**\u001b[0m\u001b[0mkwargs\u001b[0m\u001b[0;34m)\u001b[0m\u001b[0;34m\u001b[0m\u001b[0;34m\u001b[0m\u001b[0m\n\u001b[1;32m    286\u001b[0m \u001b[0;34m\u001b[0m\u001b[0m\n",
      "\u001b[0;32m~/Dropbox/1johndata/Knowledge File/Biology/Research/Big Mechanism/indra/indra/preassembler/grounding_mapper/gilda.py\u001b[0m in \u001b[0;36mground_statements\u001b[0;34m(stmts, mode, sources, ungrounded_only)\u001b[0m\n\u001b[1;32m    167\u001b[0m         if not source_filter or (stmt.evidence and stmt.evidence[0].source_api\n\u001b[1;32m    168\u001b[0m                                  in source_filter):\n\u001b[0;32m--> 169\u001b[0;31m             \u001b[0mground_statement\u001b[0m\u001b[0;34m(\u001b[0m\u001b[0mstmt\u001b[0m\u001b[0;34m,\u001b[0m \u001b[0mmode\u001b[0m\u001b[0;34m=\u001b[0m\u001b[0mmode\u001b[0m\u001b[0;34m,\u001b[0m \u001b[0mungrounded_only\u001b[0m\u001b[0;34m=\u001b[0m\u001b[0mungrounded_only\u001b[0m\u001b[0;34m)\u001b[0m\u001b[0;34m\u001b[0m\u001b[0;34m\u001b[0m\u001b[0m\n\u001b[0m\u001b[1;32m    170\u001b[0m     \u001b[0;32mreturn\u001b[0m \u001b[0mstmts\u001b[0m\u001b[0;34m\u001b[0m\u001b[0;34m\u001b[0m\u001b[0m\n",
      "\u001b[0;32m~/Dropbox/1johndata/Knowledge File/Biology/Research/Big Mechanism/indra/indra/preassembler/grounding_mapper/gilda.py\u001b[0m in \u001b[0;36mground_statement\u001b[0;34m(stmt, mode, ungrounded_only)\u001b[0m\n\u001b[1;32m    132\u001b[0m             \u001b[0mgr\u001b[0m \u001b[0;34m=\u001b[0m \u001b[0magent\u001b[0m\u001b[0;34m.\u001b[0m\u001b[0mget_grounding\u001b[0m\u001b[0;34m(\u001b[0m\u001b[0;34m)\u001b[0m\u001b[0;34m\u001b[0m\u001b[0;34m\u001b[0m\u001b[0m\n\u001b[1;32m    133\u001b[0m             \u001b[0;32mif\u001b[0m \u001b[0;32mnot\u001b[0m \u001b[0mungrounded_only\u001b[0m \u001b[0;32mor\u001b[0m \u001b[0mgr\u001b[0m\u001b[0;34m[\u001b[0m\u001b[0;36m0\u001b[0m\u001b[0;34m]\u001b[0m \u001b[0;32mis\u001b[0m \u001b[0;32mNone\u001b[0m\u001b[0;34m:\u001b[0m\u001b[0;34m\u001b[0m\u001b[0;34m\u001b[0m\u001b[0m\n\u001b[0;32m--> 134\u001b[0;31m                 \u001b[0mground_agent\u001b[0m\u001b[0;34m(\u001b[0m\u001b[0magent\u001b[0m\u001b[0;34m,\u001b[0m \u001b[0mtxt\u001b[0m\u001b[0;34m,\u001b[0m \u001b[0mcontext\u001b[0m\u001b[0;34m,\u001b[0m \u001b[0mmode\u001b[0m\u001b[0;34m=\u001b[0m\u001b[0mmode\u001b[0m\u001b[0;34m)\u001b[0m\u001b[0;34m\u001b[0m\u001b[0;34m\u001b[0m\u001b[0m\n\u001b[0m\u001b[1;32m    135\u001b[0m \u001b[0;34m\u001b[0m\u001b[0m\n\u001b[1;32m    136\u001b[0m \u001b[0;34m\u001b[0m\u001b[0m\n",
      "\u001b[0;32m~/Dropbox/1johndata/Knowledge File/Biology/Research/Big Mechanism/indra/indra/preassembler/grounding_mapper/gilda.py\u001b[0m in \u001b[0;36mground_agent\u001b[0;34m(agent, txt, context, mode)\u001b[0m\n\u001b[1;32m     97\u001b[0m         \u001b[0mattempted\u001b[0m \u001b[0mto\u001b[0m \u001b[0mbe\u001b[0m \u001b[0mimported\u001b[0m \u001b[0;32mand\u001b[0m \u001b[0mused\u001b[0m\u001b[0;34m.\u001b[0m \u001b[0mDefault\u001b[0m\u001b[0;34m:\u001b[0m \u001b[0mweb\u001b[0m\u001b[0;34m\u001b[0m\u001b[0;34m\u001b[0m\u001b[0m\n\u001b[1;32m     98\u001b[0m     \"\"\"\n\u001b[0;32m---> 99\u001b[0;31m     \u001b[0mgr\u001b[0m\u001b[0;34m,\u001b[0m \u001b[0mresults\u001b[0m \u001b[0;34m=\u001b[0m \u001b[0mget_grounding\u001b[0m\u001b[0;34m(\u001b[0m\u001b[0mtxt\u001b[0m\u001b[0;34m,\u001b[0m \u001b[0mcontext\u001b[0m\u001b[0;34m,\u001b[0m \u001b[0mmode\u001b[0m\u001b[0;34m)\u001b[0m\u001b[0;34m\u001b[0m\u001b[0;34m\u001b[0m\u001b[0m\n\u001b[0m\u001b[1;32m    100\u001b[0m     \u001b[0;32mif\u001b[0m \u001b[0mgr\u001b[0m\u001b[0;34m:\u001b[0m\u001b[0;34m\u001b[0m\u001b[0;34m\u001b[0m\u001b[0m\n\u001b[1;32m    101\u001b[0m         \u001b[0mdb_refs\u001b[0m \u001b[0;34m=\u001b[0m \u001b[0;34m{\u001b[0m\u001b[0;34m'TEXT'\u001b[0m\u001b[0;34m:\u001b[0m \u001b[0mtxt\u001b[0m\u001b[0;34m}\u001b[0m\u001b[0;34m\u001b[0m\u001b[0;34m\u001b[0m\u001b[0m\n",
      "\u001b[0;32m~/Dropbox/1johndata/Knowledge File/Biology/Research/Big Mechanism/indra/indra/preassembler/grounding_mapper/gilda.py\u001b[0m in \u001b[0;36mget_grounding\u001b[0;34m(txt, context, mode)\u001b[0m\n\u001b[1;32m     46\u001b[0m             \u001b[0mgrounding\u001b[0m \u001b[0;34m=\u001b[0m \u001b[0;34m{\u001b[0m\u001b[0mresults\u001b[0m\u001b[0;34m[\u001b[0m\u001b[0;36m0\u001b[0m\u001b[0;34m]\u001b[0m\u001b[0;34m[\u001b[0m\u001b[0;34m'term'\u001b[0m\u001b[0;34m]\u001b[0m\u001b[0;34m[\u001b[0m\u001b[0;34m'db'\u001b[0m\u001b[0;34m]\u001b[0m\u001b[0;34m:\u001b[0m \u001b[0mresults\u001b[0m\u001b[0;34m[\u001b[0m\u001b[0;36m0\u001b[0m\u001b[0;34m]\u001b[0m\u001b[0;34m[\u001b[0m\u001b[0;34m'term'\u001b[0m\u001b[0;34m]\u001b[0m\u001b[0;34m[\u001b[0m\u001b[0;34m'id'\u001b[0m\u001b[0;34m]\u001b[0m\u001b[0;34m}\u001b[0m\u001b[0;34m\u001b[0m\u001b[0;34m\u001b[0m\u001b[0m\n\u001b[1;32m     47\u001b[0m     \u001b[0;32melse\u001b[0m\u001b[0;34m:\u001b[0m\u001b[0;34m\u001b[0m\u001b[0;34m\u001b[0m\u001b[0m\n\u001b[0;32m---> 48\u001b[0;31m         \u001b[0;32mfrom\u001b[0m \u001b[0mgilda\u001b[0m \u001b[0;32mimport\u001b[0m \u001b[0mground\u001b[0m\u001b[0;34m\u001b[0m\u001b[0;34m\u001b[0m\u001b[0m\n\u001b[0m\u001b[1;32m     49\u001b[0m         \u001b[0mresults\u001b[0m \u001b[0;34m=\u001b[0m \u001b[0mground\u001b[0m\u001b[0;34m(\u001b[0m\u001b[0mtxt\u001b[0m\u001b[0;34m,\u001b[0m \u001b[0mcontext\u001b[0m\u001b[0;34m)\u001b[0m\u001b[0;34m\u001b[0m\u001b[0;34m\u001b[0m\u001b[0m\n\u001b[1;32m     50\u001b[0m         \u001b[0;32mif\u001b[0m \u001b[0mresults\u001b[0m\u001b[0;34m:\u001b[0m\u001b[0;34m\u001b[0m\u001b[0;34m\u001b[0m\u001b[0m\n",
      "\u001b[0;32m~/Dropbox/1johndata/Knowledge File/Biology/Research/Big Mechanism/gilda/gilda/__init__.py\u001b[0m in \u001b[0;36m<module>\u001b[0;34m\u001b[0m\n\u001b[1;32m     10\u001b[0m \u001b[0;34m\u001b[0m\u001b[0m\n\u001b[1;32m     11\u001b[0m \u001b[0;34m\u001b[0m\u001b[0m\n\u001b[0;32m---> 12\u001b[0;31m \u001b[0;32mfrom\u001b[0m \u001b[0;34m.\u001b[0m\u001b[0mapi\u001b[0m \u001b[0;32mimport\u001b[0m \u001b[0;34m*\u001b[0m\u001b[0;34m\u001b[0m\u001b[0;34m\u001b[0m\u001b[0m\n\u001b[0m",
      "\u001b[0;32m~/Dropbox/1johndata/Knowledge File/Biology/Research/Big Mechanism/gilda/gilda/api.py\u001b[0m in \u001b[0;36m<module>\u001b[0;34m\u001b[0m\n\u001b[1;32m      1\u001b[0m \u001b[0m__all__\u001b[0m \u001b[0;34m=\u001b[0m \u001b[0;34m[\u001b[0m\u001b[0;34m'ground'\u001b[0m\u001b[0;34m,\u001b[0m \u001b[0;34m'get_models'\u001b[0m\u001b[0;34m,\u001b[0m \u001b[0;34m'get_names'\u001b[0m\u001b[0;34m]\u001b[0m\u001b[0;34m\u001b[0m\u001b[0;34m\u001b[0m\u001b[0m\n\u001b[1;32m      2\u001b[0m \u001b[0;34m\u001b[0m\u001b[0m\n\u001b[0;32m----> 3\u001b[0;31m \u001b[0;32mfrom\u001b[0m \u001b[0mgilda\u001b[0m\u001b[0;34m.\u001b[0m\u001b[0mgrounder\u001b[0m \u001b[0;32mimport\u001b[0m \u001b[0mGrounder\u001b[0m\u001b[0;34m\u001b[0m\u001b[0;34m\u001b[0m\u001b[0m\n\u001b[0m\u001b[1;32m      4\u001b[0m \u001b[0;34m\u001b[0m\u001b[0m\n\u001b[1;32m      5\u001b[0m \u001b[0;34m\u001b[0m\u001b[0m\n",
      "\u001b[0;32m~/Dropbox/1johndata/Knowledge File/Biology/Research/Big Mechanism/gilda/gilda/grounder.py\u001b[0m in \u001b[0;36m<module>\u001b[0;34m\u001b[0m\n\u001b[1;32m      4\u001b[0m \u001b[0;32mimport\u001b[0m \u001b[0mlogging\u001b[0m\u001b[0;34m\u001b[0m\u001b[0;34m\u001b[0m\u001b[0m\n\u001b[1;32m      5\u001b[0m \u001b[0;32mimport\u001b[0m \u001b[0mitertools\u001b[0m\u001b[0;34m\u001b[0m\u001b[0;34m\u001b[0m\u001b[0m\n\u001b[0;32m----> 6\u001b[0;31m \u001b[0;32mfrom\u001b[0m \u001b[0madeft\u001b[0m\u001b[0;34m.\u001b[0m\u001b[0mdisambiguate\u001b[0m \u001b[0;32mimport\u001b[0m \u001b[0mload_disambiguator\u001b[0m\u001b[0;34m\u001b[0m\u001b[0;34m\u001b[0m\u001b[0m\n\u001b[0m\u001b[1;32m      7\u001b[0m \u001b[0;32mfrom\u001b[0m \u001b[0madeft\u001b[0m\u001b[0;34m.\u001b[0m\u001b[0mmodeling\u001b[0m\u001b[0;34m.\u001b[0m\u001b[0mclassify\u001b[0m \u001b[0;32mimport\u001b[0m \u001b[0mload_model_info\u001b[0m\u001b[0;34m\u001b[0m\u001b[0;34m\u001b[0m\u001b[0m\n\u001b[1;32m      8\u001b[0m \u001b[0;32mfrom\u001b[0m \u001b[0madeft\u001b[0m \u001b[0;32mimport\u001b[0m \u001b[0mavailable_shortforms\u001b[0m \u001b[0;32mas\u001b[0m \u001b[0mavailable_adeft_models\u001b[0m\u001b[0;34m\u001b[0m\u001b[0;34m\u001b[0m\u001b[0m\n",
      "\u001b[0;32m~/Dropbox/1johndata/Knowledge File/Biology/Research/Big Mechanism/adeft/adeft/disambiguate.py\u001b[0m in \u001b[0;36m<module>\u001b[0;34m\u001b[0m\n\u001b[1;32m      7\u001b[0m \u001b[0;34m\u001b[0m\u001b[0m\n\u001b[1;32m      8\u001b[0m \u001b[0;32mfrom\u001b[0m \u001b[0madeft\u001b[0m\u001b[0;34m.\u001b[0m\u001b[0mlocations\u001b[0m \u001b[0;32mimport\u001b[0m \u001b[0mADEFT_MODELS_PATH\u001b[0m\u001b[0;34m\u001b[0m\u001b[0;34m\u001b[0m\u001b[0m\n\u001b[0;32m----> 9\u001b[0;31m \u001b[0;32mfrom\u001b[0m \u001b[0madeft\u001b[0m\u001b[0;34m.\u001b[0m\u001b[0mrecognize\u001b[0m \u001b[0;32mimport\u001b[0m \u001b[0mAdeftRecognizer\u001b[0m\u001b[0;34m\u001b[0m\u001b[0;34m\u001b[0m\u001b[0m\n\u001b[0m\u001b[1;32m     10\u001b[0m \u001b[0;32mfrom\u001b[0m \u001b[0madeft\u001b[0m\u001b[0;34m.\u001b[0m\u001b[0mmodeling\u001b[0m\u001b[0;34m.\u001b[0m\u001b[0mclassify\u001b[0m \u001b[0;32mimport\u001b[0m \u001b[0mload_model\u001b[0m\u001b[0;34m\u001b[0m\u001b[0;34m\u001b[0m\u001b[0m\n\u001b[1;32m     11\u001b[0m \u001b[0;32mfrom\u001b[0m \u001b[0madeft\u001b[0m\u001b[0;34m.\u001b[0m\u001b[0mdownload\u001b[0m \u001b[0;32mimport\u001b[0m \u001b[0mget_available_models\u001b[0m\u001b[0;34m\u001b[0m\u001b[0;34m\u001b[0m\u001b[0m\n",
      "\u001b[0;32m~/Dropbox/1johndata/Knowledge File/Biology/Research/Big Mechanism/adeft/adeft/recognize.py\u001b[0m in \u001b[0;36m<module>\u001b[0;34m\u001b[0m\n\u001b[1;32m      6\u001b[0m \u001b[0;32mimport\u001b[0m \u001b[0mlogging\u001b[0m\u001b[0;34m\u001b[0m\u001b[0;34m\u001b[0m\u001b[0m\n\u001b[1;32m      7\u001b[0m \u001b[0;34m\u001b[0m\u001b[0m\n\u001b[0;32m----> 8\u001b[0;31m \u001b[0;32mfrom\u001b[0m \u001b[0mnltk\u001b[0m\u001b[0;34m.\u001b[0m\u001b[0mstem\u001b[0m\u001b[0;34m.\u001b[0m\u001b[0msnowball\u001b[0m \u001b[0;32mimport\u001b[0m \u001b[0mEnglishStemmer\u001b[0m\u001b[0;34m\u001b[0m\u001b[0;34m\u001b[0m\u001b[0m\n\u001b[0m\u001b[1;32m      9\u001b[0m \u001b[0;34m\u001b[0m\u001b[0m\n\u001b[1;32m     10\u001b[0m \u001b[0;32mfrom\u001b[0m \u001b[0madeft\u001b[0m\u001b[0;34m.\u001b[0m\u001b[0mnlp\u001b[0m \u001b[0;32mimport\u001b[0m \u001b[0mtokenize\u001b[0m\u001b[0;34m,\u001b[0m \u001b[0muntokenize\u001b[0m\u001b[0;34m\u001b[0m\u001b[0;34m\u001b[0m\u001b[0m\n",
      "\u001b[0;31mModuleNotFoundError\u001b[0m: No module named 'nltk'"
     ]
    }
   ],
   "source": [
    "pmid_stmts_asmb = ap.run(pmid_stmts)"
   ]
  },
  {
   "cell_type": "markdown",
   "metadata": {},
   "source": [
    "## 2. A Mechanistic Ras-NF Model from Natural Language"
   ]
  },
  {
   "cell_type": "markdown",
   "metadata": {},
   "source": [
    "Next we show how a second, distinct Ras-NF mechanistic model can be automatically assembled from a set of manually curated sentences describing molecular interactions. We call this approach \"natural language modeling\" and it is described in detail in our paper:\n",
    "\n",
    "Gyori B.M.\\*, Bachman J.A.\\*, Subramanian K., Muhlich J.L., Galescu L., Sorger P.K. From word models to executable models of signaling networks using automated assembly (2017), Molecular Systems Biology, 13, 954. (https://www.embopress.org/doi/full/10.15252/msb.20177651)\n"
   ]
  },
  {
   "cell_type": "markdown",
   "metadata": {},
   "source": [
    "### Getting the statements from text"
   ]
  },
  {
   "cell_type": "markdown",
   "metadata": {},
   "source": [
    "In this step we process the assertions in the text file `ras_nf_model.rst` into INDRA Statements. Each sentence is processed individually and the statements for each sentence are stored in a local cache. Processing can take several minutes."
   ]
  },
  {
   "cell_type": "code",
   "execution_count": 9,
   "metadata": {},
   "outputs": [
    {
     "name": "stdout",
     "output_type": "stream",
     "text": [
      "Processing group 'EGFR Pathway'...\n",
      "1 of 13: processing 'EGF binds to EGFR.'...\n"
     ]
    },
    {
     "name": "stderr",
     "output_type": "stream",
     "text": [
      "INFO: [2020-11-11 16:15:12] processor - Saving 1 stmts in EGFbindstoEGFR.pkl\n"
     ]
    },
    {
     "name": "stdout",
     "output_type": "stream",
     "text": [
      "2 of 13: processing 'EGFR bound to EGF binds EGFR bound to EGF.'...\n"
     ]
    },
    {
     "name": "stderr",
     "output_type": "stream",
     "text": [
      "INFO: [2020-11-11 16:15:15] processor - Saving 1 stmts in EGFRboundtoEGFbindsEGFRboundtoEGF.pkl\n"
     ]
    },
    {
     "name": "stdout",
     "output_type": "stream",
     "text": [
      "3 of 13: processing 'EGFR bound to EGFR phosphorylates itself at Y1016.'...\n"
     ]
    },
    {
     "name": "stderr",
     "output_type": "stream",
     "text": [
      "INFO: [2020-11-11 16:15:17] processor - Saving 1 stmts in EGFRboundtoEGFRphosphorylatesitselfatY1016.pkl\n"
     ]
    },
    {
     "name": "stdout",
     "output_type": "stream",
     "text": [
      "4 of 13: processing 'EGFR bound to EGFR phosphorylates itself at Y1069.'...\n"
     ]
    },
    {
     "name": "stderr",
     "output_type": "stream",
     "text": [
      "INFO: [2020-11-11 16:15:19] processor - Saving 1 stmts in EGFRboundtoEGFRphosphorylatesitselfatY1069.pkl\n"
     ]
    },
    {
     "name": "stdout",
     "output_type": "stream",
     "text": [
      "5 of 13: processing 'EGFR bound to EGFR phosphorylates itself at Y1092.'...\n"
     ]
    },
    {
     "name": "stderr",
     "output_type": "stream",
     "text": [
      "INFO: [2020-11-11 16:15:20] processor - Saving 1 stmts in EGFRboundtoEGFRphosphorylatesitselfatY1092.pkl\n"
     ]
    },
    {
     "name": "stdout",
     "output_type": "stream",
     "text": [
      "6 of 13: processing 'EGFR bound to EGFR phosphorylates itself at Y1110.'...\n"
     ]
    },
    {
     "name": "stderr",
     "output_type": "stream",
     "text": [
      "INFO: [2020-11-11 16:15:22] processor - Saving 1 stmts in EGFRboundtoEGFRphosphorylatesitselfatY1110.pkl\n"
     ]
    },
    {
     "name": "stdout",
     "output_type": "stream",
     "text": [
      "7 of 13: processing 'EGFR bound to EGFR phosphorylates itself at Y1138.'...\n"
     ]
    },
    {
     "name": "stderr",
     "output_type": "stream",
     "text": [
      "INFO: [2020-11-11 16:15:24] processor - Saving 1 stmts in EGFRboundtoEGFRphosphorylatesitselfatY1138.pkl\n"
     ]
    },
    {
     "name": "stdout",
     "output_type": "stream",
     "text": [
      "8 of 13: processing 'EGFR bound to EGFR phosphorylates itself at Y1172.'...\n"
     ]
    },
    {
     "name": "stderr",
     "output_type": "stream",
     "text": [
      "INFO: [2020-11-11 16:15:28] processor - Saving 1 stmts in EGFRboundtoEGFRphosphorylatesitselfatY1172.pkl\n"
     ]
    },
    {
     "name": "stdout",
     "output_type": "stream",
     "text": [
      "9 of 13: processing 'EGFR bound to EGFR phosphorylates itself at Y1197.'...\n"
     ]
    },
    {
     "name": "stderr",
     "output_type": "stream",
     "text": [
      "INFO: [2020-11-11 16:15:30] processor - Saving 1 stmts in EGFRboundtoEGFRphosphorylatesitselfatY1197.pkl\n"
     ]
    },
    {
     "name": "stdout",
     "output_type": "stream",
     "text": [
      "10 of 13: processing 'EGFR bound to EGFR phosphorylates SRC at Y419.'...\n"
     ]
    },
    {
     "name": "stderr",
     "output_type": "stream",
     "text": [
      "INFO: [2020-11-11 16:15:33] processor - Saving 1 stmts in EGFRboundtoEGFRphosphorylatesSRCatY419.pkl\n"
     ]
    },
    {
     "name": "stdout",
     "output_type": "stream",
     "text": [
      "11 of 13: processing 'EGFR bound to EGFR phosphorylates SRC.'...\n"
     ]
    },
    {
     "name": "stderr",
     "output_type": "stream",
     "text": [
      "INFO: [2020-11-11 16:15:35] processor - Saving 1 stmts in EGFRboundtoEGFRphosphorylatesSRC.pkl\n"
     ]
    },
    {
     "name": "stdout",
     "output_type": "stream",
     "text": [
      "12 of 13: processing 'SRC phosphorylated at Y419 is active.'...\n"
     ]
    },
    {
     "name": "stderr",
     "output_type": "stream",
     "text": [
      "INFO: [2020-11-11 16:15:39] processor - Saving 1 stmts in SRCphosphorylatedatY419isactive.pkl\n"
     ]
    },
    {
     "name": "stdout",
     "output_type": "stream",
     "text": [
      "13 of 13: processing 'Active SRC phosphorylates EGFR at Y869.'...\n"
     ]
    },
    {
     "name": "stderr",
     "output_type": "stream",
     "text": [
      "INFO: [2020-11-11 16:15:40] processor - Saving 1 stmts in ActiveSRCphosphorylatesEGFRatY869.pkl\n"
     ]
    },
    {
     "name": "stdout",
     "output_type": "stream",
     "text": [
      "Processing group 'IGF1R Pathway'...\n",
      "1 of 9: processing 'IGF1R binds IGF1R.'...\n"
     ]
    },
    {
     "name": "stderr",
     "output_type": "stream",
     "text": [
      "INFO: [2020-11-11 16:15:46] processor - Saving 1 stmts in IGF1RbindsIGF1R.pkl\n"
     ]
    },
    {
     "name": "stdout",
     "output_type": "stream",
     "text": [
      "2 of 9: processing 'IGF1R bound to IGF1R phosphorylates itself at Y1166.'...\n"
     ]
    },
    {
     "name": "stderr",
     "output_type": "stream",
     "text": [
      "INFO: [2020-11-11 16:15:48] processor - Saving 1 stmts in IGF1RboundtoIGF1RphosphorylatesitselfatY1166.pkl\n"
     ]
    },
    {
     "name": "stdout",
     "output_type": "stream",
     "text": [
      "3 of 9: processing 'IGF1R phosphorylated at Y1166 is active.'...\n"
     ]
    },
    {
     "name": "stderr",
     "output_type": "stream",
     "text": [
      "INFO: [2020-11-11 16:15:49] processor - Saving 1 stmts in IGF1RphosphorylatedatY1166isactive.pkl\n"
     ]
    },
    {
     "name": "stdout",
     "output_type": "stream",
     "text": [
      "4 of 9: processing 'Active IGF1R phosphorylates IRS1 at tyrosine.'...\n"
     ]
    },
    {
     "name": "stderr",
     "output_type": "stream",
     "text": [
      "INFO: [2020-11-11 16:15:54] processor - Saving 1 stmts in ActiveIGF1RphosphorylatesIRS1attyrosine.pkl\n"
     ]
    },
    {
     "name": "stdout",
     "output_type": "stream",
     "text": [
      "5 of 9: processing 'Tyrosine-phosphorylated IRS1 is active.'...\n"
     ]
    },
    {
     "name": "stderr",
     "output_type": "stream",
     "text": [
      "INFO: [2020-11-11 16:15:55] processor - Saving 1 stmts in Tyrosine-phosphorylatedIRS1isactive.pkl\n"
     ]
    },
    {
     "name": "stdout",
     "output_type": "stream",
     "text": [
      "6 of 9: processing 'Active IRS1 binds PIK3CA.'...\n"
     ]
    },
    {
     "name": "stderr",
     "output_type": "stream",
     "text": [
      "INFO: [2020-11-11 16:16:01] processor - Saving 1 stmts in ActiveIRS1bindsPIK3CA.pkl\n"
     ]
    },
    {
     "name": "stdout",
     "output_type": "stream",
     "text": [
      "7 of 9: processing 'IRS1 phosphorylated at S312 is degraded.'...\n"
     ]
    },
    {
     "name": "stderr",
     "output_type": "stream",
     "text": [
      "INFO: [2020-11-11 16:16:04] processor - Saving 1 stmts in IRS1phosphorylatedatS312isdegraded.pkl\n"
     ]
    },
    {
     "name": "stdout",
     "output_type": "stream",
     "text": [
      "8 of 9: processing 'Active PPP2CA dephosphorylates IRS1 at S312.'...\n"
     ]
    },
    {
     "name": "stderr",
     "output_type": "stream",
     "text": [
      "INFO: [2020-11-11 16:16:07] processor - Saving 1 stmts in ActivePPP2CAdephosphorylatesIRS1atS312.pkl\n"
     ]
    },
    {
     "name": "stdout",
     "output_type": "stream",
     "text": [
      "9 of 9: processing 'RPS6KB1 phosphorylates IRS1 at S312.'...\n"
     ]
    },
    {
     "name": "stderr",
     "output_type": "stream",
     "text": [
      "INFO: [2020-11-11 16:16:10] processor - Saving 1 stmts in RPS6KB1phosphorylatesIRS1atS312.pkl\n"
     ]
    },
    {
     "name": "stdout",
     "output_type": "stream",
     "text": [
      "Processing group 'Adaptor proteins'...\n",
      "1 of 13: processing 'GRB2 binds EGFR phosphorylated on Y1092.'...\n"
     ]
    },
    {
     "name": "stderr",
     "output_type": "stream",
     "text": [
      "INFO: [2020-11-11 16:16:13] processor - Saving 1 stmts in GRB2bindsEGFRphosphorylatedonY1092.pkl\n"
     ]
    },
    {
     "name": "stdout",
     "output_type": "stream",
     "text": [
      "2 of 13: processing 'SHC1 binds EGFR phosphorylated on Y1197.'...\n"
     ]
    },
    {
     "name": "stderr",
     "output_type": "stream",
     "text": [
      "INFO: [2020-11-11 16:16:15] processor - Saving 1 stmts in SHC1bindsEGFRphosphorylatedonY1197.pkl\n"
     ]
    },
    {
     "name": "stdout",
     "output_type": "stream",
     "text": [
      "3 of 13: processing 'GRB2 binds SHC1 bound to EGFR.'...\n"
     ]
    },
    {
     "name": "stderr",
     "output_type": "stream",
     "text": [
      "INFO: [2020-11-11 16:16:16] processor - Saving 1 stmts in GRB2bindsSHC1boundtoEGFR.pkl\n"
     ]
    },
    {
     "name": "stdout",
     "output_type": "stream",
     "text": [
      "4 of 13: processing 'GRB2 bound to EGFR translocates to the membrane.'...\n"
     ]
    },
    {
     "name": "stderr",
     "output_type": "stream",
     "text": [
      "INFO: [2020-11-11 16:16:18] processor - Saving 1 stmts in GRB2boundtoEGFRtranslocatestothemembrane.pkl\n"
     ]
    },
    {
     "name": "stdout",
     "output_type": "stream",
     "text": [
      "5 of 13: processing 'GRB2 bound to SHC1 translocates to the membrane.'...\n"
     ]
    },
    {
     "name": "stderr",
     "output_type": "stream",
     "text": [
      "INFO: [2020-11-11 16:16:20] processor - Saving 1 stmts in GRB2boundtoSHC1translocatestothemembrane.pkl\n"
     ]
    },
    {
     "name": "stdout",
     "output_type": "stream",
     "text": [
      "6 of 13: processing 'Active MAPK1 phosphorylates SOS1 at S1178.'...\n"
     ]
    },
    {
     "name": "stderr",
     "output_type": "stream",
     "text": [
      "INFO: [2020-11-11 16:16:23] processor - Saving 1 stmts in ActiveMAPK1phosphorylatesSOS1atS1178.pkl\n"
     ]
    },
    {
     "name": "stdout",
     "output_type": "stream",
     "text": [
      "7 of 13: processing 'SOS1 not phosphorylated at S1178 binds to GRB2 at the membrane.'...\n"
     ]
    },
    {
     "name": "stderr",
     "output_type": "stream",
     "text": [
      "INFO: [2020-11-11 16:16:27] processor - Saving 1 stmts in SOS1notphosphorylatedatS1178bindstoGRB2atthemembrane.pkl\n"
     ]
    },
    {
     "name": "stdout",
     "output_type": "stream",
     "text": [
      "8 of 13: processing 'SOS1 bound to GRB2 translocates to the membrane.'...\n"
     ]
    },
    {
     "name": "stderr",
     "output_type": "stream",
     "text": [
      "INFO: [2020-11-11 16:16:29] processor - Saving 1 stmts in SOS1boundtoGRB2translocatestothemembrane.pkl\n"
     ]
    },
    {
     "name": "stdout",
     "output_type": "stream",
     "text": [
      "9 of 13: processing 'SOS1 binds to IRS1 phosphorylated on tyrosine.'...\n"
     ]
    },
    {
     "name": "stderr",
     "output_type": "stream",
     "text": [
      "INFO: [2020-11-11 16:16:30] processor - Saving 1 stmts in SOS1bindstoIRS1phosphorylatedontyrosine.pkl\n"
     ]
    },
    {
     "name": "stdout",
     "output_type": "stream",
     "text": [
      "10 of 13: processing 'SOS1 bound to IRS1 translocates to the membrane.'...\n"
     ]
    },
    {
     "name": "stderr",
     "output_type": "stream",
     "text": [
      "INFO: [2020-11-11 16:16:32] processor - Saving 1 stmts in SOS1boundtoIRS1translocatestothemembrane.pkl\n"
     ]
    },
    {
     "name": "stdout",
     "output_type": "stream",
     "text": [
      "11 of 13: processing 'SOS1 binds to EGFR phosphorylated on Y1110.'...\n"
     ]
    },
    {
     "name": "stderr",
     "output_type": "stream",
     "text": [
      "INFO: [2020-11-11 16:16:34] processor - Saving 1 stmts in SOS1bindstoEGFRphosphorylatedonY1110.pkl\n"
     ]
    },
    {
     "name": "stdout",
     "output_type": "stream",
     "text": [
      "12 of 13: processing 'SOS1 bound to EGFR translocates to the membrane.'...\n"
     ]
    },
    {
     "name": "stderr",
     "output_type": "stream",
     "text": [
      "INFO: [2020-11-11 16:16:35] processor - Saving 1 stmts in SOS1boundtoEGFRtranslocatestothemembrane.pkl\n"
     ]
    },
    {
     "name": "stdout",
     "output_type": "stream",
     "text": [
      "13 of 13: processing 'SOS1 at the membrane is active.'...\n"
     ]
    },
    {
     "name": "stderr",
     "output_type": "stream",
     "text": [
      "INFO: [2020-11-11 16:16:36] processor - Saving 1 stmts in SOS1atthemembraneisactive.pkl\n"
     ]
    },
    {
     "name": "stdout",
     "output_type": "stream",
     "text": [
      "Processing group 'Ras-MAPK pathway'...\n",
      "1 of 22: processing 'FNTA farnesylates KRAS.'...\n"
     ]
    },
    {
     "name": "stderr",
     "output_type": "stream",
     "text": [
      "INFO: [2020-11-11 16:16:40] processor - Saving 1 stmts in FNTAfarnesylatesKRAS.pkl\n"
     ]
    },
    {
     "name": "stdout",
     "output_type": "stream",
     "text": [
      "2 of 22: processing 'FNTB farnesylates KRAS.'...\n"
     ]
    },
    {
     "name": "stderr",
     "output_type": "stream",
     "text": [
      "INFO: [2020-11-11 16:16:41] processor - Saving 1 stmts in FNTBfarnesylatesKRAS.pkl\n"
     ]
    },
    {
     "name": "stdout",
     "output_type": "stream",
     "text": [
      "3 of 22: processing 'Farnesylated KRAS translocates to the membrane.'...\n"
     ]
    },
    {
     "name": "stderr",
     "output_type": "stream",
     "text": [
      "INFO: [2020-11-11 16:16:42] processor - Saving 1 stmts in FarnesylatedKRAStranslocatestothemembrane.pkl\n"
     ]
    },
    {
     "name": "stdout",
     "output_type": "stream",
     "text": [
      "4 of 22: processing 'Active SOS1 activates KRAS that is at the membrane.'...\n"
     ]
    },
    {
     "name": "stderr",
     "output_type": "stream",
     "text": [
      "INFO: [2020-11-11 16:16:44] processor - Saving 1 stmts in ActiveSOS1activatesKRASthatisatthemembrane.pkl\n"
     ]
    },
    {
     "name": "stdout",
     "output_type": "stream",
     "text": [
      "5 of 22: processing 'Active RASA1 inhibits KRAS that is at the membrane.'...\n"
     ]
    },
    {
     "name": "stderr",
     "output_type": "stream",
     "text": [
      "INFO: [2020-11-11 16:16:45] processor - Saving 1 stmts in ActiveRASA1inhibitsKRASthatisatthemembrane.pkl\n"
     ]
    },
    {
     "name": "stdout",
     "output_type": "stream",
     "text": [
      "6 of 22: processing 'NF1 inhibits KRAS that is at the membrane.'...\n"
     ]
    },
    {
     "name": "stderr",
     "output_type": "stream",
     "text": [
      "INFO: [2020-11-11 16:16:47] processor - Saving 1 stmts in NF1inhibitsKRASthatisatthemembrane.pkl\n"
     ]
    },
    {
     "name": "stdout",
     "output_type": "stream",
     "text": [
      "7 of 22: processing 'Active KRAS binds BRAF.'...\n"
     ]
    },
    {
     "name": "stderr",
     "output_type": "stream",
     "text": [
      "INFO: [2020-11-11 16:16:48] processor - Saving 1 stmts in ActiveKRASbindsBRAF.pkl\n"
     ]
    },
    {
     "name": "stdout",
     "output_type": "stream",
     "text": [
      "8 of 22: processing 'Active KRAS binds RAF1.'...\n"
     ]
    },
    {
     "name": "stderr",
     "output_type": "stream",
     "text": [
      "INFO: [2020-11-11 16:16:50] processor - Saving 1 stmts in ActiveKRASbindsRAF1.pkl\n"
     ]
    },
    {
     "name": "stdout",
     "output_type": "stream",
     "text": [
      "9 of 22: processing 'Active SRC phosphorylates BRAF bound to KRAS.'...\n"
     ]
    },
    {
     "name": "stderr",
     "output_type": "stream",
     "text": [
      "INFO: [2020-11-11 16:16:52] processor - Saving 1 stmts in ActiveSRCphosphorylatesBRAFboundtoKRAS.pkl\n"
     ]
    },
    {
     "name": "stdout",
     "output_type": "stream",
     "text": [
      "10 of 22: processing 'Active SRC phosphorylates RAF1 bound to KRAS.'...\n"
     ]
    },
    {
     "name": "stderr",
     "output_type": "stream",
     "text": [
      "INFO: [2020-11-11 16:16:54] processor - Saving 1 stmts in ActiveSRCphosphorylatesRAF1boundtoKRAS.pkl\n"
     ]
    },
    {
     "name": "stdout",
     "output_type": "stream",
     "text": [
      "11 of 22: processing 'Phosphorylated BRAF is active.'...\n"
     ]
    },
    {
     "name": "stderr",
     "output_type": "stream",
     "text": [
      "INFO: [2020-11-11 16:16:55] processor - Saving 1 stmts in PhosphorylatedBRAFisactive.pkl\n"
     ]
    },
    {
     "name": "stdout",
     "output_type": "stream",
     "text": [
      "12 of 22: processing 'Phosphorylated RAF1 is active.'...\n"
     ]
    },
    {
     "name": "stderr",
     "output_type": "stream",
     "text": [
      "INFO: [2020-11-11 16:16:56] processor - Saving 1 stmts in PhosphorylatedRAF1isactive.pkl\n"
     ]
    },
    {
     "name": "stdout",
     "output_type": "stream",
     "text": [
      "13 of 22: processing 'Active BRAF phosphorylates MAP2K1 at S218 and S222.'...\n"
     ]
    },
    {
     "name": "stderr",
     "output_type": "stream",
     "text": [
      "INFO: [2020-11-11 16:17:01] processor - Saving 2 stmts in ActiveBRAFphosphorylatesMAP2K1atS218andS222.pkl\n"
     ]
    },
    {
     "name": "stdout",
     "output_type": "stream",
     "text": [
      "14 of 22: processing 'Active RAF1 phosphorylates MAP2K1 at S218 and S222.'...\n"
     ]
    },
    {
     "name": "stderr",
     "output_type": "stream",
     "text": [
      "INFO: [2020-11-11 16:17:03] processor - Saving 2 stmts in ActiveRAF1phosphorylatesMAP2K1atS218andS222.pkl\n"
     ]
    },
    {
     "name": "stdout",
     "output_type": "stream",
     "text": [
      "15 of 22: processing 'MAP2K1 phosphorylated at S218 and S222 is active.'...\n"
     ]
    },
    {
     "name": "stderr",
     "output_type": "stream",
     "text": [
      "INFO: [2020-11-11 16:17:05] processor - Saving 1 stmts in MAP2K1phosphorylatedatS218andS222isactive.pkl\n"
     ]
    },
    {
     "name": "stdout",
     "output_type": "stream",
     "text": [
      "16 of 22: processing 'Active MAP2K1 phosphorylates MAPK1 at T185 and Y187.'...\n"
     ]
    },
    {
     "name": "stderr",
     "output_type": "stream",
     "text": [
      "INFO: [2020-11-11 16:17:07] processor - Saving 2 stmts in ActiveMAP2K1phosphorylatesMAPK1atT185andY187.pkl\n"
     ]
    },
    {
     "name": "stdout",
     "output_type": "stream",
     "text": [
      "17 of 22: processing 'MAPK1 phosphorylated at T185 and Y187 is active.'...\n"
     ]
    },
    {
     "name": "stderr",
     "output_type": "stream",
     "text": [
      "INFO: [2020-11-11 16:17:09] processor - Saving 1 stmts in MAPK1phosphorylatedatT185andY187isactive.pkl\n"
     ]
    },
    {
     "name": "stdout",
     "output_type": "stream",
     "text": [
      "18 of 22: processing 'Active MAPK1 phosphorylates RPS6KA1 at T573 and T359.'...\n"
     ]
    },
    {
     "name": "stderr",
     "output_type": "stream",
     "text": [
      "INFO: [2020-11-11 16:17:10] processor - Saving 2 stmts in ActiveMAPK1phosphorylatesRPS6KA1atT573andT359.pkl\n"
     ]
    },
    {
     "name": "stdout",
     "output_type": "stream",
     "text": [
      "19 of 22: processing 'Active AKT1 phosphorylates TSC2 on S939 and T1462.'...\n"
     ]
    },
    {
     "name": "stderr",
     "output_type": "stream",
     "text": [
      "INFO: [2020-11-11 16:17:14] processor - Saving 2 stmts in ActiveAKT1phosphorylatesTSC2onS939andT1462.pkl\n"
     ]
    },
    {
     "name": "stdout",
     "output_type": "stream",
     "text": [
      "20 of 22: processing 'PPP5C dephosphorylates TSC2 at S939.'...\n"
     ]
    },
    {
     "name": "stderr",
     "output_type": "stream",
     "text": [
      "INFO: [2020-11-11 16:17:18] processor - Saving 1 stmts in PPP5CdephosphorylatesTSC2atS939.pkl\n"
     ]
    },
    {
     "name": "stdout",
     "output_type": "stream",
     "text": [
      "21 of 22: processing 'RPS6KA1 phosphorylated at T573 is active.'...\n"
     ]
    },
    {
     "name": "stderr",
     "output_type": "stream",
     "text": [
      "INFO: [2020-11-11 16:17:19] processor - Saving 1 stmts in RPS6KA1phosphorylatedatT573isactive.pkl\n"
     ]
    },
    {
     "name": "stdout",
     "output_type": "stream",
     "text": [
      "22 of 22: processing 'Active RPS6KA1 phosphorylates TSC2 on S1798.'...\n"
     ]
    },
    {
     "name": "stderr",
     "output_type": "stream",
     "text": [
      "INFO: [2020-11-11 16:17:21] processor - Saving 1 stmts in ActiveRPS6KA1phosphorylatesTSC2onS1798.pkl\n"
     ]
    },
    {
     "name": "stdout",
     "output_type": "stream",
     "text": [
      "Processing group 'NF1 and NF2 interactions'...\n",
      "1 of 58: processing 'SPRED1 bound to NF1 is active.'...\n"
     ]
    },
    {
     "name": "stderr",
     "output_type": "stream",
     "text": [
      "INFO: [2020-11-11 16:17:23] processor - Saving 1 stmts in SPRED1boundtoNF1isactive.pkl\n"
     ]
    },
    {
     "name": "stdout",
     "output_type": "stream",
     "text": [
      "2 of 58: processing 'EGFR phosphorylates SPRED1 on S105.'...\n"
     ]
    },
    {
     "name": "stderr",
     "output_type": "stream",
     "text": [
      "INFO: [2020-11-11 16:17:27] processor - Saving 1 stmts in EGFRphosphorylatesSPRED1onS105.pkl\n"
     ]
    },
    {
     "name": "stdout",
     "output_type": "stream",
     "text": [
      "3 of 58: processing 'EGFR L858R phosphorylates SPRED1 on S105.'...\n"
     ]
    },
    {
     "name": "stderr",
     "output_type": "stream",
     "text": [
      "INFO: [2020-11-11 16:17:29] processor - Saving 1 stmts in EGFRL858RphosphorylatesSPRED1onS105.pkl\n"
     ]
    },
    {
     "name": "stdout",
     "output_type": "stream",
     "text": [
      "4 of 58: processing 'NF1 binds SPRED1 not phosphorylated on S105.'...\n"
     ]
    },
    {
     "name": "stderr",
     "output_type": "stream",
     "text": [
      "INFO: [2020-11-11 16:17:31] processor - Saving 1 stmts in NF1bindsSPRED1notphosphorylatedonS105.pkl\n"
     ]
    },
    {
     "name": "stdout",
     "output_type": "stream",
     "text": [
      "5 of 58: processing 'NF1 binds DPYSL2.'...\n"
     ]
    },
    {
     "name": "stderr",
     "output_type": "stream",
     "text": [
      "INFO: [2020-11-11 16:17:32] processor - Saving 1 stmts in NF1bindsDPYSL2.pkl\n"
     ]
    },
    {
     "name": "stdout",
     "output_type": "stream",
     "text": [
      "6 of 58: processing 'NF1 binds VCP.'...\n"
     ]
    },
    {
     "name": "stderr",
     "output_type": "stream",
     "text": [
      "INFO: [2020-11-11 16:17:33] processor - Saving 1 stmts in NF1bindsVCP.pkl\n"
     ]
    },
    {
     "name": "stdout",
     "output_type": "stream",
     "text": [
      "7 of 58: processing 'NF1 binds PTK2.'...\n"
     ]
    },
    {
     "name": "stderr",
     "output_type": "stream",
     "text": [
      "INFO: [2020-11-11 16:17:35] processor - Saving 1 stmts in NF1bindsPTK2.pkl\n"
     ]
    },
    {
     "name": "stdout",
     "output_type": "stream",
     "text": [
      "8 of 58: processing 'Rac1 and downstream signaling into the MAPK pathway.\"'...\n"
     ]
    },
    {
     "name": "stderr",
     "output_type": "stream",
     "text": [
      "WARNING: [2020-11-11 16:17:38] processor - No statements for \"Rac1 and downstream signaling into the MAPK pathway.\"\"\n"
     ]
    },
    {
     "name": "stdout",
     "output_type": "stream",
     "text": [
      "No statements for \"Rac1 and downstream signaling into the MAPK pathway.\"\"\n",
      "9 of 58: processing 'NF2 binds AMOT.'...\n"
     ]
    },
    {
     "name": "stderr",
     "output_type": "stream",
     "text": [
      "INFO: [2020-11-11 16:17:39] processor - Saving 1 stmts in NF2bindsAMOT.pkl\n"
     ]
    },
    {
     "name": "stdout",
     "output_type": "stream",
     "text": [
      "10 of 58: processing 'ARHGAP17 binds AMOT not bound to NF2.'...\n"
     ]
    },
    {
     "name": "stderr",
     "output_type": "stream",
     "text": [
      "INFO: [2020-11-11 16:17:40] processor - Saving 1 stmts in ARHGAP17bindsAMOTnotboundtoNF2.pkl\n"
     ]
    },
    {
     "name": "stdout",
     "output_type": "stream",
     "text": [
      "11 of 58: processing 'ARHGAP17 not bound to AMOT inhibits RAC1.'...\n"
     ]
    },
    {
     "name": "stderr",
     "output_type": "stream",
     "text": [
      "INFO: [2020-11-11 16:17:42] processor - Saving 1 stmts in ARHGAP17notboundtoAMOTinhibitsRAC1.pkl\n"
     ]
    },
    {
     "name": "stdout",
     "output_type": "stream",
     "text": [
      "12 of 58: processing 'ARHGAP17 not bound to AMOT inhibits CDC42.'...\n"
     ]
    },
    {
     "name": "stderr",
     "output_type": "stream",
     "text": [
      "INFO: [2020-11-11 16:17:44] processor - Saving 1 stmts in ARHGAP17notboundtoAMOTinhibitsCDC42.pkl\n"
     ]
    },
    {
     "name": "stdout",
     "output_type": "stream",
     "text": [
      "13 of 58: processing 'PAK1 binds active CDC42.'...\n"
     ]
    },
    {
     "name": "stderr",
     "output_type": "stream",
     "text": [
      "INFO: [2020-11-11 16:17:46] processor - Saving 1 stmts in PAK1bindsactiveCDC42.pkl\n"
     ]
    },
    {
     "name": "stdout",
     "output_type": "stream",
     "text": [
      "14 of 58: processing 'PAK1 bound to CDC42 phosphorylates itself.'...\n"
     ]
    },
    {
     "name": "stderr",
     "output_type": "stream",
     "text": [
      "INFO: [2020-11-11 16:17:48] processor - Saving 1 stmts in PAK1boundtoCDC42phosphorylatesitself.pkl\n"
     ]
    },
    {
     "name": "stdout",
     "output_type": "stream",
     "text": [
      "15 of 58: processing 'PAK1 binds active RAC1.'...\n"
     ]
    },
    {
     "name": "stderr",
     "output_type": "stream",
     "text": [
      "INFO: [2020-11-11 16:17:49] processor - Saving 1 stmts in PAK1bindsactiveRAC1.pkl\n"
     ]
    },
    {
     "name": "stdout",
     "output_type": "stream",
     "text": [
      "16 of 58: processing 'PAK1 bound to RAC1 phosphorylates itself.'...\n"
     ]
    },
    {
     "name": "stderr",
     "output_type": "stream",
     "text": [
      "INFO: [2020-11-11 16:17:51] processor - Saving 1 stmts in PAK1boundtoRAC1phosphorylatesitself.pkl\n"
     ]
    },
    {
     "name": "stdout",
     "output_type": "stream",
     "text": [
      "17 of 58: processing 'Phosphorylated PAK1 is active.'...\n"
     ]
    },
    {
     "name": "stderr",
     "output_type": "stream",
     "text": [
      "INFO: [2020-11-11 16:17:52] processor - Saving 1 stmts in PhosphorylatedPAK1isactive.pkl\n"
     ]
    },
    {
     "name": "stdout",
     "output_type": "stream",
     "text": [
      "18 of 58: processing 'NF2 binds PAK1.'...\n"
     ]
    },
    {
     "name": "stderr",
     "output_type": "stream",
     "text": [
      "INFO: [2020-11-11 16:17:53] processor - Saving 1 stmts in NF2bindsPAK1.pkl\n"
     ]
    },
    {
     "name": "stdout",
     "output_type": "stream",
     "text": [
      "19 of 58: processing 'Active PAK1 phosphorylates NF2 at S518.'...\n"
     ]
    },
    {
     "name": "stderr",
     "output_type": "stream",
     "text": [
      "INFO: [2020-11-11 16:17:55] processor - Saving 1 stmts in ActivePAK1phosphorylatesNF2atS518.pkl\n"
     ]
    },
    {
     "name": "stdout",
     "output_type": "stream",
     "text": [
      "20 of 58: processing 'NF2 not phosphorylated at S518 is active.'...\n"
     ]
    },
    {
     "name": "stderr",
     "output_type": "stream",
     "text": [
      "INFO: [2020-11-11 16:17:57] processor - Saving 1 stmts in NF2notphosphorylatedatS518isactive.pkl\n"
     ]
    },
    {
     "name": "stdout",
     "output_type": "stream",
     "text": [
      "21 of 58: processing 'PKA phosphorylates NF2 at S518.'...\n"
     ]
    },
    {
     "name": "stderr",
     "output_type": "stream",
     "text": [
      "INFO: [2020-11-11 16:17:58] processor - Saving 1 stmts in PKAphosphorylatesNF2atS518.pkl\n"
     ]
    },
    {
     "name": "stdout",
     "output_type": "stream",
     "text": [
      "22 of 58: processing 'AKT1 phosphorylates NF2 at T230 and S315.'...\n"
     ]
    },
    {
     "name": "stderr",
     "output_type": "stream",
     "text": [
      "INFO: [2020-11-11 16:18:00] processor - Saving 2 stmts in AKT1phosphorylatesNF2atT230andS315.pkl\n"
     ]
    },
    {
     "name": "stdout",
     "output_type": "stream",
     "text": [
      "23 of 58: processing 'NF2 phosphorylated at T230 and S315 is degraded.'...\n"
     ]
    },
    {
     "name": "stderr",
     "output_type": "stream",
     "text": [
      "INFO: [2020-11-11 16:18:01] processor - Saving 1 stmts in NF2phosphorylatedatT230andS315isdegraded.pkl\n"
     ]
    },
    {
     "name": "stdout",
     "output_type": "stream",
     "text": [
      "24 of 58: processing 'Active NF2 binds MAP3K11.'...\n"
     ]
    },
    {
     "name": "stderr",
     "output_type": "stream",
     "text": [
      "INFO: [2020-11-11 16:18:02] processor - Saving 1 stmts in ActiveNF2bindsMAP3K11.pkl\n"
     ]
    },
    {
     "name": "stdout",
     "output_type": "stream",
     "text": [
      "25 of 58: processing 'CDC42 activates MAP3K11 not bound to NF2.'...\n"
     ]
    },
    {
     "name": "stderr",
     "output_type": "stream",
     "text": [
      "INFO: [2020-11-11 16:18:04] processor - Saving 1 stmts in CDC42activatesMAP3K11notboundtoNF2.pkl\n"
     ]
    },
    {
     "name": "stdout",
     "output_type": "stream",
     "text": [
      "26 of 58: processing 'RAC1 activates Wnt.'...\n"
     ]
    },
    {
     "name": "stderr",
     "output_type": "stream",
     "text": [
      "INFO: [2020-11-11 16:18:05] processor - Saving 1 stmts in RAC1activatesWnt.pkl\n"
     ]
    },
    {
     "name": "stdout",
     "output_type": "stream",
     "text": [
      "27 of 58: processing 'KRAS leads to the phosphorylation of LRP6.'...\n"
     ]
    },
    {
     "name": "stderr",
     "output_type": "stream",
     "text": [
      "INFO: [2020-11-11 16:18:10] processor - Saving 1 stmts in KRASleadstothephosphorylationofLRP6.pkl\n"
     ]
    },
    {
     "name": "stdout",
     "output_type": "stream",
     "text": [
      "28 of 58: processing 'Phosphorylated LRP6 activates Wnt.'...\n"
     ]
    },
    {
     "name": "stderr",
     "output_type": "stream",
     "text": [
      "INFO: [2020-11-11 16:18:11] processor - Saving 1 stmts in PhosphorylatedLRP6activatesWnt.pkl\n"
     ]
    },
    {
     "name": "stdout",
     "output_type": "stream",
     "text": [
      "29 of 58: processing 'RAC1 activates JNK.'...\n"
     ]
    },
    {
     "name": "stderr",
     "output_type": "stream",
     "text": [
      "INFO: [2020-11-11 16:18:12] processor - Saving 1 stmts in RAC1activatesJNK.pkl\n"
     ]
    },
    {
     "name": "stdout",
     "output_type": "stream",
     "text": [
      "30 of 58: processing 'SNAI1 not bound to NF2 binds TP53.'...\n"
     ]
    },
    {
     "name": "stderr",
     "output_type": "stream",
     "text": [
      "INFO: [2020-11-11 16:18:15] processor - Saving 1 stmts in SNAI1notboundtoNF2bindsTP53.pkl\n"
     ]
    },
    {
     "name": "stdout",
     "output_type": "stream",
     "text": [
      "31 of 58: processing 'SNAI1 not bound to NF2 inhibits TP53.'...\n"
     ]
    },
    {
     "name": "stderr",
     "output_type": "stream",
     "text": [
      "INFO: [2020-11-11 16:18:17] processor - Saving 1 stmts in SNAI1notboundtoNF2inhibitsTP53.pkl\n"
     ]
    },
    {
     "name": "stdout",
     "output_type": "stream",
     "text": [
      "32 of 58: processing 'TP53 inhibits cell cycle.'...\n"
     ]
    },
    {
     "name": "stderr",
     "output_type": "stream",
     "text": [
      "WARNING: [2020-11-11 16:18:18] processor - No statements for \"TP53 inhibits cell cycle.\"\n"
     ]
    },
    {
     "name": "stdout",
     "output_type": "stream",
     "text": [
      "No statements for \"TP53 inhibits cell cycle.\"\n",
      "33 of 58: processing 'NF2 binds TP53BP2.'...\n"
     ]
    },
    {
     "name": "stderr",
     "output_type": "stream",
     "text": [
      "INFO: [2020-11-11 16:18:20] processor - Saving 1 stmts in NF2bindsTP53BP2.pkl\n"
     ]
    },
    {
     "name": "stdout",
     "output_type": "stream",
     "text": [
      "34 of 58: processing 'YAP1 binds SMAD3.'...\n"
     ]
    },
    {
     "name": "stderr",
     "output_type": "stream",
     "text": [
      "INFO: [2020-11-11 16:18:23] processor - Saving 1 stmts in YAP1bindsSMAD3.pkl\n"
     ]
    },
    {
     "name": "stdout",
     "output_type": "stream",
     "text": [
      "35 of 58: processing 'NF1 binds FBXW7.'...\n"
     ]
    },
    {
     "name": "stderr",
     "output_type": "stream",
     "text": [
      "INFO: [2020-11-11 16:18:26] processor - Saving 1 stmts in NF1bindsFBXW7.pkl\n"
     ]
    },
    {
     "name": "stdout",
     "output_type": "stream",
     "text": [
      "36 of 58: processing 'FBXW7 ubiquitinates NF1.'...\n"
     ]
    },
    {
     "name": "stderr",
     "output_type": "stream",
     "text": [
      "INFO: [2020-11-11 16:18:28] processor - Saving 1 stmts in FBXW7ubiquitinatesNF1.pkl\n"
     ]
    },
    {
     "name": "stdout",
     "output_type": "stream",
     "text": [
      "37 of 58: processing 'Ubiquitinated NF1 is degraded.'...\n"
     ]
    },
    {
     "name": "stderr",
     "output_type": "stream",
     "text": [
      "INFO: [2020-11-11 16:18:30] processor - Saving 1 stmts in UbiquitinatedNF1isdegraded.pkl\n"
     ]
    },
    {
     "name": "stdout",
     "output_type": "stream",
     "text": [
      "38 of 58: processing 'NF2 binds DCAF1.'...\n"
     ]
    },
    {
     "name": "stderr",
     "output_type": "stream",
     "text": [
      "INFO: [2020-11-11 16:18:31] processor - Saving 1 stmts in NF2bindsDCAF1.pkl\n"
     ]
    },
    {
     "name": "stdout",
     "output_type": "stream",
     "text": [
      "39 of 58: processing 'NF2 binds LATS1.'...\n"
     ]
    },
    {
     "name": "stderr",
     "output_type": "stream",
     "text": [
      "INFO: [2020-11-11 16:18:33] processor - Saving 1 stmts in NF2bindsLATS1.pkl\n"
     ]
    },
    {
     "name": "stdout",
     "output_type": "stream",
     "text": [
      "40 of 58: processing 'NF2 binds YAP1.'...\n"
     ]
    },
    {
     "name": "stderr",
     "output_type": "stream",
     "text": [
      "INFO: [2020-11-11 16:18:34] processor - Saving 1 stmts in NF2bindsYAP1.pkl\n"
     ]
    },
    {
     "name": "stdout",
     "output_type": "stream",
     "text": [
      "41 of 58: processing 'LATS1 phosphorylates YAP1 at S127.'...\n"
     ]
    },
    {
     "name": "stderr",
     "output_type": "stream",
     "text": [
      "INFO: [2020-11-11 16:18:36] processor - Saving 1 stmts in LATS1phosphorylatesYAP1atS127.pkl\n"
     ]
    },
    {
     "name": "stdout",
     "output_type": "stream",
     "text": [
      "42 of 58: processing '14-3-3 proteins bind YAP1 phosphorylated at S127.'...\n"
     ]
    },
    {
     "name": "stderr",
     "output_type": "stream",
     "text": [
      "INFO: [2020-11-11 16:18:39] processor - Saving 1 stmts in 14-3-3proteinsbindYAP1phosphorylatedatS127.pkl\n"
     ]
    },
    {
     "name": "stdout",
     "output_type": "stream",
     "text": [
      "43 of 58: processing 'YAP1 not bound to 14-3-3 proteins translocates to the nucleus.'...\n"
     ]
    },
    {
     "name": "stderr",
     "output_type": "stream",
     "text": [
      "INFO: [2020-11-11 16:18:41] processor - Saving 1 stmts in YAP1notboundto14-3-3proteinstranslocatestothenucleus.pkl\n"
     ]
    },
    {
     "name": "stdout",
     "output_type": "stream",
     "text": [
      "44 of 58: processing 'YAP1 in the nucleus binds to TEAD1.'...\n"
     ]
    },
    {
     "name": "stderr",
     "output_type": "stream",
     "text": [
      "INFO: [2020-11-11 16:18:43] processor - Saving 1 stmts in YAP1inthenucleusbindstoTEAD1.pkl\n"
     ]
    },
    {
     "name": "stdout",
     "output_type": "stream",
     "text": [
      "45 of 58: processing 'TEAD1 bound to YAP1 is active.'...\n"
     ]
    },
    {
     "name": "stderr",
     "output_type": "stream",
     "text": [
      "INFO: [2020-11-11 16:18:45] processor - Saving 1 stmts in TEAD1boundtoYAP1isactive.pkl\n"
     ]
    },
    {
     "name": "stdout",
     "output_type": "stream",
     "text": [
      "46 of 58: processing 'NF2 binds LIMK2.'...\n"
     ]
    },
    {
     "name": "stderr",
     "output_type": "stream",
     "text": [
      "INFO: [2020-11-11 16:18:46] processor - Saving 1 stmts in NF2bindsLIMK2.pkl\n"
     ]
    },
    {
     "name": "stdout",
     "output_type": "stream",
     "text": [
      "47 of 58: processing 'ROCK activates LIMK2 not bound to NF2.'...\n"
     ]
    },
    {
     "name": "stderr",
     "output_type": "stream",
     "text": [
      "INFO: [2020-11-11 16:18:48] processor - Saving 1 stmts in ROCKactivatesLIMK2notboundtoNF2.pkl\n"
     ]
    },
    {
     "name": "stdout",
     "output_type": "stream",
     "text": [
      "48 of 58: processing 'LIMK2 phosphorylates Cofilin.'...\n"
     ]
    },
    {
     "name": "stderr",
     "output_type": "stream",
     "text": [
      "INFO: [2020-11-11 16:18:49] processor - Saving 1 stmts in LIMK2phosphorylatesCofilin.pkl\n"
     ]
    },
    {
     "name": "stdout",
     "output_type": "stream",
     "text": [
      "49 of 58: processing 'APP binds NF1.'...\n"
     ]
    },
    {
     "name": "stderr",
     "output_type": "stream",
     "text": [
      "WARNING: [2020-11-11 16:18:50] processor - No statements for \"APP binds NF1.\"\n"
     ]
    },
    {
     "name": "stdout",
     "output_type": "stream",
     "text": [
      "No statements for \"APP binds NF1.\"\n",
      "50 of 58: processing 'GRB10 inhibits RAS.'...\n"
     ]
    },
    {
     "name": "stderr",
     "output_type": "stream",
     "text": [
      "INFO: [2020-11-11 16:18:51] processor - Saving 1 stmts in GRB10inhibitsRAS.pkl\n"
     ]
    },
    {
     "name": "stdout",
     "output_type": "stream",
     "text": [
      "51 of 58: processing 'NF2 binds CTNNA.'...\n"
     ]
    },
    {
     "name": "stderr",
     "output_type": "stream",
     "text": [
      "INFO: [2020-11-11 16:18:52] processor - Saving 1 stmts in NF2bindsCTNNA.pkl\n"
     ]
    },
    {
     "name": "stdout",
     "output_type": "stream",
     "text": [
      "52 of 58: processing 'LAYN binds NF2.'...\n"
     ]
    },
    {
     "name": "stderr",
     "output_type": "stream",
     "text": [
      "INFO: [2020-11-11 16:18:53] processor - Saving 1 stmts in LAYNbindsNF2.pkl\n"
     ]
    },
    {
     "name": "stdout",
     "output_type": "stream",
     "text": [
      "53 of 58: processing 'NF1 binds DDAH1.'...\n"
     ]
    },
    {
     "name": "stderr",
     "output_type": "stream",
     "text": [
      "INFO: [2020-11-11 16:18:53] processor - Saving 1 stmts in NF1bindsDDAH1.pkl\n"
     ]
    },
    {
     "name": "stdout",
     "output_type": "stream",
     "text": [
      "54 of 58: processing 'PKA phosphorylates NF1 bound to DDAH1.'...\n"
     ]
    },
    {
     "name": "stderr",
     "output_type": "stream",
     "text": [
      "INFO: [2020-11-11 16:18:55] processor - Saving 1 stmts in PKAphosphorylatesNF1boundtoDDAH1.pkl\n"
     ]
    },
    {
     "name": "stdout",
     "output_type": "stream",
     "text": [
      "55 of 58: processing 'JNK phosphorylates PXN at S178.'...\n"
     ]
    },
    {
     "name": "stderr",
     "output_type": "stream",
     "text": [
      "INFO: [2020-11-11 16:18:57] processor - Saving 1 stmts in JNKphosphorylatesPXNatS178.pkl\n"
     ]
    },
    {
     "name": "stdout",
     "output_type": "stream",
     "text": [
      "56 of 58: processing 'MDM2 binds TP53.'...\n"
     ]
    },
    {
     "name": "stderr",
     "output_type": "stream",
     "text": [
      "INFO: [2020-11-11 16:18:58] processor - Saving 1 stmts in MDM2bindsTP53.pkl\n"
     ]
    },
    {
     "name": "stdout",
     "output_type": "stream",
     "text": [
      "57 of 58: processing 'MDM2 ubiquitinates TP53.'...\n"
     ]
    },
    {
     "name": "stderr",
     "output_type": "stream",
     "text": [
      "INFO: [2020-11-11 16:18:59] processor - Saving 1 stmts in MDM2ubiquitinatesTP53.pkl\n"
     ]
    },
    {
     "name": "stdout",
     "output_type": "stream",
     "text": [
      "58 of 58: processing 'Ubiquitinated TP53 is degraded.'...\n"
     ]
    },
    {
     "name": "stderr",
     "output_type": "stream",
     "text": [
      "INFO: [2020-11-11 16:19:01] processor - Saving 1 stmts in UbiquitinatedTP53isdegraded.pkl\n"
     ]
    },
    {
     "name": "stdout",
     "output_type": "stream",
     "text": [
      "Processing group 'PI-3-kinase and AKT pathway'...\n",
      "1 of 23: processing 'PIK3CA binds KRAS that is at the membrane.'...\n"
     ]
    },
    {
     "name": "stderr",
     "output_type": "stream",
     "text": [
      "INFO: [2020-11-11 16:19:02] processor - Saving 1 stmts in PIK3CAbindsKRASthatisatthemembrane.pkl\n"
     ]
    },
    {
     "name": "stdout",
     "output_type": "stream",
     "text": [
      "2 of 23: processing 'PIK3CA bound to KRAS is active.'...\n"
     ]
    },
    {
     "name": "stderr",
     "output_type": "stream",
     "text": [
      "INFO: [2020-11-11 16:19:04] processor - Saving 1 stmts in PIK3CAboundtoKRASisactive.pkl\n"
     ]
    },
    {
     "name": "stdout",
     "output_type": "stream",
     "text": [
      "3 of 23: processing 'PIK3CA binds tyrosine-phosphorylated IRS1.'...\n"
     ]
    },
    {
     "name": "stderr",
     "output_type": "stream",
     "text": [
      "INFO: [2020-11-11 16:19:06] processor - Saving 1 stmts in PIK3CAbindstyrosine-phosphorylatedIRS1.pkl\n"
     ]
    },
    {
     "name": "stdout",
     "output_type": "stream",
     "text": [
      "4 of 23: processing 'PIK3CA bound to IRS1 is active.'...\n"
     ]
    },
    {
     "name": "stderr",
     "output_type": "stream",
     "text": [
      "INFO: [2020-11-11 16:19:08] processor - Saving 1 stmts in PIK3CAboundtoIRS1isactive.pkl\n"
     ]
    },
    {
     "name": "stdout",
     "output_type": "stream",
     "text": [
      "5 of 23: processing 'Active PIK3CA produces PIP3, while PTEN degrades PIP3.'...\n"
     ]
    },
    {
     "name": "stderr",
     "output_type": "stream",
     "text": [
      "INFO: [2020-11-11 16:19:11] processor - Saving 2 stmts in ActivePIK3CAproducesPIP3,whilePTENdegradesPIP3.pkl\n"
     ]
    },
    {
     "name": "stdout",
     "output_type": "stream",
     "text": [
      "6 of 23: processing 'PDPK1 binds to PIP3.'...\n"
     ]
    },
    {
     "name": "stderr",
     "output_type": "stream",
     "text": [
      "INFO: [2020-11-11 16:19:12] processor - Saving 1 stmts in PDPK1bindstoPIP3.pkl\n"
     ]
    },
    {
     "name": "stdout",
     "output_type": "stream",
     "text": [
      "7 of 23: processing 'AKT1 binds to PIP3.'...\n"
     ]
    },
    {
     "name": "stderr",
     "output_type": "stream",
     "text": [
      "INFO: [2020-11-11 16:19:13] processor - Saving 1 stmts in AKT1bindstoPIP3.pkl\n"
     ]
    },
    {
     "name": "stdout",
     "output_type": "stream",
     "text": [
      "8 of 23: processing 'PDPK1 bound to PIP3 is active.'...\n"
     ]
    },
    {
     "name": "stderr",
     "output_type": "stream",
     "text": [
      "INFO: [2020-11-11 16:19:15] processor - Saving 1 stmts in PDPK1boundtoPIP3isactive.pkl\n"
     ]
    },
    {
     "name": "stdout",
     "output_type": "stream",
     "text": [
      "9 of 23: processing 'Active PDPK1 phosphorylates AKT1 at T308 bound to PIP3.'...\n"
     ]
    },
    {
     "name": "stderr",
     "output_type": "stream",
     "text": [
      "INFO: [2020-11-11 16:19:18] processor - Saving 1 stmts in ActivePDPK1phosphorylatesAKT1atT308boundtoPIP3.pkl\n"
     ]
    },
    {
     "name": "stdout",
     "output_type": "stream",
     "text": [
      "10 of 23: processing 'PPP2CA dephosphorylates AKT1 at T308.'...\n"
     ]
    },
    {
     "name": "stderr",
     "output_type": "stream",
     "text": [
      "INFO: [2020-11-11 16:19:19] processor - Saving 1 stmts in PPP2CAdephosphorylatesAKT1atT308.pkl\n"
     ]
    },
    {
     "name": "stdout",
     "output_type": "stream",
     "text": [
      "11 of 23: processing 'Active DNAPK phosphorylates AKT1 at S473.'...\n"
     ]
    },
    {
     "name": "stderr",
     "output_type": "stream",
     "text": [
      "INFO: [2020-11-11 16:19:22] processor - Saving 1 stmts in ActiveDNAPKphosphorylatesAKT1atS473.pkl\n"
     ]
    },
    {
     "name": "stdout",
     "output_type": "stream",
     "text": [
      "12 of 23: processing 'PHLPP1 and PHLPP2 dephosphorylate AKT1 at S473.'...\n"
     ]
    },
    {
     "name": "stderr",
     "output_type": "stream",
     "text": [
      "INFO: [2020-11-11 16:19:24] processor - Saving 2 stmts in PHLPP1andPHLPP2dephosphorylateAKT1atS473.pkl\n"
     ]
    },
    {
     "name": "stdout",
     "output_type": "stream",
     "text": [
      "13 of 23: processing 'Active SRC phosphorylates AKT1 at Y315.'...\n"
     ]
    },
    {
     "name": "stderr",
     "output_type": "stream",
     "text": [
      "INFO: [2020-11-11 16:19:26] processor - Saving 1 stmts in ActiveSRCphosphorylatesAKT1atY315.pkl\n"
     ]
    },
    {
     "name": "stdout",
     "output_type": "stream",
     "text": [
      "14 of 23: processing 'AKT1 phosphorylated at T308 is active.'...\n"
     ]
    },
    {
     "name": "stderr",
     "output_type": "stream",
     "text": [
      "INFO: [2020-11-11 16:19:28] processor - Saving 1 stmts in AKT1phosphorylatedatT308isactive.pkl\n"
     ]
    },
    {
     "name": "stdout",
     "output_type": "stream",
     "text": [
      "15 of 23: processing 'AKT1 phosphorylated at Y315 is active.'...\n"
     ]
    },
    {
     "name": "stderr",
     "output_type": "stream",
     "text": [
      "INFO: [2020-11-11 16:19:29] processor - Saving 1 stmts in AKT1phosphorylatedatY315isactive.pkl\n"
     ]
    },
    {
     "name": "stdout",
     "output_type": "stream",
     "text": [
      "16 of 23: processing 'Active AKT1 phosphorylates GSK3A at serine 21.'...\n"
     ]
    },
    {
     "name": "stderr",
     "output_type": "stream",
     "text": [
      "INFO: [2020-11-11 16:19:34] processor - Saving 1 stmts in ActiveAKT1phosphorylatesGSK3Aatserine21.pkl\n"
     ]
    },
    {
     "name": "stdout",
     "output_type": "stream",
     "text": [
      "17 of 23: processing 'GSK3A not phosphorylated at serine 21 is active.'...\n"
     ]
    },
    {
     "name": "stderr",
     "output_type": "stream",
     "text": [
      "INFO: [2020-11-11 16:19:35] processor - Saving 1 stmts in GSK3Anotphosphorylatedatserine21isactive.pkl\n"
     ]
    },
    {
     "name": "stdout",
     "output_type": "stream",
     "text": [
      "18 of 23: processing 'Active AKT1 phosphorylates GSK3B on S9 and S21.'...\n"
     ]
    },
    {
     "name": "stderr",
     "output_type": "stream",
     "text": [
      "INFO: [2020-11-11 16:19:38] processor - Saving 2 stmts in ActiveAKT1phosphorylatesGSK3BonS9andS21.pkl\n"
     ]
    },
    {
     "name": "stdout",
     "output_type": "stream",
     "text": [
      "19 of 23: processing 'GSK3B not phosphorylated on S21 is active.'...\n"
     ]
    },
    {
     "name": "stderr",
     "output_type": "stream",
     "text": [
      "INFO: [2020-11-11 16:19:40] processor - Saving 1 stmts in GSK3BnotphosphorylatedonS21isactive.pkl\n"
     ]
    },
    {
     "name": "stdout",
     "output_type": "stream",
     "text": [
      "20 of 23: processing 'Active GSK3B phosphorylates DPYSL2 on T514, T509, and S518.'...\n"
     ]
    },
    {
     "name": "stderr",
     "output_type": "stream",
     "text": [
      "INFO: [2020-11-11 16:19:42] processor - Saving 3 stmts in ActiveGSK3BphosphorylatesDPYSL2onT514,T509,andS518.pkl\n"
     ]
    },
    {
     "name": "stdout",
     "output_type": "stream",
     "text": [
      "21 of 23: processing 'DPYSL2 not phosphorylated on T514 binds Tubulin.'...\n"
     ]
    },
    {
     "name": "stderr",
     "output_type": "stream",
     "text": [
      "INFO: [2020-11-11 16:19:43] processor - Saving 1 stmts in DPYSL2notphosphorylatedonT514bindsTubulin.pkl\n"
     ]
    },
    {
     "name": "stdout",
     "output_type": "stream",
     "text": [
      "22 of 23: processing 'Tubulin not bound to DPYSL2 is degraded.'...\n"
     ]
    },
    {
     "name": "stderr",
     "output_type": "stream",
     "text": [
      "INFO: [2020-11-11 16:19:44] processor - Saving 1 stmts in TubulinnotboundtoDPYSL2isdegraded.pkl\n"
     ]
    },
    {
     "name": "stdout",
     "output_type": "stream",
     "text": [
      "23 of 23: processing 'DPYSL2 binds STX1A.'...\n"
     ]
    },
    {
     "name": "stderr",
     "output_type": "stream",
     "text": [
      "INFO: [2020-11-11 16:19:45] processor - Saving 1 stmts in DPYSL2bindsSTX1A.pkl\n"
     ]
    },
    {
     "name": "stdout",
     "output_type": "stream",
     "text": [
      "Processing group 'MTOR'...\n",
      "1 of 11: processing 'TSC2 not phosphorylated at S939, T1462, or S1798 binds TSC1.'...\n"
     ]
    },
    {
     "name": "stderr",
     "output_type": "stream",
     "text": [
      "INFO: [2020-11-11 16:19:49] processor - Saving 1 stmts in TSC2notphosphorylatedatS939,T1462,orS1798bindsTSC1.pkl\n"
     ]
    },
    {
     "name": "stdout",
     "output_type": "stream",
     "text": [
      "2 of 11: processing 'TSC2 not bound to TSC1 is degraded.'...\n"
     ]
    },
    {
     "name": "stderr",
     "output_type": "stream",
     "text": [
      "INFO: [2020-11-11 16:19:50] processor - Saving 1 stmts in TSC2notboundtoTSC1isdegraded.pkl\n"
     ]
    },
    {
     "name": "stdout",
     "output_type": "stream",
     "text": [
      "3 of 11: processing 'TSC2 bound to TSC1 is active.'...\n"
     ]
    },
    {
     "name": "stderr",
     "output_type": "stream",
     "text": [
      "INFO: [2020-11-11 16:19:52] processor - Saving 1 stmts in TSC2boundtoTSC1isactive.pkl\n"
     ]
    },
    {
     "name": "stdout",
     "output_type": "stream",
     "text": [
      "4 of 11: processing 'TSC1 bound to TSC2 is active.'...\n"
     ]
    },
    {
     "name": "stderr",
     "output_type": "stream",
     "text": [
      "INFO: [2020-11-11 16:19:54] processor - Saving 1 stmts in TSC1boundtoTSC2isactive.pkl\n"
     ]
    },
    {
     "name": "stdout",
     "output_type": "stream",
     "text": [
      "5 of 11: processing 'Active TSC2 inhibits RHEB.'...\n"
     ]
    },
    {
     "name": "stderr",
     "output_type": "stream",
     "text": [
      "INFO: [2020-11-11 16:19:55] processor - Saving 1 stmts in ActiveTSC2inhibitsRHEB.pkl\n"
     ]
    },
    {
     "name": "stdout",
     "output_type": "stream",
     "text": [
      "6 of 11: processing 'Active RHEB binds MTOR.'...\n"
     ]
    },
    {
     "name": "stderr",
     "output_type": "stream",
     "text": [
      "INFO: [2020-11-11 16:19:57] processor - Saving 1 stmts in ActiveRHEBbindsMTOR.pkl\n"
     ]
    },
    {
     "name": "stdout",
     "output_type": "stream",
     "text": [
      "7 of 11: processing 'Active AKT1 phosphorylates MTOR at S2448.'...\n"
     ]
    },
    {
     "name": "stderr",
     "output_type": "stream",
     "text": [
      "INFO: [2020-11-11 16:19:59] processor - Saving 1 stmts in ActiveAKT1phosphorylatesMTORatS2448.pkl\n"
     ]
    },
    {
     "name": "stdout",
     "output_type": "stream",
     "text": [
      "8 of 11: processing 'MTOR not bound to AKT1S1 is active.'...\n"
     ]
    },
    {
     "name": "stderr",
     "output_type": "stream",
     "text": [
      "INFO: [2020-11-11 16:20:01] processor - Saving 1 stmts in MTORnotboundtoAKT1S1isactive.pkl\n"
     ]
    },
    {
     "name": "stdout",
     "output_type": "stream",
     "text": [
      "9 of 11: processing 'MTOR phosphorylated at S2448 is active.'...\n"
     ]
    },
    {
     "name": "stderr",
     "output_type": "stream",
     "text": [
      "INFO: [2020-11-11 16:20:03] processor - Saving 1 stmts in MTORphosphorylatedatS2448isactive.pkl\n"
     ]
    },
    {
     "name": "stdout",
     "output_type": "stream",
     "text": [
      "10 of 11: processing 'MTOR bound to RHEB is active.'...\n"
     ]
    },
    {
     "name": "stderr",
     "output_type": "stream",
     "text": [
      "INFO: [2020-11-11 16:20:04] processor - Saving 1 stmts in MTORboundtoRHEBisactive.pkl\n"
     ]
    },
    {
     "name": "stdout",
     "output_type": "stream",
     "text": [
      "11 of 11: processing 'Active MTOR inhibits PPP2CA.'...\n"
     ]
    },
    {
     "name": "stderr",
     "output_type": "stream",
     "text": [
      "INFO: [2020-11-11 16:20:05] processor - Saving 1 stmts in ActiveMTORinhibitsPPP2CA.pkl\n"
     ]
    },
    {
     "name": "stdout",
     "output_type": "stream",
     "text": [
      "Processing group 'mTORC1'...\n",
      "1 of 9: processing 'MTOR not bound to RICTOR binds to RPTOR.'...\n"
     ]
    },
    {
     "name": "stderr",
     "output_type": "stream",
     "text": [
      "INFO: [2020-11-11 16:20:07] processor - Saving 1 stmts in MTORnotboundtoRICTORbindstoRPTOR.pkl\n"
     ]
    },
    {
     "name": "stdout",
     "output_type": "stream",
     "text": [
      "2 of 9: processing 'Active MTOR bound to RPTOR phosphorylates RPS6KB1 at T412.'...\n"
     ]
    },
    {
     "name": "stderr",
     "output_type": "stream",
     "text": [
      "INFO: [2020-11-11 16:20:09] processor - Saving 1 stmts in ActiveMTORboundtoRPTORphosphorylatesRPS6KB1atT412.pkl\n"
     ]
    },
    {
     "name": "stdout",
     "output_type": "stream",
     "text": [
      "3 of 9: processing 'Active MTOR bound to RPTOR phosphorylates EIF4EBP1 at T37 and T70.'...\n"
     ]
    },
    {
     "name": "stderr",
     "output_type": "stream",
     "text": [
      "INFO: [2020-11-11 16:20:13] processor - Saving 2 stmts in ActiveMTORboundtoRPTORphosphorylatesEIF4EBP1atT37andT70.pkl\n"
     ]
    },
    {
     "name": "stdout",
     "output_type": "stream",
     "text": [
      "4 of 9: processing 'RPS6KB1 phosphorylated at T412 is active.'...\n"
     ]
    },
    {
     "name": "stderr",
     "output_type": "stream",
     "text": [
      "INFO: [2020-11-11 16:20:14] processor - Saving 1 stmts in RPS6KB1phosphorylatedatT412isactive.pkl\n"
     ]
    },
    {
     "name": "stdout",
     "output_type": "stream",
     "text": [
      "5 of 9: processing 'EIF4EBP1 not phosphorylated at T37 is active.'...\n"
     ]
    },
    {
     "name": "stderr",
     "output_type": "stream",
     "text": [
      "INFO: [2020-11-11 16:20:16] processor - Saving 1 stmts in EIF4EBP1notphosphorylatedatT37isactive.pkl\n"
     ]
    },
    {
     "name": "stdout",
     "output_type": "stream",
     "text": [
      "6 of 9: processing 'Active MAPK1 phosphorylates EIF4EBP1 at S65.'...\n"
     ]
    },
    {
     "name": "stderr",
     "output_type": "stream",
     "text": [
      "INFO: [2020-11-11 16:20:17] processor - Saving 1 stmts in ActiveMAPK1phosphorylatesEIF4EBP1atS65.pkl\n"
     ]
    },
    {
     "name": "stdout",
     "output_type": "stream",
     "text": [
      "7 of 9: processing 'Active EIF4EBP1 inhibits EIF4E.'...\n"
     ]
    },
    {
     "name": "stderr",
     "output_type": "stream",
     "text": [
      "INFO: [2020-11-11 16:20:19] processor - Saving 1 stmts in ActiveEIF4EBP1inhibitsEIF4E.pkl\n"
     ]
    },
    {
     "name": "stdout",
     "output_type": "stream",
     "text": [
      "8 of 9: processing 'EIF4E increases translational initiation.'...\n"
     ]
    },
    {
     "name": "stderr",
     "output_type": "stream",
     "text": [
      "WARNING: [2020-11-11 16:20:22] processor - No statements for \"EIF4E increases translational initiation.\"\n"
     ]
    },
    {
     "name": "stdout",
     "output_type": "stream",
     "text": [
      "No statements for \"EIF4E increases translational initiation.\"\n",
      "9 of 9: processing 'EIF4E increases cell proliferation.'...\n"
     ]
    },
    {
     "name": "stderr",
     "output_type": "stream",
     "text": [
      "INFO: [2020-11-11 16:20:25] processor - Saving 1 stmts in EIF4Eincreasescellproliferation.pkl\n"
     ]
    },
    {
     "name": "stdout",
     "output_type": "stream",
     "text": [
      "Processing group 'mTORC2'...\n",
      "1 of 2: processing 'MTOR not bound to RPTOR binds to RICTOR.'...\n"
     ]
    },
    {
     "name": "stderr",
     "output_type": "stream",
     "text": [
      "INFO: [2020-11-11 16:20:28] processor - Saving 1 stmts in MTORnotboundtoRPTORbindstoRICTOR.pkl\n"
     ]
    },
    {
     "name": "stdout",
     "output_type": "stream",
     "text": [
      "2 of 2: processing 'Active MTOR bound to RICTOR phosphorylates AKT1 at S473.'...\n"
     ]
    },
    {
     "name": "stderr",
     "output_type": "stream",
     "text": [
      "INFO: [2020-11-11 16:20:30] processor - Saving 1 stmts in ActiveMTORboundtoRICTORphosphorylatesAKT1atS473.pkl\n"
     ]
    },
    {
     "name": "stdout",
     "output_type": "stream",
     "text": [
      "Processing group 'AKT1S1'...\n",
      "1 of 3: processing 'Active AKT1 phosphorylates AKT1S1 at T246.'...\n"
     ]
    },
    {
     "name": "stderr",
     "output_type": "stream",
     "text": [
      "INFO: [2020-11-11 16:20:31] processor - Saving 1 stmts in ActiveAKT1phosphorylatesAKT1S1atT246.pkl\n"
     ]
    },
    {
     "name": "stdout",
     "output_type": "stream",
     "text": [
      "2 of 3: processing 'AKT1S1 phosphorylated at T246 binds 14-3-3 proteins.'...\n"
     ]
    },
    {
     "name": "stderr",
     "output_type": "stream",
     "text": [
      "INFO: [2020-11-11 16:20:33] processor - Saving 1 stmts in AKT1S1phosphorylatedatT246binds14-3-3proteins.pkl\n"
     ]
    },
    {
     "name": "stdout",
     "output_type": "stream",
     "text": [
      "3 of 3: processing 'AKT1S1 not bound to 14-3-3 proteins binds to MTOR.'...\n"
     ]
    },
    {
     "name": "stderr",
     "output_type": "stream",
     "text": [
      "INFO: [2020-11-11 16:20:36] processor - Saving 1 stmts in AKT1S1notboundto14-3-3proteinsbindstoMTOR.pkl\n"
     ]
    },
    {
     "name": "stdout",
     "output_type": "stream",
     "text": [
      "Processing group 'MAPK substrates and effectors'...\n",
      "1 of 8: processing 'Active MAPK1 phosphorylates ELK1 at S383 and S389.'...\n"
     ]
    },
    {
     "name": "stderr",
     "output_type": "stream",
     "text": [
      "INFO: [2020-11-11 16:20:41] processor - Saving 2 stmts in ActiveMAPK1phosphorylatesELK1atS383andS389.pkl\n"
     ]
    },
    {
     "name": "stdout",
     "output_type": "stream",
     "text": [
      "2 of 8: processing 'ELK1 phosphorylated at S383 and S389 is active.'...\n"
     ]
    },
    {
     "name": "stderr",
     "output_type": "stream",
     "text": [
      "INFO: [2020-11-11 16:20:44] processor - Saving 1 stmts in ELK1phosphorylatedatS383andS389isactive.pkl\n"
     ]
    },
    {
     "name": "stdout",
     "output_type": "stream",
     "text": [
      "3 of 8: processing 'Active MAPK1 phosphorylates ETS1 at T38.'...\n"
     ]
    },
    {
     "name": "stderr",
     "output_type": "stream",
     "text": [
      "INFO: [2020-11-11 16:20:47] processor - Saving 1 stmts in ActiveMAPK1phosphorylatesETS1atT38.pkl\n"
     ]
    },
    {
     "name": "stdout",
     "output_type": "stream",
     "text": [
      "4 of 8: processing 'ETS1 phosphorylated at T38 is active.'...\n"
     ]
    },
    {
     "name": "stderr",
     "output_type": "stream",
     "text": [
      "INFO: [2020-11-11 16:20:49] processor - Saving 1 stmts in ETS1phosphorylatedatT38isactive.pkl\n"
     ]
    },
    {
     "name": "stdout",
     "output_type": "stream",
     "text": [
      "5 of 8: processing 'Active MAPK1 phosphorylates CCND1 on T286.'...\n"
     ]
    },
    {
     "name": "stderr",
     "output_type": "stream",
     "text": [
      "INFO: [2020-11-11 16:20:52] processor - Saving 1 stmts in ActiveMAPK1phosphorylatesCCND1onT286.pkl\n"
     ]
    },
    {
     "name": "stdout",
     "output_type": "stream",
     "text": [
      "6 of 8: processing 'Active MAPK1 phosphorylates SMAD3.'...\n"
     ]
    },
    {
     "name": "stderr",
     "output_type": "stream",
     "text": [
      "INFO: [2020-11-11 16:20:53] processor - Saving 1 stmts in ActiveMAPK1phosphorylatesSMAD3.pkl\n"
     ]
    },
    {
     "name": "stdout",
     "output_type": "stream",
     "text": [
      "7 of 8: processing 'Phosphorylated SMAD3 binds SMAD4.'...\n"
     ]
    },
    {
     "name": "stderr",
     "output_type": "stream",
     "text": [
      "INFO: [2020-11-11 16:20:55] processor - Saving 1 stmts in PhosphorylatedSMAD3bindsSMAD4.pkl\n"
     ]
    },
    {
     "name": "stdout",
     "output_type": "stream",
     "text": [
      "8 of 8: processing 'SMAD3 bound to SMAD4 is active.'...\n"
     ]
    },
    {
     "name": "stderr",
     "output_type": "stream",
     "text": [
      "INFO: [2020-11-11 16:20:57] processor - Saving 1 stmts in SMAD3boundtoSMAD4isactive.pkl\n"
     ]
    },
    {
     "name": "stdout",
     "output_type": "stream",
     "text": [
      "Processing group 'SRC substrates'...\n",
      "1 of 5: processing 'PTK2 phosphorylates itself on Y397.'...\n"
     ]
    },
    {
     "name": "stderr",
     "output_type": "stream",
     "text": [
      "INFO: [2020-11-11 16:20:58] processor - Saving 1 stmts in PTK2phosphorylatesitselfonY397.pkl\n"
     ]
    },
    {
     "name": "stdout",
     "output_type": "stream",
     "text": [
      "2 of 5: processing 'SRC binds PTK2 phosphorylated on Y397.'...\n"
     ]
    },
    {
     "name": "stderr",
     "output_type": "stream",
     "text": [
      "INFO: [2020-11-11 16:20:59] processor - Saving 1 stmts in SRCbindsPTK2phosphorylatedonY397.pkl\n"
     ]
    },
    {
     "name": "stdout",
     "output_type": "stream",
     "text": [
      "3 of 5: processing 'SRC bound to PTK2 phosphorylates PTK2 on Y576, Y577, and Y925.'...\n"
     ]
    },
    {
     "name": "stderr",
     "output_type": "stream",
     "text": [
      "INFO: [2020-11-11 16:21:02] processor - Saving 3 stmts in SRCboundtoPTK2phosphorylatesPTK2onY576,Y577,andY925.pkl\n"
     ]
    },
    {
     "name": "stdout",
     "output_type": "stream",
     "text": [
      "4 of 5: processing 'GRB2 binds to PTK2 phosphorylated on Y925.'...\n"
     ]
    },
    {
     "name": "stderr",
     "output_type": "stream",
     "text": [
      "INFO: [2020-11-11 16:21:03] processor - Saving 1 stmts in GRB2bindstoPTK2phosphorylatedonY925.pkl\n"
     ]
    },
    {
     "name": "stdout",
     "output_type": "stream",
     "text": [
      "5 of 5: processing 'GRB2 bound to PTK2 translocates to the membrane.'...\n"
     ]
    },
    {
     "name": "stderr",
     "output_type": "stream",
     "text": [
      "INFO: [2020-11-11 16:21:05] processor - Saving 1 stmts in GRB2boundtoPTK2translocatestothemembrane.pkl\n"
     ]
    },
    {
     "name": "stdout",
     "output_type": "stream",
     "text": [
      "Processing group 'DUSPs'...\n",
      "1 of 1: processing 'Active MAPK1 phosphorylates DUSP6 on S159.'...\n"
     ]
    },
    {
     "name": "stderr",
     "output_type": "stream",
     "text": [
      "INFO: [2020-11-11 16:21:07] processor - Saving 1 stmts in ActiveMAPK1phosphorylatesDUSP6onS159.pkl\n"
     ]
    },
    {
     "name": "stdout",
     "output_type": "stream",
     "text": [
      "Processing group 'Induction of immediate early genes'...\n",
      "1 of 10: processing 'ELK1 translocates to the nucleus.'...\n"
     ]
    },
    {
     "name": "stderr",
     "output_type": "stream",
     "text": [
      "INFO: [2020-11-11 16:21:08] processor - Saving 1 stmts in ELK1translocatestothenucleus.pkl\n"
     ]
    },
    {
     "name": "stdout",
     "output_type": "stream",
     "text": [
      "2 of 10: processing 'Active ELK1 in the nucleus transcribes FOS.'...\n"
     ]
    },
    {
     "name": "stderr",
     "output_type": "stream",
     "text": [
      "INFO: [2020-11-11 16:21:10] processor - Saving 1 stmts in ActiveELK1inthenucleustranscribesFOS.pkl\n"
     ]
    },
    {
     "name": "stdout",
     "output_type": "stream",
     "text": [
      "3 of 10: processing 'PPP3CA dephosphorylates ELK1 at S383.'...\n"
     ]
    },
    {
     "name": "stderr",
     "output_type": "stream",
     "text": [
      "INFO: [2020-11-11 16:21:13] processor - Saving 1 stmts in PPP3CAdephosphorylatesELK1atS383.pkl\n"
     ]
    },
    {
     "name": "stdout",
     "output_type": "stream",
     "text": [
      "4 of 10: processing 'FOS binds to JUN.'...\n"
     ]
    },
    {
     "name": "stderr",
     "output_type": "stream",
     "text": [
      "INFO: [2020-11-11 16:21:14] processor - Saving 1 stmts in FOSbindstoJUN.pkl\n"
     ]
    },
    {
     "name": "stdout",
     "output_type": "stream",
     "text": [
      "5 of 10: processing 'FOS bound to JUN transcribes CCND1.'...\n"
     ]
    },
    {
     "name": "stderr",
     "output_type": "stream",
     "text": [
      "INFO: [2020-11-11 16:21:16] processor - Saving 1 stmts in FOSboundtoJUNtranscribesCCND1.pkl\n"
     ]
    },
    {
     "name": "stdout",
     "output_type": "stream",
     "text": [
      "6 of 10: processing 'CCND1 binds to CDK4.'...\n"
     ]
    },
    {
     "name": "stderr",
     "output_type": "stream",
     "text": [
      "INFO: [2020-11-11 16:21:18] processor - Saving 1 stmts in CCND1bindstoCDK4.pkl\n"
     ]
    },
    {
     "name": "stdout",
     "output_type": "stream",
     "text": [
      "7 of 10: processing 'CDK4 bound to CCND1 phosphorylates RB1 at S807.'...\n"
     ]
    },
    {
     "name": "stderr",
     "output_type": "stream",
     "text": [
      "INFO: [2020-11-11 16:21:20] processor - Saving 1 stmts in CDK4boundtoCCND1phosphorylatesRB1atS807.pkl\n"
     ]
    },
    {
     "name": "stdout",
     "output_type": "stream",
     "text": [
      "8 of 10: processing 'RB1 not phosphorylated at S807 is active.'...\n"
     ]
    },
    {
     "name": "stderr",
     "output_type": "stream",
     "text": [
      "INFO: [2020-11-11 16:21:22] processor - Saving 1 stmts in RB1notphosphorylatedatS807isactive.pkl\n"
     ]
    },
    {
     "name": "stdout",
     "output_type": "stream",
     "text": [
      "9 of 10: processing 'Active RB1 inhibits cell proliferation.'...\n"
     ]
    },
    {
     "name": "stderr",
     "output_type": "stream",
     "text": [
      "INFO: [2020-11-11 16:21:24] processor - Saving 1 stmts in ActiveRB1inhibitscellproliferation.pkl\n"
     ]
    },
    {
     "name": "stdout",
     "output_type": "stream",
     "text": [
      "10 of 10: processing 'Active RB1 inhibits cell cycle.'...\n"
     ]
    },
    {
     "name": "stderr",
     "output_type": "stream",
     "text": [
      "WARNING: [2020-11-11 16:21:25] processor - No statements for \"Active RB1 inhibits cell cycle.\"\n"
     ]
    },
    {
     "name": "stdout",
     "output_type": "stream",
     "text": [
      "No statements for \"Active RB1 inhibits cell cycle.\"\n",
      "Processing group 'Downstream of mTOR'...\n",
      "1 of 3: processing 'Active MAPK1 phosphorylates RPS6KB1 at T444.'...\n"
     ]
    },
    {
     "name": "stderr",
     "output_type": "stream",
     "text": [
      "INFO: [2020-11-11 16:21:27] processor - Saving 1 stmts in ActiveMAPK1phosphorylatesRPS6KB1atT444.pkl\n"
     ]
    },
    {
     "name": "stdout",
     "output_type": "stream",
     "text": [
      "2 of 3: processing 'Active RPS6KB1 phosphorylates RPS6 at S235 and S240.'...\n"
     ]
    },
    {
     "name": "stderr",
     "output_type": "stream",
     "text": [
      "INFO: [2020-11-11 16:21:29] processor - Saving 2 stmts in ActiveRPS6KB1phosphorylatesRPS6atS235andS240.pkl\n"
     ]
    },
    {
     "name": "stdout",
     "output_type": "stream",
     "text": [
      "3 of 3: processing 'RPS6 phosphorylated at S235 and S240 is active.'...\n"
     ]
    },
    {
     "name": "stderr",
     "output_type": "stream",
     "text": [
      "INFO: [2020-11-11 16:21:31] processor - Saving 1 stmts in RPS6phosphorylatedatS235andS240isactive.pkl\n"
     ]
    },
    {
     "name": "stdout",
     "output_type": "stream",
     "text": [
      "Processing group 'Protein Kinase C'...\n",
      "1 of 4: processing 'Active PRKCA phosphorylates GSK3A at serine 21.'...\n"
     ]
    },
    {
     "name": "stderr",
     "output_type": "stream",
     "text": [
      "INFO: [2020-11-11 16:21:32] processor - Saving 1 stmts in ActivePRKCAphosphorylatesGSK3Aatserine21.pkl\n"
     ]
    },
    {
     "name": "stdout",
     "output_type": "stream",
     "text": [
      "2 of 4: processing 'Active PRKCA phosphorylates PEBP1 at S153.'...\n"
     ]
    },
    {
     "name": "stderr",
     "output_type": "stream",
     "text": [
      "INFO: [2020-11-11 16:21:34] processor - Saving 1 stmts in ActivePRKCAphosphorylatesPEBP1atS153.pkl\n"
     ]
    },
    {
     "name": "stdout",
     "output_type": "stream",
     "text": [
      "3 of 4: processing 'Active PRKCA phosphorylates NF1 on serine.'...\n"
     ]
    },
    {
     "name": "stderr",
     "output_type": "stream",
     "text": [
      "INFO: [2020-11-11 16:21:35] processor - Saving 1 stmts in ActivePRKCAphosphorylatesNF1onserine.pkl\n"
     ]
    },
    {
     "name": "stdout",
     "output_type": "stream",
     "text": [
      "4 of 4: processing 'Active RPS6KA1 phosphorylates RPS6 at S235.'...\n"
     ]
    },
    {
     "name": "stderr",
     "output_type": "stream",
     "text": [
      "INFO: [2020-11-11 16:21:36] processor - Saving 1 stmts in ActiveRPS6KA1phosphorylatesRPS6atS235.pkl\n"
     ]
    },
    {
     "name": "stdout",
     "output_type": "stream",
     "text": [
      "Processing group 'Rac family GTPases'...\n",
      "1 of 3: processing 'Active SRC phosphorylates TIAM1.'...\n"
     ]
    },
    {
     "name": "stderr",
     "output_type": "stream",
     "text": [
      "INFO: [2020-11-11 16:21:38] processor - Saving 1 stmts in ActiveSRCphosphorylatesTIAM1.pkl\n"
     ]
    },
    {
     "name": "stdout",
     "output_type": "stream",
     "text": [
      "2 of 3: processing 'Phosphorylated TIAM1 is active.'...\n"
     ]
    },
    {
     "name": "stderr",
     "output_type": "stream",
     "text": [
      "INFO: [2020-11-11 16:21:39] processor - Saving 1 stmts in PhosphorylatedTIAM1isactive.pkl\n"
     ]
    },
    {
     "name": "stdout",
     "output_type": "stream",
     "text": [
      "3 of 3: processing 'Active TIAM1 activates RAC1.'...\n"
     ]
    },
    {
     "name": "stderr",
     "output_type": "stream",
     "text": [
      "INFO: [2020-11-11 16:21:40] processor - Saving 1 stmts in ActiveTIAM1activatesRAC1.pkl\n"
     ]
    },
    {
     "name": "stdout",
     "output_type": "stream",
     "text": [
      "Processing group 'Miscellaneous'...\n",
      "1 of 2: processing 'Unphosphorylated PEBP1 binds RAF1.'...\n"
     ]
    },
    {
     "name": "stderr",
     "output_type": "stream",
     "text": [
      "INFO: [2020-11-11 16:21:41] processor - Saving 1 stmts in UnphosphorylatedPEBP1bindsRAF1.pkl\n"
     ]
    },
    {
     "name": "stdout",
     "output_type": "stream",
     "text": [
      "2 of 2: processing 'RAF1 not bound to PEBP1 is active.'...\n"
     ]
    },
    {
     "name": "stderr",
     "output_type": "stream",
     "text": [
      "INFO: [2020-11-11 16:21:43] processor - Saving 1 stmts in RAF1notboundtoPEBP1isactive.pkl\n",
      "INFO: [2020-11-11 16:21:43] indra.tools.assemble_corpus - Dumping 210 statements into ras_nf_stmts.pkl...\n"
     ]
    }
   ],
   "source": [
    "model_text_file = 'ras_nf_model.rst'\n",
    "stmt_output_file = 'ras_nf_stmts.pkl'\n",
    "\n",
    "nlmp = NlModelProcessor(model_text_file, cache_dir='cache', trips_endpoint='drum-dev')\n",
    "ras_stmts = nlmp.get_statements(stmt_output_file)"
   ]
  },
  {
   "cell_type": "markdown",
   "metadata": {},
   "source": [
    "Let's see how many statements we have:"
   ]
  },
  {
   "cell_type": "code",
   "execution_count": 10,
   "metadata": {},
   "outputs": [
    {
     "data": {
      "text/plain": [
       "210"
      ]
     },
     "execution_count": 10,
     "metadata": {},
     "output_type": "execute_result"
    }
   ],
   "source": [
    "len(ras_stmts)"
   ]
  },
  {
   "cell_type": "markdown",
   "metadata": {},
   "source": [
    "The NLP system we're using for this, called TRIPS (developed by the Institute for Human and Machine Cognition, IHMC), sometimes grounds the text \"NF1\" as a cell line instead of as the gene/protein. So we fix that here using the INDRA `map_grounding` function."
   ]
  },
  {
   "cell_type": "code",
   "execution_count": 15,
   "metadata": {},
   "outputs": [
    {
     "name": "stderr",
     "output_type": "stream",
     "text": [
      "INFO: [2020-11-11 16:28:00] indra.preassembler.grounding_mapper.disambiguate - Adeft will not be available for grounding disambiguation.\n",
      "INFO: [2020-11-11 16:28:00] indra.preassembler.grounding_mapper.disambiguate - INDRA DB is not available for text content retrieval for grounding disambiguation.\n",
      "INFO: [2020-11-11 16:28:00] indra.tools.assemble_corpus - Mapping grounding on 210 statements...\n",
      "INFO: [2020-11-11 16:28:00] indra.preassembler.grounding_mapper.disambiguate - INDRA DB is not available for text content retrieval for grounding disambiguation.\n",
      "INFO: [2020-11-11 16:28:00] indra.ontology.bio.ontology - Loading INDRA bio ontology from cache at /Users/johnbachman/.indra/bio_ontology/1.4/bio_ontology.pkl\n",
      "INFO: [2020-11-11 16:28:07] indra.preassembler.grounding_mapper.mapper - 0 statements filtered out\n"
     ]
    }
   ],
   "source": [
    "# Grounding map the statements\n",
    "grounding_map = {'NF1': {'HGNC': '7765'}}\n",
    "ras_stmts = ac.map_grounding(ras_stmts, do_rename=True, grounding_map=grounding_map)"
   ]
  },
  {
   "cell_type": "markdown",
   "metadata": {},
   "source": [
    "To deploy the model in EMMAA, we would then run the following script:\n",
    "\n",
    "    `python scripts/emmaa_model_from_statements.py -"
   ]
  },
  {
   "cell_type": "markdown",
   "metadata": {},
   "source": [
    "## Assembling an executable PySB model"
   ]
  },
  {
   "cell_type": "markdown",
   "metadata": {},
   "source": [
    "To explain the claims that we extracted from the text mined NF model, we take our detailed natural language model and assemble it into a rule-based executable model using INDRA and PySB. For more on PySB see our previous paper:\n",
    "\n",
    "Lopez C.F.\\*, Muhlich J.L.\\*, Bachman J.A.\\*, Sorger P.K. Programming biological models in Python using PySB (2013), Molecular Systems Biology, 9, 646. (https://www.embopress.org/doi/full/10.1038/msb.2013.1)"
   ]
  },
  {
   "cell_type": "code",
   "execution_count": 19,
   "metadata": {},
   "outputs": [],
   "source": [
    "ras_stmts = stmts"
   ]
  },
  {
   "cell_type": "code",
   "execution_count": 21,
   "metadata": {},
   "outputs": [
    {
     "name": "stderr",
     "output_type": "stream",
     "text": [
      "INFO: [2020-11-11 16:46:54] indra.assemblers.pysb.assembler - Using default assembly policy.\n"
     ]
    },
    {
     "name": "stdout",
     "output_type": "stream",
     "text": [
      "Getting parents for ('HGNC', '20249')\n",
      "Getting parents for ('HGNC', '7765')\n",
      "Getting parents for ('HGNC', '11714')\n",
      "Getting parents for ('HGNC', '16262')\n",
      "Getting parents for ('HGNC', '8975')\n",
      "Getting parents for ('HGNC', '6407')\n",
      "Getting parents for ('HGNC', '8975')\n",
      "Getting parents for ('HGNC', '6125')\n",
      "Getting parents for ('HGNC', '8816')\n",
      "Getting parents for ('HGNC', '8993')\n",
      "Getting parents for ('HGNC', '12363')\n",
      "Getting parents for ('HGNC', '12362')\n",
      "Getting parents for ('HGNC', '12362')\n",
      "Getting parents for ('HGNC', '12363')\n",
      "Getting parents for ('HGNC', '3942')\n",
      "Getting parents for ('HGNC', '28426')\n",
      "Getting parents for ('HGNC', '3942')\n",
      "Getting parents for ('HGNC', '10011')\n",
      "Getting parents for ('HGNC', '6769')\n",
      "Getting parents for ('HGNC', '6770')\n",
      "Getting parents for ('HGNC', '9829')\n",
      "Getting parents for ('HGNC', '8630')\n",
      "Getting parents for ('HGNC', '3942')\n",
      "Getting parents for ('HGNC', '30287')\n",
      "Getting parents for ('HGNC', '3942')\n",
      "Getting parents for ('HGNC', '30287')\n",
      "Getting parents for ('HGNC', '3942')\n",
      "Getting parents for ('HGNC', '30287')\n",
      "Getting parents for ('HGNC', '3942')\n",
      "Getting parents for ('HGNC', '28611')\n",
      "Getting parents for ('HGNC', '3236')\n",
      "Getting parents for ('HGNC', '3229')\n",
      "Getting parents for ('HGNC', '3236')\n",
      "Getting parents for ('HGNC', '3229')\n",
      "Getting parents for ('HGNC', '3236')\n",
      "Getting parents for ('HGNC', '3236')\n",
      "Getting parents for ('HGNC', '3229')\n",
      "Getting parents for ('HGNC', '3236')\n",
      "Getting parents for ('HGNC', '3236')\n",
      "Getting parents for ('HGNC', '3236')\n",
      "Getting parents for ('HGNC', '3236')\n",
      "Getting parents for ('HGNC', '3236')\n",
      "Getting parents for ('HGNC', '3236')\n",
      "Getting parents for ('HGNC', '3236')\n",
      "Getting parents for ('HGNC', '3236')\n",
      "Getting parents for ('HGNC', '3236')\n",
      "Getting parents for ('HGNC', '3236')\n",
      "Getting parents for ('HGNC', '3236')\n",
      "Getting parents for ('HGNC', '3236')\n",
      "Getting parents for ('HGNC', '3236')\n",
      "Getting parents for ('HGNC', '3236')\n",
      "Getting parents for ('HGNC', '3236')\n",
      "Getting parents for ('HGNC', '3236')\n",
      "Getting parents for ('HGNC', '3236')\n",
      "Getting parents for ('HGNC', '3236')\n",
      "Getting parents for ('HGNC', '3236')\n",
      "Getting parents for ('HGNC', '5465')\n",
      "Getting parents for ('HGNC', '5465')\n",
      "Getting parents for ('HGNC', '5465')\n",
      "Getting parents for ('HGNC', '5465')\n",
      "Getting parents for ('HGNC', '8975')\n",
      "Getting parents for ('HGNC', '6125')\n",
      "Getting parents for ('HGNC', '3236')\n",
      "Getting parents for ('HGNC', '4566')\n",
      "Getting parents for ('HGNC', '3236')\n",
      "Getting parents for ('HGNC', '10840')\n",
      "Getting parents for ('HGNC', '10840')\n",
      "Getting parents for ('HGNC', '10840')\n",
      "Getting parents for ('HGNC', '3236')\n",
      "Getting parents for ('HGNC', '4566')\n",
      "Getting parents for ('HGNC', '4566')\n",
      "Getting parents for ('HGNC', '3236')\n",
      "Getting parents for ('HGNC', '4566')\n",
      "Getting parents for ('HGNC', '10840')\n",
      "Getting parents for ('HGNC', '4566')\n",
      "Getting parents for ('HGNC', '11187')\n",
      "Getting parents for ('HGNC', '11187')\n",
      "Getting parents for ('HGNC', '4566')\n",
      "Getting parents for ('HGNC', '6125')\n",
      "Getting parents for ('HGNC', '11187')\n",
      "Getting parents for ('HGNC', '11187')\n",
      "Getting parents for ('HGNC', '6125')\n",
      "Getting parents for ('HGNC', '3236')\n",
      "Getting parents for ('HGNC', '11187')\n",
      "Getting parents for ('HGNC', '11187')\n",
      "Getting parents for ('HGNC', '3236')\n",
      "Getting parents for ('HGNC', '1097')\n",
      "Getting parents for ('HGNC', '6407')\n",
      "Getting parents for ('HGNC', '9829')\n",
      "Getting parents for ('HGNC', '6407')\n",
      "Getting parents for ('HGNC', '1097')\n",
      "Getting parents for ('HGNC', '6407')\n",
      "Getting parents for ('HGNC', '9829')\n",
      "Getting parents for ('HGNC', '6407')\n",
      "Getting parents for ('HGNC', '9829')\n",
      "Getting parents for ('HGNC', '8630')\n",
      "Getting parents for ('HGNC', '9829')\n",
      "Getting parents for ('HGNC', '8630')\n",
      "Getting parents for ('HGNC', '20249')\n",
      "Getting parents for ('HGNC', '7765')\n",
      "Getting parents for ('HGNC', '7765')\n",
      "Getting parents for ('HGNC', '20249')\n",
      "Getting parents for ('HGNC', '7765')\n",
      "Getting parents for ('HGNC', '3014')\n",
      "Getting parents for ('HGNC', '7765')\n",
      "Getting parents for ('HGNC', '12666')\n",
      "Getting parents for ('HGNC', '7765')\n",
      "Getting parents for ('HGNC', '9611')\n",
      "Getting parents for ('HGNC', '7765')\n",
      "Getting parents for ('HGNC', '17810')\n",
      "Getting parents for ('HGNC', '7773')\n",
      "Getting parents for ('HGNC', '17810')\n",
      "Getting parents for ('HGNC', '17810')\n",
      "Getting parents for ('HGNC', '7773')\n",
      "Getting parents for ('HGNC', '18239')\n",
      "Getting parents for ('HGNC', '18239')\n",
      "Getting parents for ('HGNC', '17810')\n",
      "Getting parents for ('HGNC', '18239')\n",
      "Getting parents for ('HGNC', '17810')\n",
      "Getting parents for ('HGNC', '1736')\n",
      "Getting parents for ('HGNC', '8590')\n",
      "Getting parents for ('HGNC', '8590')\n",
      "Getting parents for ('HGNC', '1736')\n",
      "Getting parents for ('HGNC', '9801')\n",
      "Getting parents for ('HGNC', '8590')\n",
      "Getting parents for ('HGNC', '8590')\n",
      "Getting parents for ('HGNC', '9801')\n",
      "Getting parents for ('HGNC', '8590')\n",
      "Getting parents for ('HGNC', '7773')\n",
      "Getting parents for ('HGNC', '6850')\n",
      "Getting parents for ('HGNC', '7773')\n",
      "Getting parents for ('HGNC', '6850')\n",
      "Getting parents for ('HGNC', '7773')\n",
      "Getting parents for ('HGNC', '11128')\n",
      "Getting parents for ('HGNC', '7773')\n",
      "Getting parents for ('HGNC', '11998')\n",
      "Getting parents for ('HGNC', '11128')\n",
      "Getting parents for ('HGNC', '11128')\n",
      "Getting parents for ('HGNC', '7773')\n",
      "Getting parents for ('HGNC', '12000')\n",
      "Getting parents for ('HGNC', '7773')\n",
      "Getting parents for ('HGNC', '6769')\n",
      "Getting parents for ('HGNC', '16262')\n",
      "Getting parents for ('HGNC', '16712')\n",
      "Getting parents for ('HGNC', '7765')\n",
      "Getting parents for ('HGNC', '30911')\n",
      "Getting parents for ('HGNC', '7773')\n",
      "Getting parents for ('HGNC', '6514')\n",
      "Getting parents for ('HGNC', '7773')\n",
      "Getting parents for ('HGNC', '16262')\n",
      "Getting parents for ('HGNC', '7773')\n",
      "Getting parents for ('HGNC', '16262')\n",
      "Getting parents for ('HGNC', '16262')\n",
      "Getting parents for ('HGNC', '11714')\n",
      "Getting parents for ('HGNC', '16262')\n",
      "Getting parents for ('HGNC', '11714')\n",
      "Getting parents for ('HGNC', '16262')\n",
      "Getting parents for ('HGNC', '16262')\n",
      "Getting parents for ('HGNC', '6614')\n",
      "Getting parents for ('HGNC', '7773')\n",
      "Getting parents for ('HGNC', '6614')\n",
      "Getting parents for ('HGNC', '7773')\n",
      "Getting parents for ('FPLX', 'CTNNA')\n",
      "Getting parents for ('HGNC', '7773')\n",
      "Getting parents for ('HGNC', '7773')\n",
      "Getting parents for ('HGNC', '29471')\n",
      "Getting parents for ('HGNC', '2715')\n",
      "Getting parents for ('HGNC', '7765')\n",
      "Getting parents for ('HGNC', '7765')\n",
      "Getting parents for ('HGNC', '2715')\n",
      "Getting parents for ('HGNC', '11998')\n",
      "Getting parents for ('HGNC', '6973')\n",
      "Getting parents for ('HGNC', '6407')\n",
      "Getting parents for ('HGNC', '8975')\n",
      "Getting parents for ('HGNC', '8975')\n",
      "Getting parents for ('HGNC', '6407')\n",
      "Getting parents for ('HGNC', '6407')\n",
      "Getting parents for ('HGNC', '6125')\n",
      "Getting parents for ('HGNC', '8975')\n",
      "Getting parents for ('HGNC', '8975')\n",
      "Getting parents for ('HGNC', '6125')\n",
      "Getting parents for ('HGNC', '6125')\n",
      "Getting parents for ('HGNC', '8975')\n",
      "Getting parents for ('HGNC', '6407')\n",
      "Getting parents for ('HGNC', '8975')\n",
      "Getting parents for ('HGNC', '6125')\n",
      "Getting parents for ('HGNC', '8993')\n",
      "Getting parents for ('HGNC', '8816')\n",
      "Getting parents for ('HGNC', '8993')\n",
      "Getting parents for ('HGNC', '391')\n",
      "Getting parents for ('HGNC', '8816')\n",
      "Getting parents for ('HGNC', '8993')\n",
      "Getting parents for ('HGNC', '8993')\n",
      "Getting parents for ('HGNC', '8816')\n",
      "Getting parents for ('HGNC', '8993')\n",
      "Getting parents for ('HGNC', '391')\n",
      "Getting parents for ('HGNC', '8993')\n",
      "Getting parents for ('FPLX', 'Tubulin')\n",
      "Getting parents for ('HGNC', '3014')\n",
      "Getting parents for ('FPLX', 'Tubulin')\n",
      "Getting parents for ('HGNC', '3014')\n",
      "Getting parents for ('HGNC', '11433')\n",
      "Getting parents for ('HGNC', '3014')\n",
      "Getting parents for ('HGNC', '12362')\n",
      "Getting parents for ('HGNC', '12363')\n",
      "Getting parents for ('HGNC', '12363')\n",
      "Getting parents for ('HGNC', '12362')\n",
      "Getting parents for ('HGNC', '12363')\n",
      "Getting parents for ('HGNC', '12362')\n",
      "Getting parents for ('HGNC', '12362')\n",
      "Getting parents for ('HGNC', '12362')\n",
      "Getting parents for ('HGNC', '12363')\n",
      "Getting parents for ('HGNC', '12363')\n",
      "Getting parents for ('HGNC', '12363')\n",
      "Getting parents for ('HGNC', '12362')\n",
      "Getting parents for ('HGNC', '3942')\n",
      "Getting parents for ('HGNC', '10011')\n",
      "Getting parents for ('HGNC', '3942')\n",
      "Getting parents for ('HGNC', '28426')\n",
      "Getting parents for ('HGNC', '3942')\n",
      "Getting parents for ('HGNC', '30287')\n",
      "Getting parents for ('HGNC', '3942')\n",
      "Getting parents for ('HGNC', '28611')\n",
      "Getting parents for ('HGNC', '28426')\n",
      "Getting parents for ('HGNC', '30287')\n",
      "Getting parents for ('HGNC', '28611')\n",
      "Getting parents for ('HGNC', '3942')\n",
      "Getting parents for ('HGNC', '30287')\n",
      "Getting parents for ('HGNC', '3942')\n",
      "Getting parents for ('HGNC', '28611')\n",
      "Getting parents for ('HGNC', '30287')\n",
      "Getting parents for ('HGNC', '28611')\n",
      "Getting parents for ('HGNC', '3942')\n",
      "Getting parents for ('HGNC', '10011')\n",
      "Getting parents for ('HGNC', '3942')\n",
      "Getting parents for ('HGNC', '30287')\n",
      "Getting parents for ('HGNC', '3942')\n",
      "Getting parents for ('HGNC', '28611')\n",
      "Getting parents for ('HGNC', '10011')\n",
      "Getting parents for ('HGNC', '30287')\n",
      "Getting parents for ('HGNC', '28611')\n",
      "Getting parents for ('HGNC', '3942')\n",
      "Getting parents for ('HGNC', '28426')\n",
      "Getting parents for ('HGNC', '3942')\n",
      "Getting parents for ('HGNC', '30287')\n",
      "Getting parents for ('HGNC', '3942')\n",
      "Getting parents for ('HGNC', '28611')\n",
      "Getting parents for ('HGNC', '3942')\n",
      "Getting parents for ('HGNC', '30287')\n",
      "Getting parents for ('HGNC', '3942')\n",
      "Getting parents for ('HGNC', '28611')\n",
      "Getting parents for ('HGNC', '3942')\n",
      "Getting parents for ('HGNC', '10011')\n",
      "Getting parents for ('HGNC', '3942')\n",
      "Getting parents for ('HGNC', '30287')\n",
      "Getting parents for ('HGNC', '3942')\n",
      "Getting parents for ('HGNC', '28611')\n",
      "Getting parents for ('HGNC', '3942')\n",
      "Getting parents for ('HGNC', '28611')\n",
      "Getting parents for ('HGNC', '30287')\n",
      "Getting parents for ('HGNC', '3942')\n",
      "Getting parents for ('HGNC', '3942')\n",
      "Getting parents for ('HGNC', '28426')\n",
      "Getting parents for ('HGNC', '3942')\n",
      "Getting parents for ('HGNC', '30287')\n",
      "Getting parents for ('HGNC', '3942')\n",
      "Getting parents for ('HGNC', '28611')\n",
      "Getting parents for ('HGNC', '3942')\n",
      "Getting parents for ('HGNC', '30287')\n",
      "Getting parents for ('HGNC', '3942')\n",
      "Getting parents for ('HGNC', '28611')\n",
      "Getting parents for ('HGNC', '3942')\n",
      "Getting parents for ('HGNC', '10011')\n",
      "Getting parents for ('HGNC', '3942')\n",
      "Getting parents for ('HGNC', '30287')\n",
      "Getting parents for ('HGNC', '3942')\n",
      "Getting parents for ('HGNC', '28611')\n",
      "Getting parents for ('HGNC', '3942')\n",
      "Getting parents for ('HGNC', '28426')\n",
      "Getting parents for ('HGNC', '3942')\n",
      "Getting parents for ('HGNC', '30287')\n",
      "Getting parents for ('HGNC', '3942')\n",
      "Getting parents for ('HGNC', '28611')\n",
      "Getting parents for ('HGNC', '3942')\n",
      "Getting parents for ('HGNC', '30287')\n",
      "Getting parents for ('HGNC', '3942')\n",
      "Getting parents for ('HGNC', '28611')\n",
      "Getting parents for ('HGNC', '3942')\n",
      "Getting parents for ('HGNC', '10011')\n",
      "Getting parents for ('HGNC', '3942')\n",
      "Getting parents for ('HGNC', '30287')\n",
      "Getting parents for ('HGNC', '3942')\n",
      "Getting parents for ('HGNC', '28611')\n",
      "Getting parents for ('HGNC', '3942')\n",
      "Getting parents for ('HGNC', '28426')\n",
      "Getting parents for ('HGNC', '3942')\n",
      "Getting parents for ('HGNC', '30287')\n",
      "Getting parents for ('HGNC', '3942')\n",
      "Getting parents for ('HGNC', '28611')\n",
      "Getting parents for ('HGNC', '3942')\n",
      "Getting parents for ('HGNC', '30287')\n",
      "Getting parents for ('HGNC', '3942')\n",
      "Getting parents for ('HGNC', '28611')\n",
      "Getting parents for ('HGNC', '3942')\n",
      "Getting parents for ('HGNC', '10011')\n",
      "Getting parents for ('HGNC', '3942')\n",
      "Getting parents for ('HGNC', '30287')\n",
      "Getting parents for ('HGNC', '3942')\n",
      "Getting parents for ('HGNC', '28611')\n",
      "Getting parents for ('HGNC', '3942')\n",
      "Getting parents for ('HGNC', '30287')\n",
      "Getting parents for ('HGNC', '28611')\n",
      "Getting parents for ('HGNC', '3942')\n",
      "Getting parents for ('HGNC', '3942')\n",
      "Getting parents for ('HGNC', '28426')\n",
      "Getting parents for ('HGNC', '3942')\n",
      "Getting parents for ('HGNC', '30287')\n",
      "Getting parents for ('HGNC', '3942')\n",
      "Getting parents for ('HGNC', '28611')\n",
      "Getting parents for ('HGNC', '3942')\n",
      "Getting parents for ('HGNC', '30287')\n",
      "Getting parents for ('HGNC', '3942')\n",
      "Getting parents for ('HGNC', '28611')\n",
      "Getting parents for ('HGNC', '3942')\n",
      "Getting parents for ('HGNC', '10011')\n",
      "Getting parents for ('HGNC', '3942')\n",
      "Getting parents for ('HGNC', '30287')\n",
      "Getting parents for ('HGNC', '3942')\n",
      "Getting parents for ('HGNC', '28611')\n",
      "Getting parents for ('FPLX', 'p14_3_3')\n",
      "Getting parents for ('HGNC', '28426')\n",
      "Getting parents for ('HGNC', '28426')\n",
      "Getting parents for ('HGNC', '3942')\n",
      "Getting parents for ('HGNC', '28426')\n",
      "Getting parents for ('HGNC', '6770')\n",
      "Getting parents for ('HGNC', '6769')\n",
      "Getting parents for ('HGNC', '6769')\n",
      "Getting parents for ('HGNC', '6770')\n",
      "Getting parents for ('HGNC', '6770')\n",
      "Getting parents for ('HGNC', '9611')\n",
      "Getting parents for ('FPLX', 'SRC')\n",
      "Getting parents for ('FPLX', 'SRC')\n",
      "Getting parents for ('HGNC', '9611')\n",
      "Getting parents for ('FPLX', 'SRC')\n",
      "Getting parents for ('HGNC', '9611')\n",
      "Getting parents for ('FPLX', 'SRC')\n",
      "Getting parents for ('HGNC', '9611')\n",
      "Getting parents for ('HGNC', '9611')\n",
      "Getting parents for ('HGNC', '4566')\n",
      "Getting parents for ('HGNC', '4566')\n",
      "Getting parents for ('HGNC', '9611')\n",
      "Getting parents for ('HGNC', '6204')\n",
      "Getting parents for ('HGNC', '3796')\n",
      "Getting parents for ('HGNC', '3796')\n",
      "Getting parents for ('HGNC', '6204')\n",
      "Getting parents for ('HGNC', '1773')\n",
      "Getting parents for ('HGNC', '1582')\n",
      "Getting parents for ('HGNC', '1773')\n",
      "Getting parents for ('HGNC', '1582')\n",
      "Getting parents for ('HGNC', '9829')\n",
      "Getting parents for ('HGNC', '8630')\n",
      "Getting parents for ('HGNC', '9829')\n",
      "Getting parents for ('HGNC', '8630')\n",
      "Getting parents for ('HGNC', '8630')\n",
      "Getting parents for ('HGNC', '3236')\n",
      "Getting parents for ('HGNC', '3229')\n",
      "Getting parents for ('HGNC', '3229')\n",
      "Getting parents for ('HGNC', '3229')\n",
      "Getting parents for ('HGNC', '3236')\n",
      "Getting parents for ('HGNC', '3236')\n",
      "Getting parents for ('HGNC', '3236')\n",
      "Getting parents for ('HGNC', '3236')\n",
      "Getting parents for ('HGNC', '3236')\n",
      "Getting parents for ('HGNC', '3236')\n",
      "Getting parents for ('HGNC', '3236')\n",
      "Getting parents for ('HGNC', '3236')\n",
      "Getting parents for ('HGNC', '3236')\n",
      "Getting parents for ('HGNC', '3236')\n",
      "Getting parents for ('HGNC', '3236')\n",
      "Getting parents for ('HGNC', '3236')\n",
      "Getting parents for ('HGNC', '3236')\n",
      "Getting parents for ('HGNC', '3236')\n",
      "Getting parents for ('HGNC', '3236')\n",
      "Getting parents for ('HGNC', '3236')\n",
      "Getting parents for ('HGNC', '3236')\n",
      "Getting parents for ('HGNC', '3236')\n",
      "Getting parents for ('HGNC', '5465')\n",
      "Getting parents for ('HGNC', '5465')\n",
      "Getting parents for ('HGNC', '5465')\n",
      "Getting parents for ('HGNC', '5465')\n",
      "Getting parents for ('HGNC', '8975')\n",
      "Getting parents for ('HGNC', '6125')\n",
      "Getting parents for ('HGNC', '3236')\n",
      "Getting parents for ('HGNC', '4566')\n",
      "Getting parents for ('HGNC', '3236')\n",
      "Getting parents for ('HGNC', '10840')\n",
      "Getting parents for ('HGNC', '3236')\n",
      "Getting parents for ('HGNC', '10840')\n",
      "Getting parents for ('HGNC', '4566')\n",
      "Getting parents for ('HGNC', '3236')\n",
      "Getting parents for ('HGNC', '3236')\n",
      "Getting parents for ('HGNC', '10840')\n",
      "Getting parents for ('HGNC', '10840')\n",
      "Getting parents for ('HGNC', '4566')\n",
      "Getting parents for ('HGNC', '11187')\n",
      "Getting parents for ('HGNC', '4566')\n",
      "Getting parents for ('HGNC', '4566')\n",
      "Getting parents for ('HGNC', '6125')\n",
      "Getting parents for ('HGNC', '11187')\n",
      "Getting parents for ('HGNC', '6125')\n",
      "Getting parents for ('HGNC', '6125')\n",
      "Getting parents for ('HGNC', '3236')\n",
      "Getting parents for ('HGNC', '11187')\n",
      "Getting parents for ('HGNC', '3236')\n",
      "Getting parents for ('HGNC', '3236')\n",
      "Getting parents for ('HGNC', '1097')\n",
      "Getting parents for ('HGNC', '6407')\n",
      "Getting parents for ('HGNC', '9829')\n",
      "Getting parents for ('HGNC', '6407')\n",
      "Getting parents for ('HGNC', '6407')\n",
      "Getting parents for ('HGNC', '6407')\n",
      "Getting parents for ('HGNC', '6407')\n",
      "Getting parents for ('HGNC', '6407')\n",
      "Getting parents for ('HGNC', '8630')\n",
      "Getting parents for ('HGNC', '8630')\n",
      "Getting parents for ('HGNC', '20249')\n",
      "Getting parents for ('HGNC', '7765')\n",
      "Getting parents for ('HGNC', '3014')\n",
      "Getting parents for ('HGNC', '7765')\n",
      "Getting parents for ('HGNC', '12666')\n",
      "Getting parents for ('HGNC', '7765')\n",
      "Getting parents for ('HGNC', '9611')\n",
      "Getting parents for ('HGNC', '7765')\n",
      "Getting parents for ('HGNC', '17810')\n",
      "Getting parents for ('HGNC', '7773')\n",
      "Getting parents for ('HGNC', '7773')\n",
      "Getting parents for ('HGNC', '17810')\n",
      "Getting parents for ('HGNC', '18239')\n",
      "Getting parents for ('HGNC', '17810')\n",
      "Getting parents for ('HGNC', '17810')\n",
      "Getting parents for ('HGNC', '1736')\n",
      "Getting parents for ('HGNC', '8590')\n",
      "Getting parents for ('HGNC', '1736')\n",
      "Getting parents for ('HGNC', '1736')\n",
      "Getting parents for ('HGNC', '9801')\n",
      "Getting parents for ('HGNC', '8590')\n",
      "Getting parents for ('HGNC', '9801')\n",
      "Getting parents for ('HGNC', '9801')\n",
      "Getting parents for ('HGNC', '8590')\n",
      "Getting parents for ('HGNC', '7773')\n",
      "Getting parents for ('HGNC', '6850')\n",
      "Getting parents for ('HGNC', '7773')\n",
      "Getting parents for ('HGNC', '7773')\n",
      "Getting parents for ('HGNC', '7773')\n",
      "Getting parents for ('HGNC', '7773')\n",
      "Getting parents for ('HGNC', '11998')\n",
      "Getting parents for ('HGNC', '11128')\n",
      "Getting parents for ('HGNC', '7773')\n",
      "Getting parents for ('HGNC', '12000')\n",
      "Getting parents for ('HGNC', '7773')\n",
      "Getting parents for ('HGNC', '6769')\n",
      "Getting parents for ('HGNC', '16262')\n",
      "Getting parents for ('HGNC', '16712')\n",
      "Getting parents for ('HGNC', '7765')\n",
      "Getting parents for ('HGNC', '30911')\n",
      "Getting parents for ('HGNC', '7773')\n",
      "Getting parents for ('HGNC', '6514')\n",
      "Getting parents for ('HGNC', '7773')\n",
      "Getting parents for ('HGNC', '16262')\n",
      "Getting parents for ('HGNC', '7773')\n",
      "Getting parents for ('HGNC', '16262')\n",
      "Getting parents for ('HGNC', '11714')\n",
      "Getting parents for ('HGNC', '16262')\n",
      "Getting parents for ('HGNC', '6614')\n",
      "Getting parents for ('HGNC', '7773')\n",
      "Getting parents for ('HGNC', '7773')\n",
      "Getting parents for ('HGNC', '7773')\n",
      "Getting parents for ('FPLX', 'CTNNA')\n",
      "Getting parents for ('HGNC', '7773')\n",
      "Getting parents for ('HGNC', '7773')\n",
      "Getting parents for ('HGNC', '29471')\n",
      "Getting parents for ('HGNC', '2715')\n",
      "Getting parents for ('HGNC', '7765')\n",
      "Getting parents for ('HGNC', '2715')\n",
      "Getting parents for ('HGNC', '2715')\n",
      "Getting parents for ('HGNC', '11998')\n",
      "Getting parents for ('HGNC', '6973')\n",
      "Getting parents for ('HGNC', '6407')\n",
      "Getting parents for ('HGNC', '8975')\n",
      "Getting parents for ('HGNC', '6125')\n",
      "Getting parents for ('HGNC', '8975')\n",
      "Getting parents for ('HGNC', '6407')\n",
      "Getting parents for ('HGNC', '6125')\n",
      "Getting parents for ('HGNC', '8993')\n",
      "Getting parents for ('HGNC', '8816')\n",
      "Getting parents for ('HGNC', '8993')\n",
      "Getting parents for ('HGNC', '391')\n",
      "Getting parents for ('HGNC', '8993')\n",
      "Getting parents for ('HGNC', '8993')\n",
      "Getting parents for ('HGNC', '8993')\n",
      "Getting parents for ('FPLX', 'Tubulin')\n",
      "Getting parents for ('HGNC', '3014')\n",
      "Getting parents for ('HGNC', '3014')\n",
      "Getting parents for ('HGNC', '11433')\n",
      "Getting parents for ('HGNC', '3014')\n",
      "Getting parents for ('HGNC', '12362')\n",
      "Getting parents for ('HGNC', '12363')\n",
      "Getting parents for ('HGNC', '12362')\n",
      "Getting parents for ('HGNC', '12362')\n",
      "Getting parents for ('HGNC', '3942')\n",
      "Getting parents for ('HGNC', '10011')\n",
      "Getting parents for ('HGNC', '28426')\n",
      "Getting parents for ('HGNC', '30287')\n",
      "Getting parents for ('HGNC', '28611')\n",
      "Getting parents for ('HGNC', '30287')\n",
      "Getting parents for ('HGNC', '28611')\n",
      "Getting parents for ('HGNC', '10011')\n",
      "Getting parents for ('HGNC', '30287')\n",
      "Getting parents for ('HGNC', '28611')\n",
      "Getting parents for ('HGNC', '28611')\n",
      "Getting parents for ('HGNC', '30287')\n",
      "Getting parents for ('HGNC', '3942')\n",
      "Getting parents for ('HGNC', '28426')\n",
      "Getting parents for ('HGNC', '30287')\n",
      "Getting parents for ('HGNC', '28611')\n",
      "Getting parents for ('HGNC', '30287')\n",
      "Getting parents for ('HGNC', '28611')\n",
      "Getting parents for ('HGNC', '10011')\n",
      "Getting parents for ('HGNC', '30287')\n",
      "Getting parents for ('HGNC', '28611')\n",
      "Getting parents for ('HGNC', '28426')\n",
      "Getting parents for ('HGNC', '30287')\n",
      "Getting parents for ('HGNC', '28611')\n",
      "Getting parents for ('HGNC', '30287')\n",
      "Getting parents for ('HGNC', '28611')\n",
      "Getting parents for ('HGNC', '10011')\n",
      "Getting parents for ('HGNC', '30287')\n",
      "Getting parents for ('HGNC', '28611')\n",
      "Getting parents for ('HGNC', '28426')\n",
      "Getting parents for ('HGNC', '30287')\n",
      "Getting parents for ('HGNC', '28611')\n",
      "Getting parents for ('HGNC', '30287')\n",
      "Getting parents for ('HGNC', '28611')\n",
      "Getting parents for ('HGNC', '10011')\n",
      "Getting parents for ('HGNC', '30287')\n",
      "Getting parents for ('HGNC', '28611')\n",
      "Getting parents for ('HGNC', '30287')\n",
      "Getting parents for ('HGNC', '28611')\n",
      "Getting parents for ('HGNC', '3942')\n",
      "Getting parents for ('HGNC', '28426')\n",
      "Getting parents for ('HGNC', '30287')\n",
      "Getting parents for ('HGNC', '28611')\n",
      "Getting parents for ('HGNC', '30287')\n",
      "Getting parents for ('HGNC', '28611')\n",
      "Getting parents for ('HGNC', '10011')\n",
      "Getting parents for ('HGNC', '30287')\n",
      "Getting parents for ('HGNC', '28611')\n",
      "Getting parents for ('FPLX', 'p14_3_3')\n",
      "Getting parents for ('HGNC', '28426')\n",
      "Getting parents for ('HGNC', '3942')\n",
      "Getting parents for ('HGNC', '28426')\n",
      "Getting parents for ('HGNC', '6770')\n",
      "Getting parents for ('HGNC', '6769')\n",
      "Getting parents for ('HGNC', '9611')\n",
      "Getting parents for ('FPLX', 'SRC')\n",
      "Getting parents for ('HGNC', '9611')\n",
      "Getting parents for ('HGNC', '9611')\n",
      "Getting parents for ('HGNC', '9611')\n",
      "Getting parents for ('HGNC', '9611')\n",
      "Getting parents for ('HGNC', '4566')\n",
      "Getting parents for ('HGNC', '9611')\n",
      "Getting parents for ('HGNC', '9611')\n",
      "Getting parents for ('HGNC', '6204')\n",
      "Getting parents for ('HGNC', '3796')\n",
      "Getting parents for ('HGNC', '6204')\n",
      "Getting parents for ('HGNC', '1773')\n",
      "Getting parents for ('HGNC', '1582')\n",
      "Getting parents for ('HGNC', '1582')\n",
      "Getting parents for ('HGNC', '9829')\n",
      "Getting parents for ('HGNC', '8630')\n"
     ]
    }
   ],
   "source": [
    "pa = PysbAssembler(ras_stmts)\n",
    "pysb_model = pa.make_model()"
   ]
  },
  {
   "cell_type": "markdown",
   "metadata": {},
   "source": [
    "## Checking the NF literature findings against our detailed model"
   ]
  },
  {
   "cell_type": "markdown",
   "metadata": {},
   "source": [
    "Next we use the model checker component within INDRA to see how many of findings from our text mined NF model can be explained with the detailed mechanisms we've explicitly curated in our natural language model."
   ]
  },
  {
   "cell_type": "code",
   "execution_count": 24,
   "metadata": {},
   "outputs": [
    {
     "ename": "NameError",
     "evalue": "name 'nf_stmts' is not defined",
     "output_type": "error",
     "traceback": [
      "\u001b[0;31m---------------------------------------------------------------------------\u001b[0m",
      "\u001b[0;31mNameError\u001b[0m                                 Traceback (most recent call last)",
      "\u001b[0;32m<ipython-input-24-8735e1485b05>\u001b[0m in \u001b[0;36m<module>\u001b[0;34m\u001b[0m\n\u001b[0;32m----> 1\u001b[0;31m \u001b[0mpmc\u001b[0m \u001b[0;34m=\u001b[0m \u001b[0mPysbModelChecker\u001b[0m\u001b[0;34m(\u001b[0m\u001b[0mpysb_model\u001b[0m\u001b[0;34m,\u001b[0m \u001b[0mnf_stmts\u001b[0m\u001b[0;34m[\u001b[0m\u001b[0;36m0\u001b[0m\u001b[0;34m:\u001b[0m\u001b[0;36m50\u001b[0m\u001b[0;34m]\u001b[0m\u001b[0;34m)\u001b[0m\u001b[0;34m\u001b[0m\u001b[0;34m\u001b[0m\u001b[0m\n\u001b[0m",
      "\u001b[0;31mNameError\u001b[0m: name 'nf_stmts' is not defined"
     ]
    }
   ],
   "source": [
    "pmc = PysbModelChecker(pysb_model, nf_stmts[0:50])"
   ]
  },
  {
   "cell_type": "code",
   "execution_count": null,
   "metadata": {},
   "outputs": [],
   "source": []
  },
  {
   "cell_type": "markdown",
   "metadata": {},
   "source": [
    "# New heading"
   ]
  }
 ],
 "metadata": {
  "hide_input": false,
  "kernelspec": {
   "display_name": "Python 3",
   "language": "python",
   "name": "python3"
  },
  "language_info": {
   "codemirror_mode": {
    "name": "ipython",
    "version": 3
   },
   "file_extension": ".py",
   "mimetype": "text/x-python",
   "name": "python",
   "nbconvert_exporter": "python",
   "pygments_lexer": "ipython3",
   "version": "3.7.4"
  }
 },
 "nbformat": 4,
 "nbformat_minor": 2
}
