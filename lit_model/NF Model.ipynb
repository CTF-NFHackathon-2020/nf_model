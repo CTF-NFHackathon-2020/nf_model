{
 "cells": [
  {
   "cell_type": "markdown",
   "metadata": {},
   "source": [
    "# Initializing the EMMAA Neurofibromatosis Model"
   ]
  },
  {
   "cell_type": "markdown",
   "metadata": {},
   "source": [
    "In this notebook we illustrate how we put together an initial neurofibromatosis-specific knowledge network based on molecular interactions we have compiled from reading all available abstracts and full text articles from PubMed.\n",
    "\n",
    "As background, we use multiple text mining systems from our collaborators and from the research community to extract raw causal relations and then assemble them using our knowledge assembly system, INDRA (the Integrated Network and Dynamical Reasoning Assembler). We do this systematically across all available literature and store the results in the INDRA Database for use in downstream projects like this one. "
   ]
  },
  {
   "cell_type": "markdown",
   "metadata": {},
   "source": [
    "The first step in creating the EMMAA model for Neurofibromatosis is to find publications broadly relevant for neurofibromatosis. We do this by querying based on the both the term \"neurofibromatosis\" as well as the top-level Medical Subject Heading (MESH) term for Neurofibromatoses, D017253 (see https://www.ncbi.nlm.nih.gov/mesh/68017253). We use the `indra.literature` module to search PubMed using the PubMed REST API."
   ]
  },
  {
   "cell_type": "code",
   "execution_count": 21,
   "metadata": {},
   "outputs": [],
   "source": [
    "# Preliminaries\n",
    "import time\n",
    "import pickle\n",
    "from collections import Counter\n",
    "from indra_db import get_primary_db\n",
    "from indra.util import batch_iter\n",
    "from indra_db.util import distill_stmts\n",
    "from indra.tools import assemble_corpus as ac\n",
    "from indra.sources import indra_db_rest as idr\n"
   ]
  },
  {
   "cell_type": "code",
   "execution_count": 22,
   "metadata": {},
   "outputs": [],
   "source": [
    "# Query PubMed for articles related to NF\n",
    "def get_nf_pmids():\n",
    "    # PMIDs from text search for \"neurofibromatosis\"\n",
    "    nf_text_pmids = pubmed_client.get_ids('neurofibromatosis')\n",
    "    # Mesh term for neurofibromatoses\n",
    "    nf_mesh_ids = pubmed_client.get_ids_for_mesh('D017253')\n",
    "    return list(set(nf_text_pmids + nf_mesh_ids))\n",
    "\n",
    "# Get the PMIDs\n",
    "nf_pmids = get_nf_pmids()"
   ]
  },
  {
   "cell_type": "markdown",
   "metadata": {},
   "source": [
    "Here's how many unique PMIDs we found:"
   ]
  },
  {
   "cell_type": "code",
   "execution_count": 24,
   "metadata": {},
   "outputs": [
    {
     "data": {
      "text/plain": [
       "17879"
      ]
     },
     "execution_count": 24,
     "metadata": {},
     "output_type": "execute_result"
    }
   ],
   "source": [
    "len(nf_pmids)"
   ]
  },
  {
   "cell_type": "markdown",
   "metadata": {},
   "source": [
    "The next step is to get the INDRA Statements that have been extracted from these and stored in the INDRA Database, which will give us a sense of which molecular entities (proteins, drugs, etc.) are relevant to NF and should be included in the model."
   ]
  },
  {
   "cell_type": "code",
   "execution_count": 39,
   "metadata": {
    "scrolled": true
   },
   "outputs": [
    {
     "name": "stderr",
     "output_type": "stream",
     "text": [
      "INFO: [2020-11-11 08:49:29] indra.sources.indra_db_rest.util - query: https://db.indra.bio/statements/from_papers\n",
      "INFO: [2020-11-11 08:49:29] indra.sources.indra_db_rest.util - params: {'ev_limit': 10, 'best_first': True, 'max_stmts': None, 'api_key': '[api-key]'}\n"
     ]
    },
    {
     "name": "stdout",
     "output_type": "stream",
     "text": [
      "1 of 179\n"
     ]
    },
    {
     "name": "stderr",
     "output_type": "stream",
     "text": [
      "INFO: [2020-11-11 08:49:31] indra.sources.indra_db_rest.util - query: https://db.indra.bio/statements/from_papers\n",
      "INFO: [2020-11-11 08:49:31] indra.sources.indra_db_rest.util - params: {'ev_limit': 10, 'best_first': True, 'max_stmts': None, 'api_key': '[api-key]'}\n"
     ]
    },
    {
     "name": "stdout",
     "output_type": "stream",
     "text": [
      "2 of 179\n"
     ]
    },
    {
     "name": "stderr",
     "output_type": "stream",
     "text": [
      "INFO: [2020-11-11 08:49:32] indra.sources.indra_db_rest.util - query: https://db.indra.bio/statements/from_papers\n",
      "INFO: [2020-11-11 08:49:32] indra.sources.indra_db_rest.util - params: {'ev_limit': 10, 'best_first': True, 'max_stmts': None, 'api_key': '[api-key]'}\n"
     ]
    },
    {
     "name": "stdout",
     "output_type": "stream",
     "text": [
      "3 of 179\n"
     ]
    },
    {
     "name": "stderr",
     "output_type": "stream",
     "text": [
      "INFO: [2020-11-11 08:49:40] indra.sources.indra_db_rest.util - query: https://db.indra.bio/statements/from_papers\n",
      "INFO: [2020-11-11 08:49:40] indra.sources.indra_db_rest.util - params: {'ev_limit': 10, 'best_first': True, 'max_stmts': None, 'api_key': '[api-key]'}\n"
     ]
    },
    {
     "name": "stdout",
     "output_type": "stream",
     "text": [
      "4 of 179\n"
     ]
    },
    {
     "name": "stderr",
     "output_type": "stream",
     "text": [
      "INFO: [2020-11-11 08:49:42] indra.sources.indra_db_rest.util - query: https://db.indra.bio/statements/from_papers\n",
      "INFO: [2020-11-11 08:49:42] indra.sources.indra_db_rest.util - params: {'ev_limit': 10, 'best_first': True, 'max_stmts': None, 'api_key': '[api-key]'}\n"
     ]
    },
    {
     "name": "stdout",
     "output_type": "stream",
     "text": [
      "5 of 179\n"
     ]
    },
    {
     "name": "stderr",
     "output_type": "stream",
     "text": [
      "INFO: [2020-11-11 08:49:43] indra.sources.indra_db_rest.util - query: https://db.indra.bio/statements/from_papers\n",
      "INFO: [2020-11-11 08:49:43] indra.sources.indra_db_rest.util - params: {'ev_limit': 10, 'best_first': True, 'max_stmts': None, 'api_key': '[api-key]'}\n"
     ]
    },
    {
     "name": "stdout",
     "output_type": "stream",
     "text": [
      "6 of 179\n"
     ]
    },
    {
     "name": "stderr",
     "output_type": "stream",
     "text": [
      "INFO: [2020-11-11 08:49:44] indra.sources.indra_db_rest.util - query: https://db.indra.bio/statements/from_papers\n",
      "INFO: [2020-11-11 08:49:44] indra.sources.indra_db_rest.util - params: {'ev_limit': 10, 'best_first': True, 'max_stmts': None, 'api_key': '[api-key]'}\n"
     ]
    },
    {
     "name": "stdout",
     "output_type": "stream",
     "text": [
      "7 of 179\n"
     ]
    },
    {
     "name": "stderr",
     "output_type": "stream",
     "text": [
      "INFO: [2020-11-11 08:49:44] indra.sources.indra_db_rest.util - query: https://db.indra.bio/statements/from_papers\n",
      "INFO: [2020-11-11 08:49:44] indra.sources.indra_db_rest.util - params: {'ev_limit': 10, 'best_first': True, 'max_stmts': None, 'api_key': '[api-key]'}\n"
     ]
    },
    {
     "name": "stdout",
     "output_type": "stream",
     "text": [
      "8 of 179\n"
     ]
    },
    {
     "name": "stderr",
     "output_type": "stream",
     "text": [
      "INFO: [2020-11-11 08:49:45] indra.sources.indra_db_rest.util - query: https://db.indra.bio/statements/from_papers\n",
      "INFO: [2020-11-11 08:49:45] indra.sources.indra_db_rest.util - params: {'ev_limit': 10, 'best_first': True, 'max_stmts': None, 'api_key': '[api-key]'}\n"
     ]
    },
    {
     "name": "stdout",
     "output_type": "stream",
     "text": [
      "9 of 179\n"
     ]
    },
    {
     "name": "stderr",
     "output_type": "stream",
     "text": [
      "INFO: [2020-11-11 08:49:47] indra.sources.indra_db_rest.util - query: https://db.indra.bio/statements/from_papers\n",
      "INFO: [2020-11-11 08:49:47] indra.sources.indra_db_rest.util - params: {'ev_limit': 10, 'best_first': True, 'max_stmts': None, 'api_key': '[api-key]'}\n"
     ]
    },
    {
     "name": "stdout",
     "output_type": "stream",
     "text": [
      "10 of 179\n"
     ]
    },
    {
     "name": "stderr",
     "output_type": "stream",
     "text": [
      "INFO: [2020-11-11 08:49:49] indra.sources.indra_db_rest.util - query: https://db.indra.bio/statements/from_papers\n",
      "INFO: [2020-11-11 08:49:49] indra.sources.indra_db_rest.util - params: {'ev_limit': 10, 'best_first': True, 'max_stmts': None, 'api_key': '[api-key]'}\n"
     ]
    },
    {
     "name": "stdout",
     "output_type": "stream",
     "text": [
      "11 of 179\n"
     ]
    },
    {
     "name": "stderr",
     "output_type": "stream",
     "text": [
      "INFO: [2020-11-11 08:49:50] indra.sources.indra_db_rest.util - query: https://db.indra.bio/statements/from_papers\n",
      "INFO: [2020-11-11 08:49:50] indra.sources.indra_db_rest.util - params: {'ev_limit': 10, 'best_first': True, 'max_stmts': None, 'api_key': '[api-key]'}\n"
     ]
    },
    {
     "name": "stdout",
     "output_type": "stream",
     "text": [
      "12 of 179\n"
     ]
    },
    {
     "name": "stderr",
     "output_type": "stream",
     "text": [
      "INFO: [2020-11-11 08:49:52] indra.sources.indra_db_rest.util - query: https://db.indra.bio/statements/from_papers\n",
      "INFO: [2020-11-11 08:49:52] indra.sources.indra_db_rest.util - params: {'ev_limit': 10, 'best_first': True, 'max_stmts': None, 'api_key': '[api-key]'}\n"
     ]
    },
    {
     "name": "stdout",
     "output_type": "stream",
     "text": [
      "13 of 179\n"
     ]
    },
    {
     "name": "stderr",
     "output_type": "stream",
     "text": [
      "INFO: [2020-11-11 08:49:53] indra.sources.indra_db_rest.util - query: https://db.indra.bio/statements/from_papers\n",
      "INFO: [2020-11-11 08:49:53] indra.sources.indra_db_rest.util - params: {'ev_limit': 10, 'best_first': True, 'max_stmts': None, 'api_key': '[api-key]'}\n"
     ]
    },
    {
     "name": "stdout",
     "output_type": "stream",
     "text": [
      "14 of 179\n"
     ]
    },
    {
     "name": "stderr",
     "output_type": "stream",
     "text": [
      "INFO: [2020-11-11 08:49:57] indra.sources.indra_db_rest.util - query: https://db.indra.bio/statements/from_papers\n",
      "INFO: [2020-11-11 08:49:57] indra.sources.indra_db_rest.util - params: {'ev_limit': 10, 'best_first': True, 'max_stmts': None, 'api_key': '[api-key]'}\n"
     ]
    },
    {
     "name": "stdout",
     "output_type": "stream",
     "text": [
      "15 of 179\n"
     ]
    },
    {
     "name": "stderr",
     "output_type": "stream",
     "text": [
      "INFO: [2020-11-11 08:49:58] indra.sources.indra_db_rest.util - query: https://db.indra.bio/statements/from_papers\n",
      "INFO: [2020-11-11 08:49:58] indra.sources.indra_db_rest.util - params: {'ev_limit': 10, 'best_first': True, 'max_stmts': None, 'api_key': '[api-key]'}\n"
     ]
    },
    {
     "name": "stdout",
     "output_type": "stream",
     "text": [
      "16 of 179\n"
     ]
    },
    {
     "name": "stderr",
     "output_type": "stream",
     "text": [
      "INFO: [2020-11-11 08:50:02] indra.sources.indra_db_rest.util - query: https://db.indra.bio/statements/from_papers\n",
      "INFO: [2020-11-11 08:50:02] indra.sources.indra_db_rest.util - params: {'ev_limit': 10, 'best_first': True, 'max_stmts': None, 'api_key': '[api-key]'}\n"
     ]
    },
    {
     "name": "stdout",
     "output_type": "stream",
     "text": [
      "17 of 179\n"
     ]
    },
    {
     "name": "stderr",
     "output_type": "stream",
     "text": [
      "INFO: [2020-11-11 08:50:12] indra.sources.indra_db_rest.util - query: https://db.indra.bio/statements/from_papers\n",
      "INFO: [2020-11-11 08:50:12] indra.sources.indra_db_rest.util - params: {'ev_limit': 10, 'best_first': True, 'max_stmts': None, 'api_key': '[api-key]'}\n"
     ]
    },
    {
     "name": "stdout",
     "output_type": "stream",
     "text": [
      "18 of 179\n"
     ]
    },
    {
     "name": "stderr",
     "output_type": "stream",
     "text": [
      "INFO: [2020-11-11 08:50:21] indra.sources.indra_db_rest.util - query: https://db.indra.bio/statements/from_papers\n",
      "INFO: [2020-11-11 08:50:21] indra.sources.indra_db_rest.util - params: {'ev_limit': 10, 'best_first': True, 'max_stmts': None, 'api_key': '[api-key]'}\n"
     ]
    },
    {
     "name": "stdout",
     "output_type": "stream",
     "text": [
      "19 of 179\n"
     ]
    },
    {
     "name": "stderr",
     "output_type": "stream",
     "text": [
      "INFO: [2020-11-11 08:50:23] indra.sources.indra_db_rest.util - query: https://db.indra.bio/statements/from_papers\n",
      "INFO: [2020-11-11 08:50:23] indra.sources.indra_db_rest.util - params: {'ev_limit': 10, 'best_first': True, 'max_stmts': None, 'api_key': '[api-key]'}\n"
     ]
    },
    {
     "name": "stdout",
     "output_type": "stream",
     "text": [
      "20 of 179\n"
     ]
    },
    {
     "name": "stderr",
     "output_type": "stream",
     "text": [
      "INFO: [2020-11-11 08:50:36] indra.sources.indra_db_rest.util - query: https://db.indra.bio/statements/from_papers\n",
      "INFO: [2020-11-11 08:50:36] indra.sources.indra_db_rest.util - params: {'ev_limit': 10, 'best_first': True, 'max_stmts': None, 'api_key': '[api-key]'}\n"
     ]
    },
    {
     "name": "stdout",
     "output_type": "stream",
     "text": [
      "21 of 179\n"
     ]
    },
    {
     "name": "stderr",
     "output_type": "stream",
     "text": [
      "INFO: [2020-11-11 08:51:01] indra.sources.indra_db_rest.util - query: https://db.indra.bio/statements/from_papers\n",
      "INFO: [2020-11-11 08:51:01] indra.sources.indra_db_rest.util - params: {'ev_limit': 10, 'best_first': True, 'max_stmts': None, 'api_key': '[api-key]'}\n"
     ]
    },
    {
     "name": "stdout",
     "output_type": "stream",
     "text": [
      "22 of 179\n"
     ]
    },
    {
     "name": "stderr",
     "output_type": "stream",
     "text": [
      "INFO: [2020-11-11 08:51:28] indra.sources.indra_db_rest.util - query: https://db.indra.bio/statements/from_papers\n",
      "INFO: [2020-11-11 08:51:28] indra.sources.indra_db_rest.util - params: {'ev_limit': 10, 'best_first': True, 'max_stmts': None, 'api_key': '[api-key]'}\n"
     ]
    },
    {
     "name": "stdout",
     "output_type": "stream",
     "text": [
      "23 of 179\n"
     ]
    },
    {
     "name": "stderr",
     "output_type": "stream",
     "text": [
      "INFO: [2020-11-11 08:51:30] indra.sources.indra_db_rest.util - query: https://db.indra.bio/statements/from_papers\n",
      "INFO: [2020-11-11 08:51:30] indra.sources.indra_db_rest.util - params: {'ev_limit': 10, 'best_first': True, 'max_stmts': None, 'api_key': '[api-key]'}\n"
     ]
    },
    {
     "name": "stdout",
     "output_type": "stream",
     "text": [
      "24 of 179\n"
     ]
    },
    {
     "name": "stderr",
     "output_type": "stream",
     "text": [
      "INFO: [2020-11-11 08:51:41] indra.sources.indra_db_rest.util - query: https://db.indra.bio/statements/from_papers\n",
      "INFO: [2020-11-11 08:51:41] indra.sources.indra_db_rest.util - params: {'ev_limit': 10, 'best_first': True, 'max_stmts': None, 'api_key': '[api-key]'}\n"
     ]
    },
    {
     "name": "stdout",
     "output_type": "stream",
     "text": [
      "25 of 179\n"
     ]
    },
    {
     "name": "stderr",
     "output_type": "stream",
     "text": [
      "INFO: [2020-11-11 08:51:47] indra.sources.indra_db_rest.util - query: https://db.indra.bio/statements/from_papers\n",
      "INFO: [2020-11-11 08:51:47] indra.sources.indra_db_rest.util - params: {'ev_limit': 10, 'best_first': True, 'max_stmts': None, 'api_key': '[api-key]'}\n"
     ]
    },
    {
     "name": "stdout",
     "output_type": "stream",
     "text": [
      "26 of 179\n"
     ]
    },
    {
     "name": "stderr",
     "output_type": "stream",
     "text": [
      "INFO: [2020-11-11 08:51:54] indra.sources.indra_db_rest.util - query: https://db.indra.bio/statements/from_papers\n",
      "INFO: [2020-11-11 08:51:54] indra.sources.indra_db_rest.util - params: {'ev_limit': 10, 'best_first': True, 'max_stmts': None, 'api_key': '[api-key]'}\n"
     ]
    },
    {
     "name": "stdout",
     "output_type": "stream",
     "text": [
      "27 of 179\n"
     ]
    },
    {
     "name": "stderr",
     "output_type": "stream",
     "text": [
      "INFO: [2020-11-11 08:52:16] indra.sources.indra_db_rest.util - query: https://db.indra.bio/statements/from_papers\n",
      "INFO: [2020-11-11 08:52:16] indra.sources.indra_db_rest.util - params: {'ev_limit': 10, 'best_first': True, 'max_stmts': None, 'api_key': '[api-key]'}\n"
     ]
    },
    {
     "name": "stdout",
     "output_type": "stream",
     "text": [
      "28 of 179\n"
     ]
    },
    {
     "name": "stderr",
     "output_type": "stream",
     "text": [
      "INFO: [2020-11-11 08:52:34] indra.sources.indra_db_rest.util - query: https://db.indra.bio/statements/from_papers\n",
      "INFO: [2020-11-11 08:52:34] indra.sources.indra_db_rest.util - params: {'ev_limit': 10, 'best_first': True, 'max_stmts': None, 'api_key': '[api-key]'}\n"
     ]
    },
    {
     "name": "stdout",
     "output_type": "stream",
     "text": [
      "29 of 179\n"
     ]
    },
    {
     "name": "stderr",
     "output_type": "stream",
     "text": [
      "INFO: [2020-11-11 08:52:37] indra.sources.indra_db_rest.util - query: https://db.indra.bio/statements/from_papers\n",
      "INFO: [2020-11-11 08:52:37] indra.sources.indra_db_rest.util - params: {'ev_limit': 10, 'best_first': True, 'max_stmts': None, 'api_key': '[api-key]'}\n"
     ]
    },
    {
     "name": "stdout",
     "output_type": "stream",
     "text": [
      "30 of 179\n"
     ]
    },
    {
     "name": "stderr",
     "output_type": "stream",
     "text": [
      "INFO: [2020-11-11 08:52:41] indra.sources.indra_db_rest.util - query: https://db.indra.bio/statements/from_papers\n",
      "INFO: [2020-11-11 08:52:41] indra.sources.indra_db_rest.util - params: {'ev_limit': 10, 'best_first': True, 'max_stmts': None, 'api_key': '[api-key]'}\n"
     ]
    },
    {
     "name": "stdout",
     "output_type": "stream",
     "text": [
      "31 of 179\n"
     ]
    },
    {
     "name": "stderr",
     "output_type": "stream",
     "text": [
      "INFO: [2020-11-11 08:52:43] indra.sources.indra_db_rest.util - query: https://db.indra.bio/statements/from_papers\n",
      "INFO: [2020-11-11 08:52:43] indra.sources.indra_db_rest.util - params: {'ev_limit': 10, 'best_first': True, 'max_stmts': None, 'api_key': '[api-key]'}\n"
     ]
    },
    {
     "name": "stdout",
     "output_type": "stream",
     "text": [
      "32 of 179\n"
     ]
    },
    {
     "name": "stderr",
     "output_type": "stream",
     "text": [
      "INFO: [2020-11-11 08:52:47] indra.sources.indra_db_rest.util - query: https://db.indra.bio/statements/from_papers\n",
      "INFO: [2020-11-11 08:52:47] indra.sources.indra_db_rest.util - params: {'ev_limit': 10, 'best_first': True, 'max_stmts': None, 'api_key': '[api-key]'}\n"
     ]
    },
    {
     "name": "stdout",
     "output_type": "stream",
     "text": [
      "33 of 179\n"
     ]
    },
    {
     "name": "stderr",
     "output_type": "stream",
     "text": [
      "INFO: [2020-11-11 08:52:52] indra.sources.indra_db_rest.util - query: https://db.indra.bio/statements/from_papers\n",
      "INFO: [2020-11-11 08:52:52] indra.sources.indra_db_rest.util - params: {'ev_limit': 10, 'best_first': True, 'max_stmts': None, 'api_key': '[api-key]'}\n"
     ]
    },
    {
     "name": "stdout",
     "output_type": "stream",
     "text": [
      "34 of 179\n"
     ]
    },
    {
     "name": "stderr",
     "output_type": "stream",
     "text": [
      "INFO: [2020-11-11 08:52:58] indra.sources.indra_db_rest.util - query: https://db.indra.bio/statements/from_papers\n",
      "INFO: [2020-11-11 08:52:59] indra.sources.indra_db_rest.util - params: {'ev_limit': 10, 'best_first': True, 'max_stmts': None, 'api_key': '[api-key]'}\n"
     ]
    },
    {
     "name": "stdout",
     "output_type": "stream",
     "text": [
      "35 of 179\n"
     ]
    },
    {
     "name": "stderr",
     "output_type": "stream",
     "text": [
      "INFO: [2020-11-11 08:53:09] indra.sources.indra_db_rest.util - query: https://db.indra.bio/statements/from_papers\n",
      "INFO: [2020-11-11 08:53:09] indra.sources.indra_db_rest.util - params: {'ev_limit': 10, 'best_first': True, 'max_stmts': None, 'api_key': '[api-key]'}\n"
     ]
    },
    {
     "name": "stdout",
     "output_type": "stream",
     "text": [
      "36 of 179\n"
     ]
    },
    {
     "name": "stderr",
     "output_type": "stream",
     "text": [
      "INFO: [2020-11-11 08:53:10] indra.sources.indra_db_rest.util - query: https://db.indra.bio/statements/from_papers\n",
      "INFO: [2020-11-11 08:53:10] indra.sources.indra_db_rest.util - params: {'ev_limit': 10, 'best_first': True, 'max_stmts': None, 'api_key': '[api-key]'}\n"
     ]
    },
    {
     "name": "stdout",
     "output_type": "stream",
     "text": [
      "37 of 179\n"
     ]
    },
    {
     "name": "stderr",
     "output_type": "stream",
     "text": [
      "INFO: [2020-11-11 08:53:15] indra.sources.indra_db_rest.util - query: https://db.indra.bio/statements/from_papers\n",
      "INFO: [2020-11-11 08:53:15] indra.sources.indra_db_rest.util - params: {'ev_limit': 10, 'best_first': True, 'max_stmts': None, 'api_key': '[api-key]'}\n"
     ]
    },
    {
     "name": "stdout",
     "output_type": "stream",
     "text": [
      "38 of 179\n"
     ]
    },
    {
     "name": "stderr",
     "output_type": "stream",
     "text": [
      "INFO: [2020-11-11 08:53:23] indra.sources.indra_db_rest.util - query: https://db.indra.bio/statements/from_papers\n",
      "INFO: [2020-11-11 08:53:23] indra.sources.indra_db_rest.util - params: {'ev_limit': 10, 'best_first': True, 'max_stmts': None, 'api_key': '[api-key]'}\n"
     ]
    },
    {
     "name": "stdout",
     "output_type": "stream",
     "text": [
      "39 of 179\n"
     ]
    },
    {
     "name": "stderr",
     "output_type": "stream",
     "text": [
      "INFO: [2020-11-11 08:53:29] indra.sources.indra_db_rest.util - query: https://db.indra.bio/statements/from_papers\n",
      "INFO: [2020-11-11 08:53:29] indra.sources.indra_db_rest.util - params: {'ev_limit': 10, 'best_first': True, 'max_stmts': None, 'api_key': '[api-key]'}\n"
     ]
    },
    {
     "name": "stdout",
     "output_type": "stream",
     "text": [
      "40 of 179\n"
     ]
    },
    {
     "name": "stderr",
     "output_type": "stream",
     "text": [
      "INFO: [2020-11-11 08:53:31] indra.sources.indra_db_rest.util - query: https://db.indra.bio/statements/from_papers\n",
      "INFO: [2020-11-11 08:53:31] indra.sources.indra_db_rest.util - params: {'ev_limit': 10, 'best_first': True, 'max_stmts': None, 'api_key': '[api-key]'}\n"
     ]
    },
    {
     "name": "stdout",
     "output_type": "stream",
     "text": [
      "41 of 179\n"
     ]
    },
    {
     "name": "stderr",
     "output_type": "stream",
     "text": [
      "INFO: [2020-11-11 08:53:35] indra.sources.indra_db_rest.util - query: https://db.indra.bio/statements/from_papers\n",
      "INFO: [2020-11-11 08:53:35] indra.sources.indra_db_rest.util - params: {'ev_limit': 10, 'best_first': True, 'max_stmts': None, 'api_key': '[api-key]'}\n"
     ]
    },
    {
     "name": "stdout",
     "output_type": "stream",
     "text": [
      "42 of 179\n"
     ]
    },
    {
     "name": "stderr",
     "output_type": "stream",
     "text": [
      "INFO: [2020-11-11 08:53:47] indra.sources.indra_db_rest.util - query: https://db.indra.bio/statements/from_papers\n",
      "INFO: [2020-11-11 08:53:47] indra.sources.indra_db_rest.util - params: {'ev_limit': 10, 'best_first': True, 'max_stmts': None, 'api_key': '[api-key]'}\n"
     ]
    },
    {
     "name": "stdout",
     "output_type": "stream",
     "text": [
      "43 of 179\n"
     ]
    },
    {
     "name": "stderr",
     "output_type": "stream",
     "text": [
      "INFO: [2020-11-11 08:53:55] indra.sources.indra_db_rest.util - query: https://db.indra.bio/statements/from_papers\n",
      "INFO: [2020-11-11 08:53:55] indra.sources.indra_db_rest.util - params: {'ev_limit': 10, 'best_first': True, 'max_stmts': None, 'api_key': '[api-key]'}\n"
     ]
    },
    {
     "name": "stdout",
     "output_type": "stream",
     "text": [
      "44 of 179\n"
     ]
    },
    {
     "name": "stderr",
     "output_type": "stream",
     "text": [
      "INFO: [2020-11-11 08:54:11] indra.sources.indra_db_rest.util - query: https://db.indra.bio/statements/from_papers\n",
      "INFO: [2020-11-11 08:54:11] indra.sources.indra_db_rest.util - params: {'ev_limit': 10, 'best_first': True, 'max_stmts': None, 'api_key': '[api-key]'}\n"
     ]
    },
    {
     "name": "stdout",
     "output_type": "stream",
     "text": [
      "45 of 179\n"
     ]
    },
    {
     "name": "stderr",
     "output_type": "stream",
     "text": [
      "INFO: [2020-11-11 08:54:12] indra.sources.indra_db_rest.util - query: https://db.indra.bio/statements/from_papers\n",
      "INFO: [2020-11-11 08:54:12] indra.sources.indra_db_rest.util - params: {'ev_limit': 10, 'best_first': True, 'max_stmts': None, 'api_key': '[api-key]'}\n"
     ]
    },
    {
     "name": "stdout",
     "output_type": "stream",
     "text": [
      "46 of 179\n"
     ]
    },
    {
     "name": "stderr",
     "output_type": "stream",
     "text": [
      "INFO: [2020-11-11 08:54:36] indra.sources.indra_db_rest.util - query: https://db.indra.bio/statements/from_papers\n",
      "INFO: [2020-11-11 08:54:36] indra.sources.indra_db_rest.util - params: {'ev_limit': 10, 'best_first': True, 'max_stmts': None, 'api_key': '[api-key]'}\n"
     ]
    },
    {
     "name": "stdout",
     "output_type": "stream",
     "text": [
      "47 of 179\n"
     ]
    },
    {
     "name": "stderr",
     "output_type": "stream",
     "text": [
      "INFO: [2020-11-11 08:54:37] indra.sources.indra_db_rest.util - query: https://db.indra.bio/statements/from_papers\n",
      "INFO: [2020-11-11 08:54:37] indra.sources.indra_db_rest.util - params: {'ev_limit': 10, 'best_first': True, 'max_stmts': None, 'api_key': '[api-key]'}\n"
     ]
    },
    {
     "name": "stdout",
     "output_type": "stream",
     "text": [
      "48 of 179\n"
     ]
    },
    {
     "name": "stderr",
     "output_type": "stream",
     "text": [
      "INFO: [2020-11-11 08:54:40] indra.sources.indra_db_rest.util - query: https://db.indra.bio/statements/from_papers\n",
      "INFO: [2020-11-11 08:54:40] indra.sources.indra_db_rest.util - params: {'ev_limit': 10, 'best_first': True, 'max_stmts': None, 'api_key': '[api-key]'}\n"
     ]
    },
    {
     "name": "stdout",
     "output_type": "stream",
     "text": [
      "49 of 179\n"
     ]
    },
    {
     "name": "stderr",
     "output_type": "stream",
     "text": [
      "INFO: [2020-11-11 08:54:50] indra.sources.indra_db_rest.util - query: https://db.indra.bio/statements/from_papers\n",
      "INFO: [2020-11-11 08:54:50] indra.sources.indra_db_rest.util - params: {'ev_limit': 10, 'best_first': True, 'max_stmts': None, 'api_key': '[api-key]'}\n"
     ]
    },
    {
     "name": "stdout",
     "output_type": "stream",
     "text": [
      "50 of 179\n"
     ]
    },
    {
     "name": "stderr",
     "output_type": "stream",
     "text": [
      "INFO: [2020-11-11 08:54:51] indra.sources.indra_db_rest.util - query: https://db.indra.bio/statements/from_papers\n",
      "INFO: [2020-11-11 08:54:51] indra.sources.indra_db_rest.util - params: {'ev_limit': 10, 'best_first': True, 'max_stmts': None, 'api_key': '[api-key]'}\n"
     ]
    },
    {
     "name": "stdout",
     "output_type": "stream",
     "text": [
      "51 of 179\n"
     ]
    },
    {
     "name": "stderr",
     "output_type": "stream",
     "text": [
      "INFO: [2020-11-11 08:54:59] indra.sources.indra_db_rest.util - query: https://db.indra.bio/statements/from_papers\n",
      "INFO: [2020-11-11 08:54:59] indra.sources.indra_db_rest.util - params: {'ev_limit': 10, 'best_first': True, 'max_stmts': None, 'api_key': '[api-key]'}\n"
     ]
    },
    {
     "name": "stdout",
     "output_type": "stream",
     "text": [
      "52 of 179\n"
     ]
    },
    {
     "name": "stderr",
     "output_type": "stream",
     "text": [
      "INFO: [2020-11-11 08:55:08] indra.sources.indra_db_rest.util - query: https://db.indra.bio/statements/from_papers\n",
      "INFO: [2020-11-11 08:55:08] indra.sources.indra_db_rest.util - params: {'ev_limit': 10, 'best_first': True, 'max_stmts': None, 'api_key': '[api-key]'}\n"
     ]
    },
    {
     "name": "stdout",
     "output_type": "stream",
     "text": [
      "53 of 179\n"
     ]
    },
    {
     "name": "stderr",
     "output_type": "stream",
     "text": [
      "INFO: [2020-11-11 08:55:11] indra.sources.indra_db_rest.util - query: https://db.indra.bio/statements/from_papers\n",
      "INFO: [2020-11-11 08:55:11] indra.sources.indra_db_rest.util - params: {'ev_limit': 10, 'best_first': True, 'max_stmts': None, 'api_key': '[api-key]'}\n"
     ]
    },
    {
     "name": "stdout",
     "output_type": "stream",
     "text": [
      "54 of 179\n"
     ]
    },
    {
     "name": "stderr",
     "output_type": "stream",
     "text": [
      "INFO: [2020-11-11 08:55:21] indra.sources.indra_db_rest.util - query: https://db.indra.bio/statements/from_papers\n",
      "INFO: [2020-11-11 08:55:21] indra.sources.indra_db_rest.util - params: {'ev_limit': 10, 'best_first': True, 'max_stmts': None, 'api_key': '[api-key]'}\n"
     ]
    },
    {
     "name": "stdout",
     "output_type": "stream",
     "text": [
      "55 of 179\n"
     ]
    },
    {
     "name": "stderr",
     "output_type": "stream",
     "text": [
      "INFO: [2020-11-11 08:55:25] indra.sources.indra_db_rest.util - query: https://db.indra.bio/statements/from_papers\n",
      "INFO: [2020-11-11 08:55:25] indra.sources.indra_db_rest.util - params: {'ev_limit': 10, 'best_first': True, 'max_stmts': None, 'api_key': '[api-key]'}\n"
     ]
    },
    {
     "name": "stdout",
     "output_type": "stream",
     "text": [
      "56 of 179\n"
     ]
    },
    {
     "name": "stderr",
     "output_type": "stream",
     "text": [
      "INFO: [2020-11-11 08:55:29] indra.sources.indra_db_rest.util - query: https://db.indra.bio/statements/from_papers\n",
      "INFO: [2020-11-11 08:55:29] indra.sources.indra_db_rest.util - params: {'ev_limit': 10, 'best_first': True, 'max_stmts': None, 'api_key': '[api-key]'}\n"
     ]
    },
    {
     "name": "stdout",
     "output_type": "stream",
     "text": [
      "57 of 179\n"
     ]
    },
    {
     "name": "stderr",
     "output_type": "stream",
     "text": [
      "INFO: [2020-11-11 08:55:32] indra.sources.indra_db_rest.util - query: https://db.indra.bio/statements/from_papers\n",
      "INFO: [2020-11-11 08:55:32] indra.sources.indra_db_rest.util - params: {'ev_limit': 10, 'best_first': True, 'max_stmts': None, 'api_key': '[api-key]'}\n"
     ]
    },
    {
     "name": "stdout",
     "output_type": "stream",
     "text": [
      "58 of 179\n"
     ]
    },
    {
     "name": "stderr",
     "output_type": "stream",
     "text": [
      "INFO: [2020-11-11 08:55:37] indra.sources.indra_db_rest.util - query: https://db.indra.bio/statements/from_papers\n",
      "INFO: [2020-11-11 08:55:37] indra.sources.indra_db_rest.util - params: {'ev_limit': 10, 'best_first': True, 'max_stmts': None, 'api_key': '[api-key]'}\n"
     ]
    },
    {
     "name": "stdout",
     "output_type": "stream",
     "text": [
      "59 of 179\n"
     ]
    },
    {
     "name": "stderr",
     "output_type": "stream",
     "text": [
      "INFO: [2020-11-11 08:55:44] indra.sources.indra_db_rest.util - query: https://db.indra.bio/statements/from_papers\n",
      "INFO: [2020-11-11 08:55:44] indra.sources.indra_db_rest.util - params: {'ev_limit': 10, 'best_first': True, 'max_stmts': None, 'api_key': '[api-key]'}\n"
     ]
    },
    {
     "name": "stdout",
     "output_type": "stream",
     "text": [
      "60 of 179\n"
     ]
    },
    {
     "name": "stderr",
     "output_type": "stream",
     "text": [
      "INFO: [2020-11-11 08:55:45] indra.sources.indra_db_rest.util - query: https://db.indra.bio/statements/from_papers\n",
      "INFO: [2020-11-11 08:55:45] indra.sources.indra_db_rest.util - params: {'ev_limit': 10, 'best_first': True, 'max_stmts': None, 'api_key': '[api-key]'}\n"
     ]
    },
    {
     "name": "stdout",
     "output_type": "stream",
     "text": [
      "61 of 179\n"
     ]
    },
    {
     "name": "stderr",
     "output_type": "stream",
     "text": [
      "INFO: [2020-11-11 08:55:46] indra.sources.indra_db_rest.util - query: https://db.indra.bio/statements/from_papers\n",
      "INFO: [2020-11-11 08:55:46] indra.sources.indra_db_rest.util - params: {'ev_limit': 10, 'best_first': True, 'max_stmts': None, 'api_key': '[api-key]'}\n"
     ]
    },
    {
     "name": "stdout",
     "output_type": "stream",
     "text": [
      "62 of 179\n"
     ]
    },
    {
     "name": "stderr",
     "output_type": "stream",
     "text": [
      "INFO: [2020-11-11 08:56:10] indra.sources.indra_db_rest.util - query: https://db.indra.bio/statements/from_papers\n",
      "INFO: [2020-11-11 08:56:10] indra.sources.indra_db_rest.util - params: {'ev_limit': 10, 'best_first': True, 'max_stmts': None, 'api_key': '[api-key]'}\n"
     ]
    },
    {
     "name": "stdout",
     "output_type": "stream",
     "text": [
      "63 of 179\n"
     ]
    },
    {
     "name": "stderr",
     "output_type": "stream",
     "text": [
      "INFO: [2020-11-11 08:56:14] indra.sources.indra_db_rest.util - query: https://db.indra.bio/statements/from_papers\n",
      "INFO: [2020-11-11 08:56:14] indra.sources.indra_db_rest.util - params: {'ev_limit': 10, 'best_first': True, 'max_stmts': None, 'api_key': '[api-key]'}\n"
     ]
    },
    {
     "name": "stdout",
     "output_type": "stream",
     "text": [
      "64 of 179\n"
     ]
    },
    {
     "name": "stderr",
     "output_type": "stream",
     "text": [
      "INFO: [2020-11-11 08:56:17] indra.sources.indra_db_rest.util - query: https://db.indra.bio/statements/from_papers\n",
      "INFO: [2020-11-11 08:56:17] indra.sources.indra_db_rest.util - params: {'ev_limit': 10, 'best_first': True, 'max_stmts': None, 'api_key': '[api-key]'}\n"
     ]
    },
    {
     "name": "stdout",
     "output_type": "stream",
     "text": [
      "65 of 179\n"
     ]
    },
    {
     "name": "stderr",
     "output_type": "stream",
     "text": [
      "INFO: [2020-11-11 08:56:18] indra.sources.indra_db_rest.util - query: https://db.indra.bio/statements/from_papers\n",
      "INFO: [2020-11-11 08:56:18] indra.sources.indra_db_rest.util - params: {'ev_limit': 10, 'best_first': True, 'max_stmts': None, 'api_key': '[api-key]'}\n"
     ]
    },
    {
     "name": "stdout",
     "output_type": "stream",
     "text": [
      "66 of 179\n"
     ]
    },
    {
     "name": "stderr",
     "output_type": "stream",
     "text": [
      "INFO: [2020-11-11 08:56:31] indra.sources.indra_db_rest.util - query: https://db.indra.bio/statements/from_papers\n",
      "INFO: [2020-11-11 08:56:31] indra.sources.indra_db_rest.util - params: {'ev_limit': 10, 'best_first': True, 'max_stmts': None, 'api_key': '[api-key]'}\n"
     ]
    },
    {
     "name": "stdout",
     "output_type": "stream",
     "text": [
      "67 of 179\n"
     ]
    },
    {
     "name": "stderr",
     "output_type": "stream",
     "text": [
      "INFO: [2020-11-11 08:56:42] indra.sources.indra_db_rest.util - query: https://db.indra.bio/statements/from_papers\n",
      "INFO: [2020-11-11 08:56:42] indra.sources.indra_db_rest.util - params: {'ev_limit': 10, 'best_first': True, 'max_stmts': None, 'api_key': '[api-key]'}\n"
     ]
    },
    {
     "name": "stdout",
     "output_type": "stream",
     "text": [
      "68 of 179\n"
     ]
    },
    {
     "name": "stderr",
     "output_type": "stream",
     "text": [
      "INFO: [2020-11-11 08:56:48] indra.sources.indra_db_rest.util - query: https://db.indra.bio/statements/from_papers\n",
      "INFO: [2020-11-11 08:56:48] indra.sources.indra_db_rest.util - params: {'ev_limit': 10, 'best_first': True, 'max_stmts': None, 'api_key': '[api-key]'}\n"
     ]
    },
    {
     "name": "stdout",
     "output_type": "stream",
     "text": [
      "69 of 179\n"
     ]
    },
    {
     "name": "stderr",
     "output_type": "stream",
     "text": [
      "INFO: [2020-11-11 08:56:52] indra.sources.indra_db_rest.util - query: https://db.indra.bio/statements/from_papers\n",
      "INFO: [2020-11-11 08:56:52] indra.sources.indra_db_rest.util - params: {'ev_limit': 10, 'best_first': True, 'max_stmts': None, 'api_key': '[api-key]'}\n"
     ]
    },
    {
     "name": "stdout",
     "output_type": "stream",
     "text": [
      "70 of 179\n"
     ]
    },
    {
     "name": "stderr",
     "output_type": "stream",
     "text": [
      "INFO: [2020-11-11 08:56:54] indra.sources.indra_db_rest.util - query: https://db.indra.bio/statements/from_papers\n",
      "INFO: [2020-11-11 08:56:54] indra.sources.indra_db_rest.util - params: {'ev_limit': 10, 'best_first': True, 'max_stmts': None, 'api_key': '[api-key]'}\n"
     ]
    },
    {
     "name": "stdout",
     "output_type": "stream",
     "text": [
      "71 of 179\n"
     ]
    },
    {
     "name": "stderr",
     "output_type": "stream",
     "text": [
      "INFO: [2020-11-11 08:57:01] indra.sources.indra_db_rest.util - query: https://db.indra.bio/statements/from_papers\n",
      "INFO: [2020-11-11 08:57:01] indra.sources.indra_db_rest.util - params: {'ev_limit': 10, 'best_first': True, 'max_stmts': None, 'api_key': '[api-key]'}\n"
     ]
    },
    {
     "name": "stdout",
     "output_type": "stream",
     "text": [
      "72 of 179\n"
     ]
    },
    {
     "name": "stderr",
     "output_type": "stream",
     "text": [
      "INFO: [2020-11-11 08:57:04] indra.sources.indra_db_rest.util - query: https://db.indra.bio/statements/from_papers\n",
      "INFO: [2020-11-11 08:57:04] indra.sources.indra_db_rest.util - params: {'ev_limit': 10, 'best_first': True, 'max_stmts': None, 'api_key': '[api-key]'}\n"
     ]
    },
    {
     "name": "stdout",
     "output_type": "stream",
     "text": [
      "73 of 179\n"
     ]
    },
    {
     "name": "stderr",
     "output_type": "stream",
     "text": [
      "INFO: [2020-11-11 08:57:11] indra.sources.indra_db_rest.util - query: https://db.indra.bio/statements/from_papers\n",
      "INFO: [2020-11-11 08:57:11] indra.sources.indra_db_rest.util - params: {'ev_limit': 10, 'best_first': True, 'max_stmts': None, 'api_key': '[api-key]'}\n"
     ]
    },
    {
     "name": "stdout",
     "output_type": "stream",
     "text": [
      "74 of 179\n"
     ]
    },
    {
     "name": "stderr",
     "output_type": "stream",
     "text": [
      "INFO: [2020-11-11 08:57:12] indra.sources.indra_db_rest.util - query: https://db.indra.bio/statements/from_papers\n",
      "INFO: [2020-11-11 08:57:12] indra.sources.indra_db_rest.util - params: {'ev_limit': 10, 'best_first': True, 'max_stmts': None, 'api_key': '[api-key]'}\n"
     ]
    },
    {
     "name": "stdout",
     "output_type": "stream",
     "text": [
      "75 of 179\n"
     ]
    },
    {
     "name": "stderr",
     "output_type": "stream",
     "text": [
      "INFO: [2020-11-11 08:57:19] indra.sources.indra_db_rest.util - query: https://db.indra.bio/statements/from_papers\n",
      "INFO: [2020-11-11 08:57:19] indra.sources.indra_db_rest.util - params: {'ev_limit': 10, 'best_first': True, 'max_stmts': None, 'api_key': '[api-key]'}\n"
     ]
    },
    {
     "name": "stdout",
     "output_type": "stream",
     "text": [
      "76 of 179\n"
     ]
    },
    {
     "name": "stderr",
     "output_type": "stream",
     "text": [
      "INFO: [2020-11-11 08:57:24] indra.sources.indra_db_rest.util - query: https://db.indra.bio/statements/from_papers\n",
      "INFO: [2020-11-11 08:57:24] indra.sources.indra_db_rest.util - params: {'ev_limit': 10, 'best_first': True, 'max_stmts': None, 'api_key': '[api-key]'}\n"
     ]
    },
    {
     "name": "stdout",
     "output_type": "stream",
     "text": [
      "77 of 179\n"
     ]
    },
    {
     "name": "stderr",
     "output_type": "stream",
     "text": [
      "INFO: [2020-11-11 08:57:28] indra.sources.indra_db_rest.util - query: https://db.indra.bio/statements/from_papers\n",
      "INFO: [2020-11-11 08:57:28] indra.sources.indra_db_rest.util - params: {'ev_limit': 10, 'best_first': True, 'max_stmts': None, 'api_key': '[api-key]'}\n"
     ]
    },
    {
     "name": "stdout",
     "output_type": "stream",
     "text": [
      "78 of 179\n"
     ]
    },
    {
     "name": "stderr",
     "output_type": "stream",
     "text": [
      "INFO: [2020-11-11 08:57:32] indra.sources.indra_db_rest.util - query: https://db.indra.bio/statements/from_papers\n",
      "INFO: [2020-11-11 08:57:32] indra.sources.indra_db_rest.util - params: {'ev_limit': 10, 'best_first': True, 'max_stmts': None, 'api_key': '[api-key]'}\n"
     ]
    },
    {
     "name": "stdout",
     "output_type": "stream",
     "text": [
      "79 of 179\n"
     ]
    },
    {
     "name": "stderr",
     "output_type": "stream",
     "text": [
      "INFO: [2020-11-11 08:57:43] indra.sources.indra_db_rest.util - query: https://db.indra.bio/statements/from_papers\n",
      "INFO: [2020-11-11 08:57:43] indra.sources.indra_db_rest.util - params: {'ev_limit': 10, 'best_first': True, 'max_stmts': None, 'api_key': '[api-key]'}\n"
     ]
    },
    {
     "name": "stdout",
     "output_type": "stream",
     "text": [
      "80 of 179\n"
     ]
    },
    {
     "name": "stderr",
     "output_type": "stream",
     "text": [
      "INFO: [2020-11-11 08:57:46] indra.sources.indra_db_rest.util - query: https://db.indra.bio/statements/from_papers\n",
      "INFO: [2020-11-11 08:57:46] indra.sources.indra_db_rest.util - params: {'ev_limit': 10, 'best_first': True, 'max_stmts': None, 'api_key': '[api-key]'}\n"
     ]
    },
    {
     "name": "stdout",
     "output_type": "stream",
     "text": [
      "81 of 179\n"
     ]
    },
    {
     "name": "stderr",
     "output_type": "stream",
     "text": [
      "INFO: [2020-11-11 08:57:48] indra.sources.indra_db_rest.util - query: https://db.indra.bio/statements/from_papers\n",
      "INFO: [2020-11-11 08:57:48] indra.sources.indra_db_rest.util - params: {'ev_limit': 10, 'best_first': True, 'max_stmts': None, 'api_key': '[api-key]'}\n"
     ]
    },
    {
     "name": "stdout",
     "output_type": "stream",
     "text": [
      "82 of 179\n"
     ]
    },
    {
     "name": "stderr",
     "output_type": "stream",
     "text": [
      "INFO: [2020-11-11 08:57:49] indra.sources.indra_db_rest.util - query: https://db.indra.bio/statements/from_papers\n",
      "INFO: [2020-11-11 08:57:49] indra.sources.indra_db_rest.util - params: {'ev_limit': 10, 'best_first': True, 'max_stmts': None, 'api_key': '[api-key]'}\n"
     ]
    },
    {
     "name": "stdout",
     "output_type": "stream",
     "text": [
      "83 of 179\n"
     ]
    },
    {
     "name": "stderr",
     "output_type": "stream",
     "text": [
      "INFO: [2020-11-11 08:57:50] indra.sources.indra_db_rest.util - query: https://db.indra.bio/statements/from_papers\n",
      "INFO: [2020-11-11 08:57:50] indra.sources.indra_db_rest.util - params: {'ev_limit': 10, 'best_first': True, 'max_stmts': None, 'api_key': '[api-key]'}\n"
     ]
    },
    {
     "name": "stdout",
     "output_type": "stream",
     "text": [
      "84 of 179\n"
     ]
    },
    {
     "name": "stderr",
     "output_type": "stream",
     "text": [
      "INFO: [2020-11-11 08:57:56] indra.sources.indra_db_rest.util - query: https://db.indra.bio/statements/from_papers\n",
      "INFO: [2020-11-11 08:57:56] indra.sources.indra_db_rest.util - params: {'ev_limit': 10, 'best_first': True, 'max_stmts': None, 'api_key': '[api-key]'}\n"
     ]
    },
    {
     "name": "stdout",
     "output_type": "stream",
     "text": [
      "85 of 179\n"
     ]
    },
    {
     "name": "stderr",
     "output_type": "stream",
     "text": [
      "INFO: [2020-11-11 08:58:00] indra.sources.indra_db_rest.util - query: https://db.indra.bio/statements/from_papers\n",
      "INFO: [2020-11-11 08:58:00] indra.sources.indra_db_rest.util - params: {'ev_limit': 10, 'best_first': True, 'max_stmts': None, 'api_key': '[api-key]'}\n"
     ]
    },
    {
     "name": "stdout",
     "output_type": "stream",
     "text": [
      "86 of 179\n"
     ]
    },
    {
     "name": "stderr",
     "output_type": "stream",
     "text": [
      "INFO: [2020-11-11 08:58:08] indra.sources.indra_db_rest.util - query: https://db.indra.bio/statements/from_papers\n",
      "INFO: [2020-11-11 08:58:08] indra.sources.indra_db_rest.util - params: {'ev_limit': 10, 'best_first': True, 'max_stmts': None, 'api_key': '[api-key]'}\n"
     ]
    },
    {
     "name": "stdout",
     "output_type": "stream",
     "text": [
      "87 of 179\n"
     ]
    },
    {
     "name": "stderr",
     "output_type": "stream",
     "text": [
      "INFO: [2020-11-11 08:58:13] indra.sources.indra_db_rest.util - query: https://db.indra.bio/statements/from_papers\n",
      "INFO: [2020-11-11 08:58:13] indra.sources.indra_db_rest.util - params: {'ev_limit': 10, 'best_first': True, 'max_stmts': None, 'api_key': '[api-key]'}\n"
     ]
    },
    {
     "name": "stdout",
     "output_type": "stream",
     "text": [
      "88 of 179\n"
     ]
    },
    {
     "name": "stderr",
     "output_type": "stream",
     "text": [
      "INFO: [2020-11-11 08:58:15] indra.sources.indra_db_rest.util - query: https://db.indra.bio/statements/from_papers\n",
      "INFO: [2020-11-11 08:58:15] indra.sources.indra_db_rest.util - params: {'ev_limit': 10, 'best_first': True, 'max_stmts': None, 'api_key': '[api-key]'}\n"
     ]
    },
    {
     "name": "stdout",
     "output_type": "stream",
     "text": [
      "89 of 179\n"
     ]
    },
    {
     "name": "stderr",
     "output_type": "stream",
     "text": [
      "INFO: [2020-11-11 08:58:25] indra.sources.indra_db_rest.util - query: https://db.indra.bio/statements/from_papers\n",
      "INFO: [2020-11-11 08:58:25] indra.sources.indra_db_rest.util - params: {'ev_limit': 10, 'best_first': True, 'max_stmts': None, 'api_key': '[api-key]'}\n"
     ]
    },
    {
     "name": "stdout",
     "output_type": "stream",
     "text": [
      "90 of 179\n"
     ]
    },
    {
     "name": "stderr",
     "output_type": "stream",
     "text": [
      "INFO: [2020-11-11 08:58:34] indra.sources.indra_db_rest.util - query: https://db.indra.bio/statements/from_papers\n",
      "INFO: [2020-11-11 08:58:34] indra.sources.indra_db_rest.util - params: {'ev_limit': 10, 'best_first': True, 'max_stmts': None, 'api_key': '[api-key]'}\n"
     ]
    },
    {
     "name": "stdout",
     "output_type": "stream",
     "text": [
      "91 of 179\n"
     ]
    },
    {
     "name": "stderr",
     "output_type": "stream",
     "text": [
      "INFO: [2020-11-11 08:58:40] indra.sources.indra_db_rest.util - query: https://db.indra.bio/statements/from_papers\n",
      "INFO: [2020-11-11 08:58:40] indra.sources.indra_db_rest.util - params: {'ev_limit': 10, 'best_first': True, 'max_stmts': None, 'api_key': '[api-key]'}\n"
     ]
    },
    {
     "name": "stdout",
     "output_type": "stream",
     "text": [
      "92 of 179\n"
     ]
    },
    {
     "name": "stderr",
     "output_type": "stream",
     "text": [
      "INFO: [2020-11-11 08:58:44] indra.sources.indra_db_rest.util - query: https://db.indra.bio/statements/from_papers\n",
      "INFO: [2020-11-11 08:58:44] indra.sources.indra_db_rest.util - params: {'ev_limit': 10, 'best_first': True, 'max_stmts': None, 'api_key': '[api-key]'}\n"
     ]
    },
    {
     "name": "stdout",
     "output_type": "stream",
     "text": [
      "93 of 179\n"
     ]
    },
    {
     "name": "stderr",
     "output_type": "stream",
     "text": [
      "INFO: [2020-11-11 08:58:50] indra.sources.indra_db_rest.util - query: https://db.indra.bio/statements/from_papers\n",
      "INFO: [2020-11-11 08:58:50] indra.sources.indra_db_rest.util - params: {'ev_limit': 10, 'best_first': True, 'max_stmts': None, 'api_key': '[api-key]'}\n"
     ]
    },
    {
     "name": "stdout",
     "output_type": "stream",
     "text": [
      "94 of 179\n"
     ]
    },
    {
     "name": "stderr",
     "output_type": "stream",
     "text": [
      "INFO: [2020-11-11 08:59:02] indra.sources.indra_db_rest.util - query: https://db.indra.bio/statements/from_papers\n",
      "INFO: [2020-11-11 08:59:02] indra.sources.indra_db_rest.util - params: {'ev_limit': 10, 'best_first': True, 'max_stmts': None, 'api_key': '[api-key]'}\n"
     ]
    },
    {
     "name": "stdout",
     "output_type": "stream",
     "text": [
      "95 of 179\n"
     ]
    },
    {
     "name": "stderr",
     "output_type": "stream",
     "text": [
      "INFO: [2020-11-11 08:59:10] indra.sources.indra_db_rest.util - query: https://db.indra.bio/statements/from_papers\n",
      "INFO: [2020-11-11 08:59:10] indra.sources.indra_db_rest.util - params: {'ev_limit': 10, 'best_first': True, 'max_stmts': None, 'api_key': '[api-key]'}\n"
     ]
    },
    {
     "name": "stdout",
     "output_type": "stream",
     "text": [
      "96 of 179\n"
     ]
    },
    {
     "name": "stderr",
     "output_type": "stream",
     "text": [
      "INFO: [2020-11-11 08:59:17] indra.sources.indra_db_rest.util - query: https://db.indra.bio/statements/from_papers\n",
      "INFO: [2020-11-11 08:59:17] indra.sources.indra_db_rest.util - params: {'ev_limit': 10, 'best_first': True, 'max_stmts': None, 'api_key': '[api-key]'}\n"
     ]
    },
    {
     "name": "stdout",
     "output_type": "stream",
     "text": [
      "97 of 179\n"
     ]
    },
    {
     "name": "stderr",
     "output_type": "stream",
     "text": [
      "INFO: [2020-11-11 08:59:23] indra.sources.indra_db_rest.util - query: https://db.indra.bio/statements/from_papers\n",
      "INFO: [2020-11-11 08:59:23] indra.sources.indra_db_rest.util - params: {'ev_limit': 10, 'best_first': True, 'max_stmts': None, 'api_key': '[api-key]'}\n"
     ]
    },
    {
     "name": "stdout",
     "output_type": "stream",
     "text": [
      "98 of 179\n"
     ]
    },
    {
     "name": "stderr",
     "output_type": "stream",
     "text": [
      "INFO: [2020-11-11 08:59:28] indra.sources.indra_db_rest.util - query: https://db.indra.bio/statements/from_papers\n",
      "INFO: [2020-11-11 08:59:28] indra.sources.indra_db_rest.util - params: {'ev_limit': 10, 'best_first': True, 'max_stmts': None, 'api_key': '[api-key]'}\n"
     ]
    },
    {
     "name": "stdout",
     "output_type": "stream",
     "text": [
      "99 of 179\n"
     ]
    },
    {
     "name": "stderr",
     "output_type": "stream",
     "text": [
      "INFO: [2020-11-11 08:59:28] indra.sources.indra_db_rest.util - query: https://db.indra.bio/statements/from_papers\n",
      "INFO: [2020-11-11 08:59:28] indra.sources.indra_db_rest.util - params: {'ev_limit': 10, 'best_first': True, 'max_stmts': None, 'api_key': '[api-key]'}\n"
     ]
    },
    {
     "name": "stdout",
     "output_type": "stream",
     "text": [
      "100 of 179\n"
     ]
    },
    {
     "name": "stderr",
     "output_type": "stream",
     "text": [
      "INFO: [2020-11-11 08:59:31] indra.sources.indra_db_rest.util - query: https://db.indra.bio/statements/from_papers\n",
      "INFO: [2020-11-11 08:59:31] indra.sources.indra_db_rest.util - params: {'ev_limit': 10, 'best_first': True, 'max_stmts': None, 'api_key': '[api-key]'}\n"
     ]
    },
    {
     "name": "stdout",
     "output_type": "stream",
     "text": [
      "101 of 179\n"
     ]
    },
    {
     "name": "stderr",
     "output_type": "stream",
     "text": [
      "INFO: [2020-11-11 08:59:42] indra.sources.indra_db_rest.util - query: https://db.indra.bio/statements/from_papers\n",
      "INFO: [2020-11-11 08:59:42] indra.sources.indra_db_rest.util - params: {'ev_limit': 10, 'best_first': True, 'max_stmts': None, 'api_key': '[api-key]'}\n"
     ]
    },
    {
     "name": "stdout",
     "output_type": "stream",
     "text": [
      "102 of 179\n"
     ]
    },
    {
     "name": "stderr",
     "output_type": "stream",
     "text": [
      "INFO: [2020-11-11 08:59:46] indra.sources.indra_db_rest.util - query: https://db.indra.bio/statements/from_papers\n",
      "INFO: [2020-11-11 08:59:46] indra.sources.indra_db_rest.util - params: {'ev_limit': 10, 'best_first': True, 'max_stmts': None, 'api_key': '[api-key]'}\n"
     ]
    },
    {
     "name": "stdout",
     "output_type": "stream",
     "text": [
      "103 of 179\n"
     ]
    },
    {
     "name": "stderr",
     "output_type": "stream",
     "text": [
      "INFO: [2020-11-11 09:00:01] indra.sources.indra_db_rest.util - query: https://db.indra.bio/statements/from_papers\n",
      "INFO: [2020-11-11 09:00:01] indra.sources.indra_db_rest.util - params: {'ev_limit': 10, 'best_first': True, 'max_stmts': None, 'api_key': '[api-key]'}\n"
     ]
    },
    {
     "name": "stdout",
     "output_type": "stream",
     "text": [
      "104 of 179\n"
     ]
    },
    {
     "name": "stderr",
     "output_type": "stream",
     "text": [
      "INFO: [2020-11-11 09:00:24] indra.sources.indra_db_rest.util - query: https://db.indra.bio/statements/from_papers\n",
      "INFO: [2020-11-11 09:00:24] indra.sources.indra_db_rest.util - params: {'ev_limit': 10, 'best_first': True, 'max_stmts': None, 'api_key': '[api-key]'}\n"
     ]
    },
    {
     "name": "stdout",
     "output_type": "stream",
     "text": [
      "105 of 179\n"
     ]
    },
    {
     "name": "stderr",
     "output_type": "stream",
     "text": [
      "INFO: [2020-11-11 09:00:25] indra.sources.indra_db_rest.util - query: https://db.indra.bio/statements/from_papers\n",
      "INFO: [2020-11-11 09:00:25] indra.sources.indra_db_rest.util - params: {'ev_limit': 10, 'best_first': True, 'max_stmts': None, 'api_key': '[api-key]'}\n"
     ]
    },
    {
     "name": "stdout",
     "output_type": "stream",
     "text": [
      "106 of 179\n"
     ]
    },
    {
     "name": "stderr",
     "output_type": "stream",
     "text": [
      "INFO: [2020-11-11 09:00:30] indra.sources.indra_db_rest.util - query: https://db.indra.bio/statements/from_papers\n",
      "INFO: [2020-11-11 09:00:30] indra.sources.indra_db_rest.util - params: {'ev_limit': 10, 'best_first': True, 'max_stmts': None, 'api_key': '[api-key]'}\n"
     ]
    },
    {
     "name": "stdout",
     "output_type": "stream",
     "text": [
      "107 of 179\n"
     ]
    },
    {
     "name": "stderr",
     "output_type": "stream",
     "text": [
      "INFO: [2020-11-11 09:00:35] indra.sources.indra_db_rest.util - query: https://db.indra.bio/statements/from_papers\n",
      "INFO: [2020-11-11 09:00:35] indra.sources.indra_db_rest.util - params: {'ev_limit': 10, 'best_first': True, 'max_stmts': None, 'api_key': '[api-key]'}\n"
     ]
    },
    {
     "name": "stdout",
     "output_type": "stream",
     "text": [
      "108 of 179\n"
     ]
    },
    {
     "name": "stderr",
     "output_type": "stream",
     "text": [
      "INFO: [2020-11-11 09:00:44] indra.sources.indra_db_rest.util - query: https://db.indra.bio/statements/from_papers\n",
      "INFO: [2020-11-11 09:00:44] indra.sources.indra_db_rest.util - params: {'ev_limit': 10, 'best_first': True, 'max_stmts': None, 'api_key': '[api-key]'}\n"
     ]
    },
    {
     "name": "stdout",
     "output_type": "stream",
     "text": [
      "109 of 179\n"
     ]
    },
    {
     "name": "stderr",
     "output_type": "stream",
     "text": [
      "INFO: [2020-11-11 09:00:55] indra.sources.indra_db_rest.util - query: https://db.indra.bio/statements/from_papers\n",
      "INFO: [2020-11-11 09:00:55] indra.sources.indra_db_rest.util - params: {'ev_limit': 10, 'best_first': True, 'max_stmts': None, 'api_key': '[api-key]'}\n"
     ]
    },
    {
     "name": "stdout",
     "output_type": "stream",
     "text": [
      "110 of 179\n"
     ]
    },
    {
     "name": "stderr",
     "output_type": "stream",
     "text": [
      "INFO: [2020-11-11 09:01:10] indra.sources.indra_db_rest.util - query: https://db.indra.bio/statements/from_papers\n",
      "INFO: [2020-11-11 09:01:10] indra.sources.indra_db_rest.util - params: {'ev_limit': 10, 'best_first': True, 'max_stmts': None, 'api_key': '[api-key]'}\n"
     ]
    },
    {
     "name": "stdout",
     "output_type": "stream",
     "text": [
      "111 of 179\n"
     ]
    },
    {
     "name": "stderr",
     "output_type": "stream",
     "text": [
      "INFO: [2020-11-11 09:01:21] indra.sources.indra_db_rest.util - query: https://db.indra.bio/statements/from_papers\n",
      "INFO: [2020-11-11 09:01:21] indra.sources.indra_db_rest.util - params: {'ev_limit': 10, 'best_first': True, 'max_stmts': None, 'api_key': '[api-key]'}\n"
     ]
    },
    {
     "name": "stdout",
     "output_type": "stream",
     "text": [
      "112 of 179\n"
     ]
    },
    {
     "name": "stderr",
     "output_type": "stream",
     "text": [
      "INFO: [2020-11-11 09:01:26] indra.sources.indra_db_rest.util - query: https://db.indra.bio/statements/from_papers\n",
      "INFO: [2020-11-11 09:01:26] indra.sources.indra_db_rest.util - params: {'ev_limit': 10, 'best_first': True, 'max_stmts': None, 'api_key': '[api-key]'}\n"
     ]
    },
    {
     "name": "stdout",
     "output_type": "stream",
     "text": [
      "113 of 179\n"
     ]
    },
    {
     "name": "stderr",
     "output_type": "stream",
     "text": [
      "INFO: [2020-11-11 09:01:29] indra.sources.indra_db_rest.util - query: https://db.indra.bio/statements/from_papers\n",
      "INFO: [2020-11-11 09:01:29] indra.sources.indra_db_rest.util - params: {'ev_limit': 10, 'best_first': True, 'max_stmts': None, 'api_key': '[api-key]'}\n"
     ]
    },
    {
     "name": "stdout",
     "output_type": "stream",
     "text": [
      "114 of 179\n"
     ]
    },
    {
     "name": "stderr",
     "output_type": "stream",
     "text": [
      "INFO: [2020-11-11 09:01:38] indra.sources.indra_db_rest.util - query: https://db.indra.bio/statements/from_papers\n",
      "INFO: [2020-11-11 09:01:38] indra.sources.indra_db_rest.util - params: {'ev_limit': 10, 'best_first': True, 'max_stmts': None, 'api_key': '[api-key]'}\n"
     ]
    },
    {
     "name": "stdout",
     "output_type": "stream",
     "text": [
      "115 of 179\n"
     ]
    },
    {
     "name": "stderr",
     "output_type": "stream",
     "text": [
      "INFO: [2020-11-11 09:01:40] indra.sources.indra_db_rest.util - query: https://db.indra.bio/statements/from_papers\n",
      "INFO: [2020-11-11 09:01:40] indra.sources.indra_db_rest.util - params: {'ev_limit': 10, 'best_first': True, 'max_stmts': None, 'api_key': '[api-key]'}\n"
     ]
    },
    {
     "name": "stdout",
     "output_type": "stream",
     "text": [
      "116 of 179\n"
     ]
    },
    {
     "name": "stderr",
     "output_type": "stream",
     "text": [
      "INFO: [2020-11-11 09:01:43] indra.sources.indra_db_rest.util - query: https://db.indra.bio/statements/from_papers\n",
      "INFO: [2020-11-11 09:01:43] indra.sources.indra_db_rest.util - params: {'ev_limit': 10, 'best_first': True, 'max_stmts': None, 'api_key': '[api-key]'}\n"
     ]
    },
    {
     "name": "stdout",
     "output_type": "stream",
     "text": [
      "117 of 179\n"
     ]
    },
    {
     "name": "stderr",
     "output_type": "stream",
     "text": [
      "INFO: [2020-11-11 09:01:52] indra.sources.indra_db_rest.util - query: https://db.indra.bio/statements/from_papers\n",
      "INFO: [2020-11-11 09:01:52] indra.sources.indra_db_rest.util - params: {'ev_limit': 10, 'best_first': True, 'max_stmts': None, 'api_key': '[api-key]'}\n"
     ]
    },
    {
     "name": "stdout",
     "output_type": "stream",
     "text": [
      "118 of 179\n"
     ]
    },
    {
     "name": "stderr",
     "output_type": "stream",
     "text": [
      "INFO: [2020-11-11 09:01:54] indra.sources.indra_db_rest.util - query: https://db.indra.bio/statements/from_papers\n",
      "INFO: [2020-11-11 09:01:54] indra.sources.indra_db_rest.util - params: {'ev_limit': 10, 'best_first': True, 'max_stmts': None, 'api_key': '[api-key]'}\n"
     ]
    },
    {
     "name": "stdout",
     "output_type": "stream",
     "text": [
      "119 of 179\n"
     ]
    },
    {
     "name": "stderr",
     "output_type": "stream",
     "text": [
      "INFO: [2020-11-11 09:02:01] indra.sources.indra_db_rest.util - query: https://db.indra.bio/statements/from_papers\n",
      "INFO: [2020-11-11 09:02:01] indra.sources.indra_db_rest.util - params: {'ev_limit': 10, 'best_first': True, 'max_stmts': None, 'api_key': '[api-key]'}\n"
     ]
    },
    {
     "name": "stdout",
     "output_type": "stream",
     "text": [
      "120 of 179\n"
     ]
    },
    {
     "name": "stderr",
     "output_type": "stream",
     "text": [
      "INFO: [2020-11-11 09:02:04] indra.sources.indra_db_rest.util - query: https://db.indra.bio/statements/from_papers\n",
      "INFO: [2020-11-11 09:02:04] indra.sources.indra_db_rest.util - params: {'ev_limit': 10, 'best_first': True, 'max_stmts': None, 'api_key': '[api-key]'}\n"
     ]
    },
    {
     "name": "stdout",
     "output_type": "stream",
     "text": [
      "121 of 179\n"
     ]
    },
    {
     "name": "stderr",
     "output_type": "stream",
     "text": [
      "INFO: [2020-11-11 09:02:09] indra.sources.indra_db_rest.util - query: https://db.indra.bio/statements/from_papers\n",
      "INFO: [2020-11-11 09:02:09] indra.sources.indra_db_rest.util - params: {'ev_limit': 10, 'best_first': True, 'max_stmts': None, 'api_key': '[api-key]'}\n"
     ]
    },
    {
     "name": "stdout",
     "output_type": "stream",
     "text": [
      "122 of 179\n"
     ]
    },
    {
     "name": "stderr",
     "output_type": "stream",
     "text": [
      "INFO: [2020-11-11 09:02:13] indra.sources.indra_db_rest.util - query: https://db.indra.bio/statements/from_papers\n",
      "INFO: [2020-11-11 09:02:13] indra.sources.indra_db_rest.util - params: {'ev_limit': 10, 'best_first': True, 'max_stmts': None, 'api_key': '[api-key]'}\n"
     ]
    },
    {
     "name": "stdout",
     "output_type": "stream",
     "text": [
      "123 of 179\n"
     ]
    },
    {
     "name": "stderr",
     "output_type": "stream",
     "text": [
      "INFO: [2020-11-11 09:02:17] indra.sources.indra_db_rest.util - query: https://db.indra.bio/statements/from_papers\n",
      "INFO: [2020-11-11 09:02:17] indra.sources.indra_db_rest.util - params: {'ev_limit': 10, 'best_first': True, 'max_stmts': None, 'api_key': '[api-key]'}\n"
     ]
    },
    {
     "name": "stdout",
     "output_type": "stream",
     "text": [
      "124 of 179\n"
     ]
    },
    {
     "name": "stderr",
     "output_type": "stream",
     "text": [
      "INFO: [2020-11-11 09:02:25] indra.sources.indra_db_rest.util - query: https://db.indra.bio/statements/from_papers\n",
      "INFO: [2020-11-11 09:02:25] indra.sources.indra_db_rest.util - params: {'ev_limit': 10, 'best_first': True, 'max_stmts': None, 'api_key': '[api-key]'}\n"
     ]
    },
    {
     "name": "stdout",
     "output_type": "stream",
     "text": [
      "125 of 179\n"
     ]
    },
    {
     "name": "stderr",
     "output_type": "stream",
     "text": [
      "INFO: [2020-11-11 09:02:31] indra.sources.indra_db_rest.util - query: https://db.indra.bio/statements/from_papers\n",
      "INFO: [2020-11-11 09:02:31] indra.sources.indra_db_rest.util - params: {'ev_limit': 10, 'best_first': True, 'max_stmts': None, 'api_key': '[api-key]'}\n"
     ]
    },
    {
     "name": "stdout",
     "output_type": "stream",
     "text": [
      "126 of 179\n"
     ]
    },
    {
     "name": "stderr",
     "output_type": "stream",
     "text": [
      "INFO: [2020-11-11 09:02:37] indra.sources.indra_db_rest.util - query: https://db.indra.bio/statements/from_papers\n",
      "INFO: [2020-11-11 09:02:37] indra.sources.indra_db_rest.util - params: {'ev_limit': 10, 'best_first': True, 'max_stmts': None, 'api_key': '[api-key]'}\n"
     ]
    },
    {
     "name": "stdout",
     "output_type": "stream",
     "text": [
      "127 of 179\n"
     ]
    },
    {
     "name": "stderr",
     "output_type": "stream",
     "text": [
      "INFO: [2020-11-11 09:02:41] indra.sources.indra_db_rest.util - query: https://db.indra.bio/statements/from_papers\n",
      "INFO: [2020-11-11 09:02:41] indra.sources.indra_db_rest.util - params: {'ev_limit': 10, 'best_first': True, 'max_stmts': None, 'api_key': '[api-key]'}\n"
     ]
    },
    {
     "name": "stdout",
     "output_type": "stream",
     "text": [
      "128 of 179\n"
     ]
    },
    {
     "name": "stderr",
     "output_type": "stream",
     "text": [
      "INFO: [2020-11-11 09:02:44] indra.sources.indra_db_rest.util - query: https://db.indra.bio/statements/from_papers\n",
      "INFO: [2020-11-11 09:02:44] indra.sources.indra_db_rest.util - params: {'ev_limit': 10, 'best_first': True, 'max_stmts': None, 'api_key': '[api-key]'}\n"
     ]
    },
    {
     "name": "stdout",
     "output_type": "stream",
     "text": [
      "129 of 179\n"
     ]
    },
    {
     "name": "stderr",
     "output_type": "stream",
     "text": [
      "INFO: [2020-11-11 09:02:46] indra.sources.indra_db_rest.util - query: https://db.indra.bio/statements/from_papers\n",
      "INFO: [2020-11-11 09:02:46] indra.sources.indra_db_rest.util - params: {'ev_limit': 10, 'best_first': True, 'max_stmts': None, 'api_key': '[api-key]'}\n"
     ]
    },
    {
     "name": "stdout",
     "output_type": "stream",
     "text": [
      "130 of 179\n"
     ]
    },
    {
     "name": "stderr",
     "output_type": "stream",
     "text": [
      "INFO: [2020-11-11 09:02:50] indra.sources.indra_db_rest.util - query: https://db.indra.bio/statements/from_papers\n",
      "INFO: [2020-11-11 09:02:50] indra.sources.indra_db_rest.util - params: {'ev_limit': 10, 'best_first': True, 'max_stmts': None, 'api_key': '[api-key]'}\n"
     ]
    },
    {
     "name": "stdout",
     "output_type": "stream",
     "text": [
      "131 of 179\n"
     ]
    },
    {
     "name": "stderr",
     "output_type": "stream",
     "text": [
      "INFO: [2020-11-11 09:02:56] indra.sources.indra_db_rest.util - query: https://db.indra.bio/statements/from_papers\n",
      "INFO: [2020-11-11 09:02:56] indra.sources.indra_db_rest.util - params: {'ev_limit': 10, 'best_first': True, 'max_stmts': None, 'api_key': '[api-key]'}\n"
     ]
    },
    {
     "name": "stdout",
     "output_type": "stream",
     "text": [
      "132 of 179\n"
     ]
    },
    {
     "name": "stderr",
     "output_type": "stream",
     "text": [
      "INFO: [2020-11-11 09:03:03] indra.sources.indra_db_rest.util - query: https://db.indra.bio/statements/from_papers\n",
      "INFO: [2020-11-11 09:03:03] indra.sources.indra_db_rest.util - params: {'ev_limit': 10, 'best_first': True, 'max_stmts': None, 'api_key': '[api-key]'}\n"
     ]
    },
    {
     "name": "stdout",
     "output_type": "stream",
     "text": [
      "133 of 179\n"
     ]
    },
    {
     "name": "stderr",
     "output_type": "stream",
     "text": [
      "INFO: [2020-11-11 09:03:19] indra.sources.indra_db_rest.util - query: https://db.indra.bio/statements/from_papers\n",
      "INFO: [2020-11-11 09:03:19] indra.sources.indra_db_rest.util - params: {'ev_limit': 10, 'best_first': True, 'max_stmts': None, 'api_key': '[api-key]'}\n"
     ]
    },
    {
     "name": "stdout",
     "output_type": "stream",
     "text": [
      "134 of 179\n"
     ]
    },
    {
     "name": "stderr",
     "output_type": "stream",
     "text": [
      "INFO: [2020-11-11 09:03:20] indra.sources.indra_db_rest.util - query: https://db.indra.bio/statements/from_papers\n",
      "INFO: [2020-11-11 09:03:20] indra.sources.indra_db_rest.util - params: {'ev_limit': 10, 'best_first': True, 'max_stmts': None, 'api_key': '[api-key]'}\n"
     ]
    },
    {
     "name": "stdout",
     "output_type": "stream",
     "text": [
      "135 of 179\n"
     ]
    },
    {
     "name": "stderr",
     "output_type": "stream",
     "text": [
      "INFO: [2020-11-11 09:03:23] indra.sources.indra_db_rest.util - query: https://db.indra.bio/statements/from_papers\n",
      "INFO: [2020-11-11 09:03:23] indra.sources.indra_db_rest.util - params: {'ev_limit': 10, 'best_first': True, 'max_stmts': None, 'api_key': '[api-key]'}\n"
     ]
    },
    {
     "name": "stdout",
     "output_type": "stream",
     "text": [
      "136 of 179\n"
     ]
    },
    {
     "name": "stderr",
     "output_type": "stream",
     "text": [
      "INFO: [2020-11-11 09:03:25] indra.sources.indra_db_rest.util - query: https://db.indra.bio/statements/from_papers\n",
      "INFO: [2020-11-11 09:03:25] indra.sources.indra_db_rest.util - params: {'ev_limit': 10, 'best_first': True, 'max_stmts': None, 'api_key': '[api-key]'}\n"
     ]
    },
    {
     "name": "stdout",
     "output_type": "stream",
     "text": [
      "137 of 179\n"
     ]
    },
    {
     "name": "stderr",
     "output_type": "stream",
     "text": [
      "INFO: [2020-11-11 09:03:28] indra.sources.indra_db_rest.util - query: https://db.indra.bio/statements/from_papers\n",
      "INFO: [2020-11-11 09:03:28] indra.sources.indra_db_rest.util - params: {'ev_limit': 10, 'best_first': True, 'max_stmts': None, 'api_key': '[api-key]'}\n"
     ]
    },
    {
     "name": "stdout",
     "output_type": "stream",
     "text": [
      "138 of 179\n"
     ]
    },
    {
     "name": "stderr",
     "output_type": "stream",
     "text": [
      "INFO: [2020-11-11 09:03:34] indra.sources.indra_db_rest.util - query: https://db.indra.bio/statements/from_papers\n",
      "INFO: [2020-11-11 09:03:34] indra.sources.indra_db_rest.util - params: {'ev_limit': 10, 'best_first': True, 'max_stmts': None, 'api_key': '[api-key]'}\n"
     ]
    },
    {
     "name": "stdout",
     "output_type": "stream",
     "text": [
      "139 of 179\n"
     ]
    },
    {
     "name": "stderr",
     "output_type": "stream",
     "text": [
      "INFO: [2020-11-11 09:03:48] indra.sources.indra_db_rest.util - query: https://db.indra.bio/statements/from_papers\n",
      "INFO: [2020-11-11 09:03:48] indra.sources.indra_db_rest.util - params: {'ev_limit': 10, 'best_first': True, 'max_stmts': None, 'api_key': '[api-key]'}\n"
     ]
    },
    {
     "name": "stdout",
     "output_type": "stream",
     "text": [
      "140 of 179\n"
     ]
    },
    {
     "name": "stderr",
     "output_type": "stream",
     "text": [
      "INFO: [2020-11-11 09:03:50] indra.sources.indra_db_rest.util - query: https://db.indra.bio/statements/from_papers\n",
      "INFO: [2020-11-11 09:03:50] indra.sources.indra_db_rest.util - params: {'ev_limit': 10, 'best_first': True, 'max_stmts': None, 'api_key': '[api-key]'}\n"
     ]
    },
    {
     "name": "stdout",
     "output_type": "stream",
     "text": [
      "141 of 179\n"
     ]
    },
    {
     "name": "stderr",
     "output_type": "stream",
     "text": [
      "INFO: [2020-11-11 09:03:54] indra.sources.indra_db_rest.util - query: https://db.indra.bio/statements/from_papers\n",
      "INFO: [2020-11-11 09:03:54] indra.sources.indra_db_rest.util - params: {'ev_limit': 10, 'best_first': True, 'max_stmts': None, 'api_key': '[api-key]'}\n"
     ]
    },
    {
     "name": "stdout",
     "output_type": "stream",
     "text": [
      "142 of 179\n"
     ]
    },
    {
     "name": "stderr",
     "output_type": "stream",
     "text": [
      "INFO: [2020-11-11 09:03:57] indra.sources.indra_db_rest.util - query: https://db.indra.bio/statements/from_papers\n",
      "INFO: [2020-11-11 09:03:57] indra.sources.indra_db_rest.util - params: {'ev_limit': 10, 'best_first': True, 'max_stmts': None, 'api_key': '[api-key]'}\n"
     ]
    },
    {
     "name": "stdout",
     "output_type": "stream",
     "text": [
      "143 of 179\n"
     ]
    },
    {
     "name": "stderr",
     "output_type": "stream",
     "text": [
      "INFO: [2020-11-11 09:04:00] indra.sources.indra_db_rest.util - query: https://db.indra.bio/statements/from_papers\n",
      "INFO: [2020-11-11 09:04:00] indra.sources.indra_db_rest.util - params: {'ev_limit': 10, 'best_first': True, 'max_stmts': None, 'api_key': '[api-key]'}\n"
     ]
    },
    {
     "name": "stdout",
     "output_type": "stream",
     "text": [
      "144 of 179\n"
     ]
    },
    {
     "name": "stderr",
     "output_type": "stream",
     "text": [
      "INFO: [2020-11-11 09:04:07] indra.sources.indra_db_rest.util - query: https://db.indra.bio/statements/from_papers\n",
      "INFO: [2020-11-11 09:04:07] indra.sources.indra_db_rest.util - params: {'ev_limit': 10, 'best_first': True, 'max_stmts': None, 'api_key': '[api-key]'}\n"
     ]
    },
    {
     "name": "stdout",
     "output_type": "stream",
     "text": [
      "145 of 179\n"
     ]
    },
    {
     "name": "stderr",
     "output_type": "stream",
     "text": [
      "INFO: [2020-11-11 09:04:09] indra.sources.indra_db_rest.util - query: https://db.indra.bio/statements/from_papers\n",
      "INFO: [2020-11-11 09:04:09] indra.sources.indra_db_rest.util - params: {'ev_limit': 10, 'best_first': True, 'max_stmts': None, 'api_key': '[api-key]'}\n"
     ]
    },
    {
     "name": "stdout",
     "output_type": "stream",
     "text": [
      "146 of 179\n"
     ]
    },
    {
     "name": "stderr",
     "output_type": "stream",
     "text": [
      "INFO: [2020-11-11 09:04:12] indra.sources.indra_db_rest.util - query: https://db.indra.bio/statements/from_papers\n",
      "INFO: [2020-11-11 09:04:12] indra.sources.indra_db_rest.util - params: {'ev_limit': 10, 'best_first': True, 'max_stmts': None, 'api_key': '[api-key]'}\n"
     ]
    },
    {
     "name": "stdout",
     "output_type": "stream",
     "text": [
      "147 of 179\n"
     ]
    },
    {
     "name": "stderr",
     "output_type": "stream",
     "text": [
      "INFO: [2020-11-11 09:04:15] indra.sources.indra_db_rest.util - query: https://db.indra.bio/statements/from_papers\n",
      "INFO: [2020-11-11 09:04:15] indra.sources.indra_db_rest.util - params: {'ev_limit': 10, 'best_first': True, 'max_stmts': None, 'api_key': '[api-key]'}\n"
     ]
    },
    {
     "name": "stdout",
     "output_type": "stream",
     "text": [
      "148 of 179\n"
     ]
    },
    {
     "name": "stderr",
     "output_type": "stream",
     "text": [
      "INFO: [2020-11-11 09:04:23] indra.sources.indra_db_rest.util - query: https://db.indra.bio/statements/from_papers\n",
      "INFO: [2020-11-11 09:04:23] indra.sources.indra_db_rest.util - params: {'ev_limit': 10, 'best_first': True, 'max_stmts': None, 'api_key': '[api-key]'}\n"
     ]
    },
    {
     "name": "stdout",
     "output_type": "stream",
     "text": [
      "149 of 179\n"
     ]
    },
    {
     "name": "stderr",
     "output_type": "stream",
     "text": [
      "INFO: [2020-11-11 09:04:29] indra.sources.indra_db_rest.util - query: https://db.indra.bio/statements/from_papers\n",
      "INFO: [2020-11-11 09:04:29] indra.sources.indra_db_rest.util - params: {'ev_limit': 10, 'best_first': True, 'max_stmts': None, 'api_key': '[api-key]'}\n"
     ]
    },
    {
     "name": "stdout",
     "output_type": "stream",
     "text": [
      "150 of 179\n"
     ]
    },
    {
     "name": "stderr",
     "output_type": "stream",
     "text": [
      "INFO: [2020-11-11 09:04:32] indra.sources.indra_db_rest.util - query: https://db.indra.bio/statements/from_papers\n",
      "INFO: [2020-11-11 09:04:32] indra.sources.indra_db_rest.util - params: {'ev_limit': 10, 'best_first': True, 'max_stmts': None, 'api_key': '[api-key]'}\n"
     ]
    },
    {
     "name": "stdout",
     "output_type": "stream",
     "text": [
      "151 of 179\n"
     ]
    },
    {
     "name": "stderr",
     "output_type": "stream",
     "text": [
      "INFO: [2020-11-11 09:04:34] indra.sources.indra_db_rest.util - query: https://db.indra.bio/statements/from_papers\n",
      "INFO: [2020-11-11 09:04:34] indra.sources.indra_db_rest.util - params: {'ev_limit': 10, 'best_first': True, 'max_stmts': None, 'api_key': '[api-key]'}\n"
     ]
    },
    {
     "name": "stdout",
     "output_type": "stream",
     "text": [
      "152 of 179\n"
     ]
    },
    {
     "name": "stderr",
     "output_type": "stream",
     "text": [
      "INFO: [2020-11-11 09:04:45] indra.sources.indra_db_rest.util - query: https://db.indra.bio/statements/from_papers\n",
      "INFO: [2020-11-11 09:04:45] indra.sources.indra_db_rest.util - params: {'ev_limit': 10, 'best_first': True, 'max_stmts': None, 'api_key': '[api-key]'}\n"
     ]
    },
    {
     "name": "stdout",
     "output_type": "stream",
     "text": [
      "153 of 179\n"
     ]
    },
    {
     "name": "stderr",
     "output_type": "stream",
     "text": [
      "INFO: [2020-11-11 09:04:49] indra.sources.indra_db_rest.util - query: https://db.indra.bio/statements/from_papers\n",
      "INFO: [2020-11-11 09:04:49] indra.sources.indra_db_rest.util - params: {'ev_limit': 10, 'best_first': True, 'max_stmts': None, 'api_key': '[api-key]'}\n"
     ]
    },
    {
     "name": "stdout",
     "output_type": "stream",
     "text": [
      "154 of 179\n"
     ]
    },
    {
     "name": "stderr",
     "output_type": "stream",
     "text": [
      "INFO: [2020-11-11 09:04:51] indra.sources.indra_db_rest.util - query: https://db.indra.bio/statements/from_papers\n",
      "INFO: [2020-11-11 09:04:51] indra.sources.indra_db_rest.util - params: {'ev_limit': 10, 'best_first': True, 'max_stmts': None, 'api_key': '[api-key]'}\n"
     ]
    },
    {
     "name": "stdout",
     "output_type": "stream",
     "text": [
      "155 of 179\n"
     ]
    },
    {
     "name": "stderr",
     "output_type": "stream",
     "text": [
      "INFO: [2020-11-11 09:04:56] indra.sources.indra_db_rest.util - query: https://db.indra.bio/statements/from_papers\n",
      "INFO: [2020-11-11 09:04:56] indra.sources.indra_db_rest.util - params: {'ev_limit': 10, 'best_first': True, 'max_stmts': None, 'api_key': '[api-key]'}\n"
     ]
    },
    {
     "name": "stdout",
     "output_type": "stream",
     "text": [
      "156 of 179\n"
     ]
    },
    {
     "name": "stderr",
     "output_type": "stream",
     "text": [
      "INFO: [2020-11-11 09:05:01] indra.sources.indra_db_rest.util - query: https://db.indra.bio/statements/from_papers\n",
      "INFO: [2020-11-11 09:05:01] indra.sources.indra_db_rest.util - params: {'ev_limit': 10, 'best_first': True, 'max_stmts': None, 'api_key': '[api-key]'}\n"
     ]
    },
    {
     "name": "stdout",
     "output_type": "stream",
     "text": [
      "157 of 179\n"
     ]
    },
    {
     "name": "stderr",
     "output_type": "stream",
     "text": [
      "INFO: [2020-11-11 09:05:06] indra.sources.indra_db_rest.util - query: https://db.indra.bio/statements/from_papers\n",
      "INFO: [2020-11-11 09:05:06] indra.sources.indra_db_rest.util - params: {'ev_limit': 10, 'best_first': True, 'max_stmts': None, 'api_key': '[api-key]'}\n"
     ]
    },
    {
     "name": "stdout",
     "output_type": "stream",
     "text": [
      "158 of 179\n"
     ]
    },
    {
     "name": "stderr",
     "output_type": "stream",
     "text": [
      "INFO: [2020-11-11 09:05:09] indra.sources.indra_db_rest.util - query: https://db.indra.bio/statements/from_papers\n",
      "INFO: [2020-11-11 09:05:09] indra.sources.indra_db_rest.util - params: {'ev_limit': 10, 'best_first': True, 'max_stmts': None, 'api_key': '[api-key]'}\n"
     ]
    },
    {
     "name": "stdout",
     "output_type": "stream",
     "text": [
      "159 of 179\n"
     ]
    },
    {
     "name": "stderr",
     "output_type": "stream",
     "text": [
      "INFO: [2020-11-11 09:05:14] indra.sources.indra_db_rest.util - query: https://db.indra.bio/statements/from_papers\n",
      "INFO: [2020-11-11 09:05:14] indra.sources.indra_db_rest.util - params: {'ev_limit': 10, 'best_first': True, 'max_stmts': None, 'api_key': '[api-key]'}\n"
     ]
    },
    {
     "name": "stdout",
     "output_type": "stream",
     "text": [
      "160 of 179\n"
     ]
    },
    {
     "name": "stderr",
     "output_type": "stream",
     "text": [
      "INFO: [2020-11-11 09:05:17] indra.sources.indra_db_rest.util - query: https://db.indra.bio/statements/from_papers\n",
      "INFO: [2020-11-11 09:05:17] indra.sources.indra_db_rest.util - params: {'ev_limit': 10, 'best_first': True, 'max_stmts': None, 'api_key': '[api-key]'}\n"
     ]
    },
    {
     "name": "stdout",
     "output_type": "stream",
     "text": [
      "161 of 179\n"
     ]
    },
    {
     "name": "stderr",
     "output_type": "stream",
     "text": [
      "INFO: [2020-11-11 09:05:18] indra.sources.indra_db_rest.util - query: https://db.indra.bio/statements/from_papers\n",
      "INFO: [2020-11-11 09:05:18] indra.sources.indra_db_rest.util - params: {'ev_limit': 10, 'best_first': True, 'max_stmts': None, 'api_key': '[api-key]'}\n"
     ]
    },
    {
     "name": "stdout",
     "output_type": "stream",
     "text": [
      "162 of 179\n"
     ]
    },
    {
     "name": "stderr",
     "output_type": "stream",
     "text": [
      "INFO: [2020-11-11 09:05:20] indra.sources.indra_db_rest.util - query: https://db.indra.bio/statements/from_papers\n",
      "INFO: [2020-11-11 09:05:20] indra.sources.indra_db_rest.util - params: {'ev_limit': 10, 'best_first': True, 'max_stmts': None, 'api_key': '[api-key]'}\n"
     ]
    },
    {
     "name": "stdout",
     "output_type": "stream",
     "text": [
      "163 of 179\n"
     ]
    },
    {
     "name": "stderr",
     "output_type": "stream",
     "text": [
      "INFO: [2020-11-11 09:05:24] indra.sources.indra_db_rest.util - query: https://db.indra.bio/statements/from_papers\n",
      "INFO: [2020-11-11 09:05:24] indra.sources.indra_db_rest.util - params: {'ev_limit': 10, 'best_first': True, 'max_stmts': None, 'api_key': '[api-key]'}\n"
     ]
    },
    {
     "name": "stdout",
     "output_type": "stream",
     "text": [
      "164 of 179\n"
     ]
    },
    {
     "name": "stderr",
     "output_type": "stream",
     "text": [
      "INFO: [2020-11-11 09:05:26] indra.sources.indra_db_rest.util - query: https://db.indra.bio/statements/from_papers\n",
      "INFO: [2020-11-11 09:05:26] indra.sources.indra_db_rest.util - params: {'ev_limit': 10, 'best_first': True, 'max_stmts': None, 'api_key': '[api-key]'}\n"
     ]
    },
    {
     "name": "stdout",
     "output_type": "stream",
     "text": [
      "165 of 179\n"
     ]
    },
    {
     "name": "stderr",
     "output_type": "stream",
     "text": [
      "INFO: [2020-11-11 09:05:32] indra.sources.indra_db_rest.util - query: https://db.indra.bio/statements/from_papers\n",
      "INFO: [2020-11-11 09:05:32] indra.sources.indra_db_rest.util - params: {'ev_limit': 10, 'best_first': True, 'max_stmts': None, 'api_key': '[api-key]'}\n"
     ]
    },
    {
     "name": "stdout",
     "output_type": "stream",
     "text": [
      "166 of 179\n"
     ]
    },
    {
     "name": "stderr",
     "output_type": "stream",
     "text": [
      "INFO: [2020-11-11 09:05:33] indra.sources.indra_db_rest.util - query: https://db.indra.bio/statements/from_papers\n",
      "INFO: [2020-11-11 09:05:33] indra.sources.indra_db_rest.util - params: {'ev_limit': 10, 'best_first': True, 'max_stmts': None, 'api_key': '[api-key]'}\n"
     ]
    },
    {
     "name": "stdout",
     "output_type": "stream",
     "text": [
      "167 of 179\n"
     ]
    },
    {
     "name": "stderr",
     "output_type": "stream",
     "text": [
      "INFO: [2020-11-11 09:05:38] indra.sources.indra_db_rest.util - query: https://db.indra.bio/statements/from_papers\n",
      "INFO: [2020-11-11 09:05:38] indra.sources.indra_db_rest.util - params: {'ev_limit': 10, 'best_first': True, 'max_stmts': None, 'api_key': '[api-key]'}\n"
     ]
    },
    {
     "name": "stdout",
     "output_type": "stream",
     "text": [
      "168 of 179\n"
     ]
    },
    {
     "name": "stderr",
     "output_type": "stream",
     "text": [
      "INFO: [2020-11-11 09:05:39] indra.sources.indra_db_rest.util - query: https://db.indra.bio/statements/from_papers\n",
      "INFO: [2020-11-11 09:05:39] indra.sources.indra_db_rest.util - params: {'ev_limit': 10, 'best_first': True, 'max_stmts': None, 'api_key': '[api-key]'}\n"
     ]
    },
    {
     "name": "stdout",
     "output_type": "stream",
     "text": [
      "169 of 179\n"
     ]
    },
    {
     "name": "stderr",
     "output_type": "stream",
     "text": [
      "INFO: [2020-11-11 09:05:43] indra.sources.indra_db_rest.util - query: https://db.indra.bio/statements/from_papers\n",
      "INFO: [2020-11-11 09:05:43] indra.sources.indra_db_rest.util - params: {'ev_limit': 10, 'best_first': True, 'max_stmts': None, 'api_key': '[api-key]'}\n"
     ]
    },
    {
     "name": "stdout",
     "output_type": "stream",
     "text": [
      "170 of 179\n"
     ]
    },
    {
     "name": "stderr",
     "output_type": "stream",
     "text": [
      "INFO: [2020-11-11 09:05:47] indra.sources.indra_db_rest.util - query: https://db.indra.bio/statements/from_papers\n",
      "INFO: [2020-11-11 09:05:47] indra.sources.indra_db_rest.util - params: {'ev_limit': 10, 'best_first': True, 'max_stmts': None, 'api_key': '[api-key]'}\n"
     ]
    },
    {
     "name": "stdout",
     "output_type": "stream",
     "text": [
      "171 of 179\n"
     ]
    },
    {
     "name": "stderr",
     "output_type": "stream",
     "text": [
      "INFO: [2020-11-11 09:05:56] indra.sources.indra_db_rest.util - query: https://db.indra.bio/statements/from_papers\n",
      "INFO: [2020-11-11 09:05:56] indra.sources.indra_db_rest.util - params: {'ev_limit': 10, 'best_first': True, 'max_stmts': None, 'api_key': '[api-key]'}\n"
     ]
    },
    {
     "name": "stdout",
     "output_type": "stream",
     "text": [
      "172 of 179\n"
     ]
    },
    {
     "name": "stderr",
     "output_type": "stream",
     "text": [
      "INFO: [2020-11-11 09:05:58] indra.sources.indra_db_rest.util - query: https://db.indra.bio/statements/from_papers\n",
      "INFO: [2020-11-11 09:05:58] indra.sources.indra_db_rest.util - params: {'ev_limit': 10, 'best_first': True, 'max_stmts': None, 'api_key': '[api-key]'}\n"
     ]
    },
    {
     "name": "stdout",
     "output_type": "stream",
     "text": [
      "173 of 179\n"
     ]
    },
    {
     "name": "stderr",
     "output_type": "stream",
     "text": [
      "INFO: [2020-11-11 09:06:02] indra.sources.indra_db_rest.util - query: https://db.indra.bio/statements/from_papers\n",
      "INFO: [2020-11-11 09:06:02] indra.sources.indra_db_rest.util - params: {'ev_limit': 10, 'best_first': True, 'max_stmts': None, 'api_key': '[api-key]'}\n"
     ]
    },
    {
     "name": "stdout",
     "output_type": "stream",
     "text": [
      "174 of 179\n"
     ]
    },
    {
     "name": "stderr",
     "output_type": "stream",
     "text": [
      "INFO: [2020-11-11 09:06:04] indra.sources.indra_db_rest.util - query: https://db.indra.bio/statements/from_papers\n",
      "INFO: [2020-11-11 09:06:04] indra.sources.indra_db_rest.util - params: {'ev_limit': 10, 'best_first': True, 'max_stmts': None, 'api_key': '[api-key]'}\n"
     ]
    },
    {
     "name": "stdout",
     "output_type": "stream",
     "text": [
      "175 of 179\n"
     ]
    },
    {
     "name": "stderr",
     "output_type": "stream",
     "text": [
      "INFO: [2020-11-11 09:06:05] indra.sources.indra_db_rest.util - query: https://db.indra.bio/statements/from_papers\n",
      "INFO: [2020-11-11 09:06:05] indra.sources.indra_db_rest.util - params: {'ev_limit': 10, 'best_first': True, 'max_stmts': None, 'api_key': '[api-key]'}\n"
     ]
    },
    {
     "name": "stdout",
     "output_type": "stream",
     "text": [
      "176 of 179\n"
     ]
    },
    {
     "name": "stderr",
     "output_type": "stream",
     "text": [
      "INFO: [2020-11-11 09:06:07] indra.sources.indra_db_rest.util - query: https://db.indra.bio/statements/from_papers\n",
      "INFO: [2020-11-11 09:06:07] indra.sources.indra_db_rest.util - params: {'ev_limit': 10, 'best_first': True, 'max_stmts': None, 'api_key': '[api-key]'}\n"
     ]
    },
    {
     "name": "stdout",
     "output_type": "stream",
     "text": [
      "177 of 179\n"
     ]
    },
    {
     "name": "stderr",
     "output_type": "stream",
     "text": [
      "INFO: [2020-11-11 09:06:09] indra.sources.indra_db_rest.util - query: https://db.indra.bio/statements/from_papers\n",
      "INFO: [2020-11-11 09:06:09] indra.sources.indra_db_rest.util - params: {'ev_limit': 10, 'best_first': True, 'max_stmts': None, 'api_key': '[api-key]'}\n"
     ]
    },
    {
     "name": "stdout",
     "output_type": "stream",
     "text": [
      "178 of 179\n"
     ]
    },
    {
     "name": "stderr",
     "output_type": "stream",
     "text": [
      "INFO: [2020-11-11 09:06:18] indra.sources.indra_db_rest.util - query: https://db.indra.bio/statements/from_papers\n",
      "INFO: [2020-11-11 09:06:18] indra.sources.indra_db_rest.util - params: {'ev_limit': 10, 'best_first': True, 'max_stmts': None, 'api_key': '[api-key]'}\n"
     ]
    },
    {
     "name": "stdout",
     "output_type": "stream",
     "text": [
      "179 of 179\n"
     ]
    }
   ],
   "source": [
    "stmts = []\n",
    "batch_size = 100\n",
    "total_batches = int(len(nf_pmids) / batch_size) + 1\n",
    "for batch_ix, pmid_batch in enumerate(batch_iter(nf_pmids, 100)):\n",
    "    print(batch_ix + 1, \"of\", total_batches)\n",
    "    idrp = idr.get_statements_for_paper([('pmid', pmid) for pmid in pmid_batch])\n",
    "    stmts.extend(idrp.statements)\n",
    "#for idrp = idr.get_statements_for_paper([('pmid', pmid) for pmid in nf_pmids][0:100])"
   ]
  },
  {
   "cell_type": "code",
   "execution_count": 40,
   "metadata": {},
   "outputs": [
    {
     "data": {
      "text/plain": [
       "14334"
      ]
     },
     "execution_count": 40,
     "metadata": {},
     "output_type": "execute_result"
    }
   ],
   "source": [
    "len(stmts)"
   ]
  },
  {
   "cell_type": "code",
   "execution_count": 4,
   "metadata": {},
   "outputs": [
    {
     "name": "stderr",
     "output_type": "stream",
     "text": [
      "INFO: [2020-11-10 15:46:37] indra.tools.assemble_corpus - Loading nf_raw_stmts.pkl...\n",
      "INFO: [2020-11-10 15:46:38] indra.tools.assemble_corpus - Loaded 20209 statements\n"
     ]
    }
   ],
   "source": [
    "# Get raw statement IDs from the DB for the given TextRefs\n",
    "reload = False\n",
    "pmid_stmts_file = 'nf_raw_stmts.pkl'\n",
    "if reload: \n",
    "    db = get_primary_db()\n",
    "    # Get statements for the given text refs\n",
    "    print(f\"Distilling statements for {len(nf_pmids)} TextRefs\")\n",
    "    start = time.time()\n",
    "    clauses = [\n",
    "        db.TextRef.pmid.in_(nf_pmids),\n",
    "        db.TextContent.text_ref_id == db.TextRef.id,\n",
    "        db.Reading.text_content_id == db.TextContent.id,\n",
    "        db.RawStatements.reading_id == db.Reading.id]\n",
    "    pmid_stmts = distill_stmts(db, get_full_stmts=True, clauses=clauses)\n",
    "    end = time.time()\n",
    "    elapsed = end - start\n",
    "    print(elapsed)\n",
    "    list(ac.dump_statements(pmid_stmts, pmid_stmts_file))\n",
    "else:\n",
    "    pmid_stmts = list(ac.load_statements(pmid_stmts_file))\n"
   ]
  },
  {
   "cell_type": "code",
   "execution_count": 20,
   "metadata": {},
   "outputs": [
    {
     "data": {
      "text/plain": [
       "[Activation(ITGA5(), PAK()),\n",
       " Activation(ITGA5(), PAK()),\n",
       " Activation(ITGA5(), PAK()),\n",
       " Activation(ITGA5(), PAK())]"
      ]
     },
     "execution_count": 20,
     "metadata": {},
     "output_type": "execute_result"
    }
   ],
   "source": [
    "[s for s in pmid_stmts if len(s.agent_list()) == 2 and None not in s.agent_list()\n",
    "                                             and s.agent_list()[0].name.startswith('ITG')\n",
    "                                             and s.agent_list()[1].name == 'PAK']"
   ]
  },
  {
   "cell_type": "code",
   "execution_count": 5,
   "metadata": {},
   "outputs": [],
   "source": [
    "proteins = [ag.name for stmt in pmid_stmts for ag in stmt.agent_list()\n",
    "            if ag is not None and ('HGNC' in ag.db_refs or 'FPLX' in ag.db_refs)]\n",
    "protein_ctr = Counter(proteins)\n",
    "protein_ctr = sorted([(k, ct) for k, ct in protein_ctr.items()], key=lambda x: x[1], reverse=True)"
   ]
  },
  {
   "cell_type": "code",
   "execution_count": 6,
   "metadata": {
    "scrolled": true
   },
   "outputs": [
    {
     "data": {
      "text/plain": [
       "[('NF2', 2843),\n",
       " ('NF1', 2665),\n",
       " ('RAS', 1147),\n",
       " ('ERK', 719),\n",
       " ('AKT', 309),\n",
       " ('EGFR', 292),\n",
       " ('MTOR', 276),\n",
       " ('DPYSL2', 252),\n",
       " ('RAC', 233),\n",
       " ('TP53', 209),\n",
       " ('YAP1', 206),\n",
       " ('PI3K', 198),\n",
       " ('PAK', 179),\n",
       " ('mTORC1', 178),\n",
       " ('RASA1', 176),\n",
       " ('STAT3', 176),\n",
       " ('MEK', 165),\n",
       " ('SPRED1', 142),\n",
       " ('RAF', 140),\n",
       " ('AKT1', 138),\n",
       " ('CAMP', 133),\n",
       " ('CTNNB1', 130),\n",
       " ('PCNA', 129),\n",
       " ('BRAF', 127),\n",
       " ('RAC1', 126),\n",
       " ('PAK1', 124),\n",
       " ('DCAF1', 118),\n",
       " ('CDKN1A', 116),\n",
       " ('CD44', 116),\n",
       " ('LIMK2', 116),\n",
       " ('PTK2', 109),\n",
       " ('CDC42', 108),\n",
       " ('PXN', 106),\n",
       " ('Cofilin', 106),\n",
       " ('LATS1', 102),\n",
       " ('TSC2', 98),\n",
       " ('ERBB2', 97),\n",
       " ('HRAS', 97),\n",
       " ('MAP3K11', 95),\n",
       " ('RAF1', 90),\n",
       " ('Actin', 86),\n",
       " ('PKA', 83),\n",
       " ('KRAS', 80),\n",
       " ('SRC', 78),\n",
       " ('ETV5', 76),\n",
       " ('RasGAP', 76),\n",
       " ('EGF', 74),\n",
       " ('JNK', 74),\n",
       " ('AMOT', 70),\n",
       " ('TGFB', 69),\n",
       " ('ALK', 66),\n",
       " ('SLC9A3R1', 64),\n",
       " ('PTEN', 62),\n",
       " ('EZR', 61),\n",
       " ('MAPK', 56),\n",
       " ('Wnt', 55),\n",
       " ('GRB10', 54),\n",
       " ('KIT', 54),\n",
       " ('TSC1', 54),\n",
       " ('VEGFA', 52),\n",
       " ('TNFRSF11B', 50),\n",
       " ('GFER', 49),\n",
       " ('MLN', 49),\n",
       " ('LIMK1', 49),\n",
       " ('TAZ', 48),\n",
       " ('LAYN', 48),\n",
       " ('KITLG', 48),\n",
       " ('PDGFRA', 47),\n",
       " ('RHO', 47),\n",
       " ('CXCR4', 47),\n",
       " ('MDM2', 43),\n",
       " ('mTORC2', 43),\n",
       " ('LATS2', 42),\n",
       " ('CCL5', 42),\n",
       " ('SOS', 42),\n",
       " ('RTK', 42),\n",
       " ('E3_Ub_ligase', 40),\n",
       " ('CDKN2A', 40),\n",
       " ('EIF4EBP1', 39),\n",
       " ('NRAS', 39),\n",
       " ('Histone', 38),\n",
       " ('ESR1', 38),\n",
       " ('PEBP1', 37),\n",
       " ('NRG1', 37),\n",
       " ('GNL3', 36),\n",
       " ('TNFSF10', 36),\n",
       " ('MAF', 36),\n",
       " ('BRD4', 35),\n",
       " ('PAK2', 35),\n",
       " ('ERMAP', 35),\n",
       " ('SGK1', 35),\n",
       " ('SYN1', 35),\n",
       " ('Integrins', 34),\n",
       " ('CAV1', 34),\n",
       " ('CXCL12', 33),\n",
       " ('VCP', 33),\n",
       " ('SOX9', 33),\n",
       " ('IL17RB', 33),\n",
       " ('SLC22A3', 32),\n",
       " ('MERTK', 32),\n",
       " ('GSK3B', 32),\n",
       " ('AURKA', 32),\n",
       " ('MAPK3', 31),\n",
       " ('PTPN11', 31),\n",
       " ('HGS', 31),\n",
       " ('DDAH1', 31),\n",
       " ('NFkappaB', 30),\n",
       " ('TGFB1', 30),\n",
       " ('APP', 30),\n",
       " ('PHLDA2', 30),\n",
       " ('GCA', 30),\n",
       " ('MAP2K1', 30),\n",
       " ('SIRT2', 30),\n",
       " ('CRABP2', 29),\n",
       " ('HIF1A', 29),\n",
       " ('FUT1', 29),\n",
       " ('RHEB', 28),\n",
       " ('p38', 28),\n",
       " ('STX1A', 28),\n",
       " ('EGR2', 28),\n",
       " ('RPS6', 28),\n",
       " ('NPPA', 27),\n",
       " ('AP1', 27),\n",
       " ('Tubulin', 27),\n",
       " ('MSC', 27),\n",
       " ('PDGFRB', 27),\n",
       " ('CHEK2', 26),\n",
       " ('SERPINB8', 26),\n",
       " ('BCL2', 25),\n",
       " ('F2RL2', 25),\n",
       " ('ITGA5', 25),\n",
       " ('ERBB3', 25),\n",
       " ('SAG', 25),\n",
       " ('VHL', 25),\n",
       " ('CDK5', 24),\n",
       " ('PI15', 24),\n",
       " ('CK2', 24),\n",
       " ('RUNX1', 24),\n",
       " ('RDX', 24),\n",
       " ('CDK4', 23),\n",
       " ('ERVK-10', 23),\n",
       " ('SMAD3', 23),\n",
       " ('PDGFR', 23),\n",
       " ('LAT', 23),\n",
       " ('HCLS1', 23),\n",
       " ('Notch', 23),\n",
       " ('SOX10', 22),\n",
       " ('BMP2', 22),\n",
       " ('EPHB1', 22),\n",
       " ('FMR1', 22),\n",
       " ('RET', 22),\n",
       " ('EZH2', 22),\n",
       " ('CDH1', 22),\n",
       " ('GFAP', 22),\n",
       " ('PDGF', 22),\n",
       " ('ARID1B', 21),\n",
       " ('DNMT1', 21),\n",
       " ('CDH2', 21),\n",
       " ('RB1', 21),\n",
       " ('ATM', 20),\n",
       " ('IFI27', 20),\n",
       " ('SDHD', 20),\n",
       " ('RASSF1', 20),\n",
       " ('NHLH1', 20),\n",
       " ('Caspase', 19),\n",
       " ('CASP8', 19),\n",
       " ('FASLG', 19),\n",
       " ('SEMA3F', 19),\n",
       " ('CYREN', 19),\n",
       " ('RPS6KB1', 19),\n",
       " ('BPNT1', 19),\n",
       " ('GRB2', 19),\n",
       " ('RPTOR', 19),\n",
       " ('LRP6', 19),\n",
       " ('FGF23', 18),\n",
       " ('CACNA1B', 18),\n",
       " ('STK3', 18),\n",
       " ('ROCK', 18),\n",
       " ('HMGA2', 18),\n",
       " ('SDHB', 18),\n",
       " ('MST1', 18),\n",
       " ('CDKN1B', 17),\n",
       " ('NDRG1', 17),\n",
       " ('GH1', 17),\n",
       " ('CDK1', 17),\n",
       " ('EPHA2', 17),\n",
       " ('SMARCB1', 17),\n",
       " ('SHOC2', 17),\n",
       " ('APOBEC1', 16),\n",
       " ('OGN', 16),\n",
       " ('UBB', 16),\n",
       " ('OLIG2', 16),\n",
       " ('Cadherin', 16),\n",
       " ('RALGDS', 16),\n",
       " ('SNAI1', 16),\n",
       " ('MMRN1', 16),\n",
       " ('LIF', 16),\n",
       " ('FGFR3', 16),\n",
       " ('WT1-AS', 16),\n",
       " ('MYL', 16),\n",
       " ('FUT4', 16),\n",
       " ('KSR1', 16),\n",
       " ('CSF1', 15),\n",
       " ('NGF', 15),\n",
       " ('RALA', 15),\n",
       " ('PTPN5', 15),\n",
       " ('MBNL1', 15),\n",
       " ('TSC', 15),\n",
       " ('RICTOR', 15),\n",
       " ('p14_3_3', 15),\n",
       " ('MAPK1', 15),\n",
       " ('CXXC1', 15),\n",
       " ('GRIA1', 15),\n",
       " ('ACAT1', 14),\n",
       " ('HABP2', 14),\n",
       " ('WWC1', 14),\n",
       " ('STAT5A', 14),\n",
       " ('CSF2', 14),\n",
       " ('KIR2DL5A', 14),\n",
       " ('PPP1R14A', 14),\n",
       " ('PGP', 14),\n",
       " ('L1CAM', 14),\n",
       " ('MET', 14),\n",
       " ('SMAD', 14),\n",
       " ('MAT1A', 14),\n",
       " ('PRDM10', 14),\n",
       " ('ASAH1', 14),\n",
       " ('MSN', 14),\n",
       " ('EP300', 14),\n",
       " ('TAGLN', 13),\n",
       " ('MCF2L2', 13),\n",
       " ('SMAD4', 13),\n",
       " ('CREB', 13),\n",
       " ('TRAP1', 13),\n",
       " ('CHEK1', 13),\n",
       " ('EYA4', 13),\n",
       " ('MED28', 13),\n",
       " ('SUZ12', 13),\n",
       " ('WT1', 13),\n",
       " ('KPNB1', 13),\n",
       " ('SYT1', 13),\n",
       " ('ABCG2', 13),\n",
       " ('SDHC', 13),\n",
       " ('NTRK2', 13),\n",
       " ('TNF', 13),\n",
       " ('TERF2IP', 13),\n",
       " ('FBXW7', 13),\n",
       " ('G_alpha', 13),\n",
       " ('INS', 12),\n",
       " ('PPY', 12),\n",
       " ('PTK2B', 12),\n",
       " ('NOTCH1', 12),\n",
       " ('PDGF_BB', 12),\n",
       " ('NGFR', 12),\n",
       " ('TEAD4', 12),\n",
       " ('STAT5', 12),\n",
       " ('POSTN', 12),\n",
       " ('PTH', 12),\n",
       " ('TP53BP2', 12),\n",
       " ('SDS', 12),\n",
       " ('FOXO', 12),\n",
       " ('APC', 12),\n",
       " ('IGFBP1', 12),\n",
       " ('CDK6', 12),\n",
       " ('Histone_H3', 12),\n",
       " ('CSH1', 12),\n",
       " ('ARSD', 12),\n",
       " ('CYBB', 12),\n",
       " ('RAC2', 12),\n",
       " ('S100A12', 12),\n",
       " ('AKTIP', 12),\n",
       " ('LZTR1', 11),\n",
       " ('CUL3', 11),\n",
       " ('RHOA', 11),\n",
       " ('ITCH', 11),\n",
       " ('MDK', 11),\n",
       " ('CS', 11),\n",
       " ('QPCT', 11),\n",
       " ('CDC20', 11),\n",
       " ('BCL2L1', 11),\n",
       " ('PKC', 11),\n",
       " ('LIAS', 11),\n",
       " ('MSI2', 11),\n",
       " ('EPB41', 11),\n",
       " ('SMC3', 11),\n",
       " ('MAP2K2', 11),\n",
       " ('ELAVL3', 11),\n",
       " ('BIRC5', 11),\n",
       " ('BNIP3', 11),\n",
       " ('TPT1', 11),\n",
       " ('NRG', 11),\n",
       " ('MEFV', 11),\n",
       " ('SPP1', 11),\n",
       " ('JUN', 11),\n",
       " ('ERBB4', 11),\n",
       " ('IL2RA', 11),\n",
       " ('FAS', 11),\n",
       " ('HSF1', 11),\n",
       " ('RAB6A', 11),\n",
       " ('MRAS', 11),\n",
       " ('Proteasome', 11),\n",
       " ('TCHP', 11),\n",
       " ('CRLF3', 10),\n",
       " ('TBCC', 10),\n",
       " ('TIAM1', 10),\n",
       " ('NEUROD1', 10),\n",
       " ('PARS2', 10),\n",
       " ('MTA2', 10),\n",
       " ('NFKBIA', 10),\n",
       " ('CDK', 10),\n",
       " ('AMPK', 10),\n",
       " ('REST', 10),\n",
       " ('CCND1', 10),\n",
       " ('ADHFE1', 10),\n",
       " ('AIF1', 10),\n",
       " ('MAPT', 10),\n",
       " ('MMP9', 10),\n",
       " ('SERPINF1', 10),\n",
       " ('DLD', 10),\n",
       " ('TOP2A', 10),\n",
       " ('EREG', 10),\n",
       " ('DUSP1', 9),\n",
       " ('ADCYAP1', 9),\n",
       " ('Cyclin', 9),\n",
       " ('NOTCH2', 9),\n",
       " ('PPP1R12A', 9),\n",
       " ('PTGS2', 9),\n",
       " ('CELF2', 9),\n",
       " ('EPHB2', 9),\n",
       " ('SHH', 9),\n",
       " ('SPTBN1', 9),\n",
       " ('SULT1A3', 9),\n",
       " ('COIL', 9),\n",
       " ('SLC9A1', 9),\n",
       " ('DEPTOR', 9),\n",
       " ('ASAP1', 9),\n",
       " ('UHMK1', 9),\n",
       " ('LILRB1', 9),\n",
       " ('EIF4E', 9),\n",
       " ('HCN1', 9),\n",
       " ('MAPK9', 9),\n",
       " ('STAM', 9),\n",
       " ('MAD1L1', 9),\n",
       " ('FGF', 9),\n",
       " ('FN1', 9),\n",
       " ('GAS6', 9),\n",
       " ('MCF2', 9),\n",
       " ('TFRC', 9),\n",
       " ('NFIC', 9),\n",
       " ('AXL', 9),\n",
       " ('NEDD8', 9),\n",
       " ('AK1', 9),\n",
       " ('NEFL', 9),\n",
       " ('ERVK-18', 9),\n",
       " ('MEIS1', 9),\n",
       " ('WHAMM', 9),\n",
       " ('SH3PXD2A', 8),\n",
       " ('PRH1', 8),\n",
       " ('IL6', 8),\n",
       " ('ARHGAP17', 8),\n",
       " ('PLXNB1', 8),\n",
       " ('SOCS2', 8),\n",
       " ('PMP22', 8),\n",
       " ('GLI1', 8),\n",
       " ('FAF2', 8),\n",
       " ('SOS1', 8),\n",
       " ('PRMT5', 8),\n",
       " ('MYC', 8),\n",
       " ('IGF1', 8),\n",
       " ('LRPPRC', 8),\n",
       " ('PDCD1', 8),\n",
       " ('FYN', 8),\n",
       " ('ELAVL1', 8),\n",
       " ('TBL1XR1', 8),\n",
       " ('NOS', 8),\n",
       " ('AGAP2', 8),\n",
       " ('SNCA', 8),\n",
       " ('CAV2', 8),\n",
       " ('ELK1', 8),\n",
       " ('PGLS', 8),\n",
       " ('MIA', 8),\n",
       " ('EED', 8),\n",
       " ('CCN1', 8),\n",
       " ('FASN', 8),\n",
       " ('NFASC', 8),\n",
       " ('CBL', 8),\n",
       " ('MEN1', 8),\n",
       " ('EIF2AK3', 8),\n",
       " ('CAMK2G', 8),\n",
       " ('FATE1', 8),\n",
       " ('TGFBRAP1', 8),\n",
       " ('BMP', 8),\n",
       " ('DHH', 8),\n",
       " ('NCOA6', 8),\n",
       " ('BRCA1', 8),\n",
       " ('MGMT', 8),\n",
       " ('SAV1', 8),\n",
       " ('ID1', 8),\n",
       " ('APOB', 7),\n",
       " ('STK4', 7),\n",
       " ('MAP4K4', 7),\n",
       " ('SP1', 7),\n",
       " ('BECN1', 7),\n",
       " ('ATRX', 7),\n",
       " ('PRKAC', 7),\n",
       " ('STING1', 7),\n",
       " ('Interferon', 7),\n",
       " ('MB', 7),\n",
       " ('CHUK', 7),\n",
       " ('SDHA', 7),\n",
       " ('HMMR', 7),\n",
       " ('ATP5F1A', 7),\n",
       " ('IQGAP1', 7),\n",
       " ('FGF2', 7),\n",
       " ('PIK3CA', 7),\n",
       " ('BCL2L11', 7),\n",
       " ('SLC2A4RG', 7),\n",
       " ('RNF135', 7),\n",
       " ('JAK2', 7),\n",
       " ('NAV1', 7),\n",
       " ('FOS', 7),\n",
       " ('FOS_family', 7),\n",
       " ('PPP1CC', 7),\n",
       " ('THBS1', 7),\n",
       " ('GDF15', 7),\n",
       " ('ABCG1', 7),\n",
       " ('MAP6', 7),\n",
       " ('KDR', 7),\n",
       " ('Hedgehog', 7),\n",
       " ('AKT1S1', 7),\n",
       " ('PRKAR1A', 7),\n",
       " ('H2AFX', 7),\n",
       " ('NRDC', 7),\n",
       " ('EPAS1', 7),\n",
       " ('SMAD2_3', 7),\n",
       " ('RRAS', 7),\n",
       " ('ROCK1', 7),\n",
       " ('MEX3D', 7),\n",
       " ('PLEK', 7),\n",
       " ('CDK2', 7),\n",
       " ('RPS6KA1', 7),\n",
       " ('GDNF', 7),\n",
       " ('IL1B', 7),\n",
       " ('CD74', 7),\n",
       " ('TP73', 7),\n",
       " ('CA1', 7),\n",
       " ('LGALS4', 6),\n",
       " ('SLCO6A1', 6),\n",
       " ('SOAT1', 6),\n",
       " ('MAP2K4', 6),\n",
       " ('DRD3', 6),\n",
       " ('THBS2', 6),\n",
       " ('ACACA', 6),\n",
       " ('BDNF', 6),\n",
       " ('HTT', 6),\n",
       " ('PTBP1', 6),\n",
       " ('IGF1R', 6),\n",
       " ('MVD', 6),\n",
       " ('CTNNA1', 6),\n",
       " ('MAPKAP1', 6),\n",
       " ('SST', 6),\n",
       " ('COPRS', 6),\n",
       " ('DSPP', 6),\n",
       " ('AWAT2', 6),\n",
       " ('CBFB', 6),\n",
       " ('IMPACT', 6),\n",
       " ('CASP3', 6),\n",
       " ('TCF4', 6),\n",
       " ('ABL1', 6),\n",
       " ('PTPRJ', 6),\n",
       " ('EIF4A1', 6),\n",
       " ('TNFSF11', 6),\n",
       " ('Death_receptor', 6),\n",
       " ('INSR', 6),\n",
       " ('NCF1', 6),\n",
       " ('STAT1', 6),\n",
       " ('NTRK1', 6),\n",
       " ('CCNB1IP1', 6),\n",
       " ('DPYSL3', 6),\n",
       " ('MAP2K', 6),\n",
       " ('CALM', 6),\n",
       " ('SRF', 6),\n",
       " ('ACC', 6),\n",
       " ('PLA2G15', 6),\n",
       " ('EPHA1', 6),\n",
       " ('STAR', 6),\n",
       " ('NR3C2', 6),\n",
       " ('DDIT4', 6),\n",
       " ('UTP6', 5),\n",
       " ('EOMES', 5),\n",
       " ('BGLAP', 5),\n",
       " ('MECP2', 5),\n",
       " ('HGF', 5),\n",
       " ('USP1', 5),\n",
       " ('INPP5B', 5),\n",
       " ('NGB', 5),\n",
       " ('SLIT2', 5),\n",
       " ('AGT', 5),\n",
       " ('NRTN', 5),\n",
       " ('CP', 5),\n",
       " ('CDC25A', 5),\n",
       " ('EDN1', 5),\n",
       " ('TPX2', 5),\n",
       " ('SLC6A2', 5),\n",
       " ('CCL2', 5),\n",
       " ('CSTF2', 5),\n",
       " ('MAP3K13', 5),\n",
       " ('EDNRB', 5),\n",
       " ('RESP18', 5),\n",
       " ('ROS1', 5),\n",
       " ('CDKN', 5),\n",
       " ('G_protein', 5),\n",
       " ('GAD1', 5),\n",
       " ('NPM1', 5),\n",
       " ('NOL3', 5),\n",
       " ('SMAD2', 5),\n",
       " ('CD40', 5),\n",
       " ('BAD', 5),\n",
       " ('F9', 5),\n",
       " ('RSK', 5),\n",
       " ('U2AF2', 5),\n",
       " ('FABP7', 5),\n",
       " ('SOX2', 5),\n",
       " ('ARTN', 5),\n",
       " ('ADCY10', 5),\n",
       " ('GPER1', 5),\n",
       " ('MMP2', 5),\n",
       " ('UBA2', 5),\n",
       " ('PPP1CB', 5),\n",
       " ('RASA2', 5),\n",
       " ('STK11', 5),\n",
       " ('THG1L', 5),\n",
       " ('RABEP1', 5),\n",
       " ('MAP1B', 5),\n",
       " ('TNFRSF10B', 5),\n",
       " ('PI3K_p85', 5),\n",
       " ('TAT', 5),\n",
       " ('TLN1', 5),\n",
       " ('DNER', 5),\n",
       " ('SRSF5', 5),\n",
       " ('TYMS', 5),\n",
       " ('ALPL', 5),\n",
       " ('LIN28B', 5),\n",
       " ('TWIST1', 5),\n",
       " ('COL3A1', 5),\n",
       " ('GRIA2', 5),\n",
       " ('GNAS', 5),\n",
       " ('MPZL1', 5),\n",
       " ('GEMIN2', 5),\n",
       " ('A1CF', 4),\n",
       " ('LTF', 4),\n",
       " ('BNIP2', 4),\n",
       " ('RRAS2', 4),\n",
       " ('PIK3CG', 4),\n",
       " ('OPTC', 4),\n",
       " ('WDR48', 4),\n",
       " ('CDKN2B', 4),\n",
       " ('TGFBR1', 4),\n",
       " ('RHOC', 4),\n",
       " ('AJUBA', 4),\n",
       " ('RANGRF', 4),\n",
       " ('ERBIN', 4),\n",
       " ('PLK1', 4),\n",
       " ('MSH2', 4),\n",
       " ('DHPS', 4),\n",
       " ('BMP4', 4),\n",
       " ('GOPC', 4),\n",
       " ('Cyclin_E', 4),\n",
       " ('NPY4R', 4),\n",
       " ('KIAA1549', 4),\n",
       " ('CALCA', 4),\n",
       " ('YES1', 4),\n",
       " ('RALBP1', 4),\n",
       " ('MAP2K6', 4),\n",
       " ('VWF', 4),\n",
       " ('PRKACG', 4),\n",
       " ('RASA4', 4),\n",
       " ('MORC2', 4),\n",
       " ('GAD2', 4),\n",
       " ('TBC1D10A', 4),\n",
       " ('HDAC', 4),\n",
       " ('DDX58', 4),\n",
       " ('CASP9', 4),\n",
       " ('TWSG1', 4),\n",
       " ('MMP1', 4),\n",
       " ('CSAD', 4),\n",
       " ('ADAP2', 4),\n",
       " ('MPV17', 4),\n",
       " ('SLC50A1', 4),\n",
       " ('TBPL1', 4),\n",
       " ('MITF', 4),\n",
       " ('STK25', 4),\n",
       " ('DKK1', 4),\n",
       " ('DMP1', 4),\n",
       " ('CCN2', 4),\n",
       " ('PSPN', 4),\n",
       " ('AKR1A1', 4),\n",
       " ('NR1I2', 4),\n",
       " ('PRKCA', 4),\n",
       " ('RELA', 4),\n",
       " ('PDK1', 4),\n",
       " ('PGR', 4),\n",
       " ('SLPI', 4),\n",
       " ('COQ6', 4),\n",
       " ('Ubiquitin', 4),\n",
       " ('MAP1LC3A', 4),\n",
       " ('PCYT2', 4),\n",
       " ('DUSP6', 4),\n",
       " ('GSTM1', 4),\n",
       " ('MAP4', 4),\n",
       " ('Cyclin_D', 4),\n",
       " ('GST', 4),\n",
       " ('CTNND2', 4),\n",
       " ('PDLIM2', 4),\n",
       " ('MAP2', 4),\n",
       " ('MAP1LC3B', 4),\n",
       " ('EPO', 4),\n",
       " ('BCR', 4),\n",
       " ('MAPRE3', 4),\n",
       " ('RBX1', 4),\n",
       " ('GRM5', 4),\n",
       " ('AVP', 4),\n",
       " ('SMARCA4', 4),\n",
       " ('Clathrin', 4),\n",
       " ('MAP1A', 4),\n",
       " ('FBRS', 4),\n",
       " ('TNFSF14', 4),\n",
       " ('AGO2', 4),\n",
       " ('PIK3AP1', 4),\n",
       " ('SKP1', 4),\n",
       " ('PDCD4', 4),\n",
       " ('SPRED', 4),\n",
       " ('ELAVL4', 4),\n",
       " ('NES', 4),\n",
       " ('RCC1', 4),\n",
       " ('GUCY2C', 4),\n",
       " ('CALB2', 4),\n",
       " ('SLC9A3R2', 4),\n",
       " ('LEP', 4),\n",
       " ('HSP90', 4),\n",
       " ('IGF2', 4),\n",
       " ('HMGCR', 4),\n",
       " ('PTCH1', 4),\n",
       " ('TIMP3', 4),\n",
       " ('LDH', 4),\n",
       " ('EPB41L3', 4),\n",
       " ('TIA1', 4),\n",
       " ('ABR', 4),\n",
       " ('MAP7', 4),\n",
       " ('SMAD1', 4),\n",
       " ('HMOX1', 4),\n",
       " ('MAPRE1', 4),\n",
       " ('MAP9', 4),\n",
       " ('MAP1S', 4),\n",
       " ('MAP7D3', 4),\n",
       " ('BAP1', 4),\n",
       " ('DNALI1', 3),\n",
       " ('DACH1', 3),\n",
       " ('KIF16B', 3),\n",
       " ('CENPE', 3),\n",
       " ('FH', 3),\n",
       " ('LHX1', 3),\n",
       " ('PARP', 3),\n",
       " ('GFRA2', 3),\n",
       " ('GLI2', 3),\n",
       " ('GTPase', 3),\n",
       " ('GEF', 3),\n",
       " ('CELF1', 3),\n",
       " ('CD8', 3),\n",
       " ('NLRP1', 3),\n",
       " ('ERBB', 3),\n",
       " ('MCM3', 3),\n",
       " ('CASK', 3),\n",
       " ('ELAVL2', 3),\n",
       " ('KIDINS220', 3),\n",
       " ('CCR2', 3),\n",
       " ('ACAA2', 3),\n",
       " ('C7', 3),\n",
       " ('TYR', 3),\n",
       " ('NUMB', 3),\n",
       " ('SIX1', 3),\n",
       " ('IKB', 3),\n",
       " ('DKK3', 3),\n",
       " ('TJP1', 3),\n",
       " ('FLRT2', 3),\n",
       " ('B9D1', 3),\n",
       " ('PLG', 3),\n",
       " ('GYS', 3),\n",
       " ('NTF3', 3),\n",
       " ('RGL1', 3),\n",
       " ('MARK1', 3),\n",
       " ('AKT2', 3),\n",
       " ('SYNCRIP', 3),\n",
       " ('CUL', 3),\n",
       " ('RBL2', 3),\n",
       " ('HIF', 3),\n",
       " ('MLH1', 3),\n",
       " ('TBK1', 3),\n",
       " ('A2ML1', 3),\n",
       " ('FGFR', 3),\n",
       " ('RASGRP3', 3),\n",
       " ('FKBP1A', 3),\n",
       " ('RPA', 3),\n",
       " ('EIF4EBP', 3),\n",
       " ('GPCR', 3),\n",
       " ('STS', 3),\n",
       " ('PRC2_complex', 3),\n",
       " ('LHX3', 3),\n",
       " ('ADM', 3),\n",
       " ('TGFB2', 3),\n",
       " ('CLDN11', 3),\n",
       " ('LGI1', 3),\n",
       " ('SCG5', 3),\n",
       " ('TOP1', 3),\n",
       " ('SMC2', 3),\n",
       " ('PAK6', 3),\n",
       " ('GFRA3', 3),\n",
       " ('CALM1', 3),\n",
       " ('DLX4', 3),\n",
       " ('CAPN', 3),\n",
       " ('TNK2', 3),\n",
       " ('HIST3H2A', 3),\n",
       " ('HDAC6', 3),\n",
       " ('RIT1', 3),\n",
       " ('OGA', 3),\n",
       " ('KRT5', 3),\n",
       " ('GSK3', 3),\n",
       " ('MYB', 3),\n",
       " ('IQGAP2', 3),\n",
       " ('PPP1', 3),\n",
       " ('PDE4B', 3),\n",
       " ('GADL1', 3),\n",
       " ('GSR', 3),\n",
       " ('SLC35G1', 3),\n",
       " ('PPP1R1B', 3),\n",
       " ('ADAM22', 3),\n",
       " ('RPS6KB2', 3),\n",
       " ('AHR', 3),\n",
       " ('ARAF', 3),\n",
       " ('S100A9', 3),\n",
       " ('EPS15', 3),\n",
       " ('ARFGAP1', 3),\n",
       " ('ARF1', 3),\n",
       " ('TGFA', 3),\n",
       " ('NFATC4', 3),\n",
       " ('NRP1', 3),\n",
       " ('BLNK', 3),\n",
       " ('VCL', 3),\n",
       " ('GFRA4', 3),\n",
       " ('WHRN', 3),\n",
       " ('MCL1', 3),\n",
       " ('API5', 3),\n",
       " ('MAP3K4', 3),\n",
       " ('IL3', 3),\n",
       " ('RIPK1', 3),\n",
       " ('CSNK2A1', 3),\n",
       " ('AKAP13', 3),\n",
       " ('BPIFA4P', 3),\n",
       " ('PPP2CA', 3),\n",
       " ('ATF4', 3),\n",
       " ('NBN', 3),\n",
       " ('TP53AIP1', 3),\n",
       " ('EPHA3', 3),\n",
       " ('SNX1', 3),\n",
       " ('MAU2', 3),\n",
       " ('EIF4G1', 3),\n",
       " ('CTTN', 3),\n",
       " ('DDB1', 3),\n",
       " ('ABCC2', 3),\n",
       " ('ENPP3', 3),\n",
       " ('SAMHD1', 3),\n",
       " ('COL1A1', 3),\n",
       " ('AP1S2', 3),\n",
       " ('RPLP0', 3),\n",
       " ('PRNP', 3),\n",
       " ('SLC12A5', 3),\n",
       " ('ARHGAP44', 3),\n",
       " ('IL6ST', 3),\n",
       " ('RTN4', 3),\n",
       " ('NTRK3', 3),\n",
       " ('ALB', 3),\n",
       " ('ATXN3', 3),\n",
       " ('GPSM2', 3),\n",
       " ('RhoGDI', 3),\n",
       " ('GRK2', 3),\n",
       " ('GRIA4', 3),\n",
       " ('CA3', 3),\n",
       " ('TLX2', 3),\n",
       " ('SPTBN2', 3),\n",
       " ('MPP5', 3),\n",
       " ('PIP', 3),\n",
       " ('CUL1', 3),\n",
       " ('DOCK1', 3),\n",
       " ('THPO', 3),\n",
       " ('USP9X', 3),\n",
       " ('SDHAF2', 3),\n",
       " ('ARHGAP1', 2),\n",
       " ('CAV', 2),\n",
       " ('FKBP8', 2),\n",
       " ('CTNNAL1', 2),\n",
       " ('ITGB1BP1', 2),\n",
       " ('FLOT2', 2),\n",
       " ('SESN2', 2),\n",
       " ('PPM1B', 2),\n",
       " ('PIM1', 2),\n",
       " ('Ephrin_receptor', 2),\n",
       " ('FABP6', 2),\n",
       " ('ARHGAP9', 2),\n",
       " ('CCL4', 2),\n",
       " ('GHRL', 2),\n",
       " ('CIB1', 2),\n",
       " ('NEUROG2', 2),\n",
       " ('BMP1', 2),\n",
       " ('ATG5', 2),\n",
       " ('SLC22A18AS', 2),\n",
       " ('ELF4', 2),\n",
       " ('PTBP2', 2),\n",
       " ('CHL1', 2),\n",
       " ('CDH5', 2),\n",
       " ('LSR', 2),\n",
       " ('SLC8A3', 2),\n",
       " ('CHI3L1', 2),\n",
       " ('EMD', 2),\n",
       " ('RAP1GAP', 2),\n",
       " ('FRS2', 2),\n",
       " ('ID2', 2),\n",
       " ('EIF3C', 2),\n",
       " ('EDN3', 2),\n",
       " ('CCR1', 2),\n",
       " ('CCR5', 2),\n",
       " ('HIPK2', 2),\n",
       " ('RAB9A', 2),\n",
       " ('PDS5A', 2),\n",
       " ('PI3K_p110', 2),\n",
       " ('HNRNPU', 2),\n",
       " ('MSH6', 2),\n",
       " ('CDC14B', 2),\n",
       " ('PHEX', 2),\n",
       " ('SMAD7', 2),\n",
       " ('HES5', 2),\n",
       " ('IRF3', 2),\n",
       " ('RASGRF1', 2),\n",
       " ('SUFU', 2),\n",
       " ('EFNA1', 2),\n",
       " ('MSX2', 2),\n",
       " ('CNP', 2),\n",
       " ('PMS2', 2),\n",
       " ('Kinesin', 2),\n",
       " ('XIAP', 2),\n",
       " ('SLX4', 2),\n",
       " ('CFTR', 2),\n",
       " ('APOE', 2),\n",
       " ('HDAC_I', 2),\n",
       " ('AGFG1', 2),\n",
       " ('CTDNEP1', 2),\n",
       " ('RRAD', 2),\n",
       " ('EMILIN1', 2),\n",
       " ('PPP3CA', 2),\n",
       " ('GIT1', 2),\n",
       " ('PPP6C', 2),\n",
       " ('CDK7', 2),\n",
       " ('ASXL1', 2),\n",
       " ('SREBF1', 2),\n",
       " ('SEMA3A', 2),\n",
       " ('EFS', 2),\n",
       " ('SRGAP1', 2),\n",
       " ('ROBO1', 2),\n",
       " ('SERPINA2', 2),\n",
       " ('NRP2', 2),\n",
       " ('NELFE', 2),\n",
       " ('BAG1', 2),\n",
       " ('MIB1', 2),\n",
       " ('SESN1', 2),\n",
       " ('DYNLL1', 2),\n",
       " ('BRD2', 2),\n",
       " ('FNT', 2),\n",
       " ('SLC17A5', 2),\n",
       " ('PPT1', 2),\n",
       " ('MAP3K10', 2),\n",
       " ('KIF3A', 2),\n",
       " ('CDC73', 2),\n",
       " ('SWI_SNF', 2),\n",
       " ('SCHIP1', 2),\n",
       " ('SAFB', 2),\n",
       " ('TMPRSS11D', 2),\n",
       " ('PLA1A', 2),\n",
       " ('AOPEP', 2),\n",
       " ('VASP', 2),\n",
       " ('DLG4', 2),\n",
       " ('HTR6', 2),\n",
       " ('Tryptase', 2),\n",
       " ('BRCC3', 2),\n",
       " ('POU5F1', 2),\n",
       " ('TFF2', 2),\n",
       " ('ACAD8', 2),\n",
       " ('SPRED2', 2),\n",
       " ('SVEP1', 2),\n",
       " ('ZFP36', 2),\n",
       " ('EIF4A2', 2),\n",
       " ('E2F1', 2),\n",
       " ('SGK2', 2),\n",
       " ('DPH1', 2),\n",
       " ('MAX', 2),\n",
       " ('POLR2A', 2),\n",
       " ('ACSM3', 2),\n",
       " ('DPH2', 2),\n",
       " ('ATP6V0B', 2),\n",
       " ('PKI', 2),\n",
       " ('PDP2', 2),\n",
       " ('RAMP1', 2),\n",
       " ('P90RSK', 2),\n",
       " ('ELP1', 2),\n",
       " ('FLT1', 2),\n",
       " ('TOR1A', 2),\n",
       " ('PML', 2),\n",
       " ('PIK3CD', 2),\n",
       " ('SPICE1', 2),\n",
       " ('TRPV1', 2),\n",
       " ('LIPC', 2),\n",
       " ('RPS6KA3', 2),\n",
       " ('IBSP', 2),\n",
       " ('ANXA5', 2),\n",
       " ('IFI44', 2),\n",
       " ('SNAI2', 2),\n",
       " ('STMN2', 2),\n",
       " ('RND1', 2),\n",
       " ('PPM1D', 2),\n",
       " ('ESR2', 2),\n",
       " ('RARB', 2),\n",
       " ('GADD45A', 2),\n",
       " ('NUPR1', 2),\n",
       " ('SLC32A1', 2),\n",
       " ('STIP1', 2),\n",
       " ('NFATC2', 2),\n",
       " ('SYDE1', 2),\n",
       " ('MMP', 2),\n",
       " ('SLC9A3', 2),\n",
       " ('XRCC1', 2),\n",
       " ('DIAPH1', 2),\n",
       " ('VEGF', 2),\n",
       " ('EAF2', 2),\n",
       " ('PHLPP1', 2),\n",
       " ('ABAT', 2),\n",
       " ('APAF1', 2),\n",
       " ('HCG22', 2),\n",
       " ('VIP', 2),\n",
       " ('MDM4', 2),\n",
       " ('PDPK1', 2),\n",
       " ('TERT', 2),\n",
       " ('MTR', 2),\n",
       " ('IRS2', 2),\n",
       " ('PPEF1', 2),\n",
       " ('LRP1', 2),\n",
       " ('PPM1G', 2),\n",
       " ('SCN10A', 2),\n",
       " ('CYFIP1', 2),\n",
       " ('KCNJ6', 2),\n",
       " ('BRD3', 2),\n",
       " ('ADAM17', 2),\n",
       " ('GHR', 2),\n",
       " ('CRABP1', 2),\n",
       " ('CELF3', 2),\n",
       " ('FOXM1', 2),\n",
       " ('PRSS27', 2),\n",
       " ('IPO9', 2),\n",
       " ('PTHLH', 2),\n",
       " ('USP6NL', 2),\n",
       " ('KCNA3', 2),\n",
       " ('WNK3', 2),\n",
       " ('MYH', 2),\n",
       " ('ARF6', 2),\n",
       " ('VAMP2', 2),\n",
       " ('TUBE1', 2),\n",
       " ('ADH1A', 2),\n",
       " ('OXSR1', 2),\n",
       " ('SLC12A2', 2),\n",
       " ('SMUG1', 2),\n",
       " ('PAH', 2),\n",
       " ('CTCF', 2),\n",
       " ('SNRPN', 2),\n",
       " ('GFRA1', 2),\n",
       " ('LRPAP1', 2),\n",
       " ('CCNB1', 2),\n",
       " ('PAEP', 2),\n",
       " ('SCD5', 2),\n",
       " ('HMGB1', 2),\n",
       " ('PDGFB', 2),\n",
       " ('PARP1', 2),\n",
       " ('WWOX', 2),\n",
       " ('PPARA', 2),\n",
       " ('FABP5', 2),\n",
       " ('RAN', 2),\n",
       " ('OXT', 2),\n",
       " ('GDAP1', 2),\n",
       " ('SDC4', 2),\n",
       " ('CAPN5', 2),\n",
       " ('PDCD6IP', 2),\n",
       " ('SGSM3', 2),\n",
       " ('ZNF668', 2),\n",
       " ('PMAIP1', 2),\n",
       " ...]"
      ]
     },
     "execution_count": 6,
     "metadata": {},
     "output_type": "execute_result"
    }
   ],
   "source": [
    "protein_ctr"
   ]
  },
  {
   "cell_type": "code",
   "execution_count": 14,
   "metadata": {},
   "outputs": [
    {
     "data": {
      "text/plain": [
       "1538"
      ]
     },
     "execution_count": 14,
     "metadata": {},
     "output_type": "execute_result"
    }
   ],
   "source": [
    "len(protein_ctr)"
   ]
  },
  {
   "cell_type": "code",
   "execution_count": 7,
   "metadata": {},
   "outputs": [],
   "source": [
    "ag_stmts = [s for s in pmid_stmts if 'Integrins' in [ag.name for ag in s.agent_list() if ag is not None]]"
   ]
  },
  {
   "cell_type": "code",
   "execution_count": 8,
   "metadata": {},
   "outputs": [],
   "source": [
    "ag_stmts.sort(key=lambda x: len(x.evidence), reverse=True)"
   ]
  },
  {
   "cell_type": "code",
   "execution_count": null,
   "metadata": {},
   "outputs": [],
   "source": []
  },
  {
   "cell_type": "code",
   "execution_count": 9,
   "metadata": {},
   "outputs": [
    {
     "data": {
      "text/plain": [
       "[Activation(Integrins(), mitogen activated protein kinase()),\n",
       " Activation(Integrins(), FAK()),\n",
       " Complex(NF2(), Integrins()),\n",
       " Complex(Integrins(), ERBB2(), ERBB3()),\n",
       " Complex(NF2(), Integrins()),\n",
       " Activation(Integrins(), ERBB2()),\n",
       " Complex(FN1(), Integrins()),\n",
       " Activation(Integrins(), NF2()),\n",
       " Complex(NF2(), Integrins()),\n",
       " Complex(NF2(), RTK(), Integrins()),\n",
       " Activation(Integrins(), mitogen activated protein kinase()),\n",
       " Complex(growth factor receptor(), Integrins()),\n",
       " Complex(Integrins(), Actin()),\n",
       " Complex(PXN(), Integrins()),\n",
       " Complex(Integrins(), RTK()),\n",
       " Complex(Integrins(), LAYN()),\n",
       " Complex(Integrins(), LAMB1()),\n",
       " Complex(NF1(), Integrins(), intermediate filament()),\n",
       " Complex(Integrins(), PXN()),\n",
       " Activation(Integrins(), PAK()),\n",
       " Complex(PXN(), Integrins()),\n",
       " Activation(Integrins(), mTORC1()),\n",
       " Complex(NF2(), Integrins()),\n",
       " Complex(Integrins(), ADAM15()),\n",
       " Complex(EGFR(), ERBB3(), ERBB4(), Integrins()),\n",
       " Complex(NF2(), Integrins()),\n",
       " Complex(DEFB1(), Integrins(), ERBB2()),\n",
       " Activation(Integrins(), RAC1()),\n",
       " Complex(Integrins(), MMRN1()),\n",
       " Complex(NF2(), Integrins()),\n",
       " Complex(NF2(), Integrins(), MMRN1()),\n",
       " Complex(Integrins(), LAYN()),\n",
       " Complex(Integrins(), MMRN1(), laminin()),\n",
       " Complex(NRG1(), ERBB2(), ERBB3(), Integrins())]"
      ]
     },
     "execution_count": 9,
     "metadata": {},
     "output_type": "execute_result"
    }
   ],
   "source": [
    "ag_stmts"
   ]
  },
  {
   "cell_type": "markdown",
   "metadata": {},
   "source": [
    "Get drugs that:\n",
    "1. Have already been tested against NF (are in the screening datasets)\n",
    "2. Are known to target one or more genes relevant to NF."
   ]
  },
  {
   "cell_type": "markdown",
   "metadata": {},
   "source": [
    "# Drug screening dataset"
   ]
  },
  {
   "cell_type": "code",
   "execution_count": 16,
   "metadata": {},
   "outputs": [],
   "source": [
    "import synapseclient\n",
    "import pandas as pd\n",
    "import numpy as np\n",
    "import pandas as pd\n",
    "import seaborn as sns"
   ]
  },
  {
   "cell_type": "code",
   "execution_count": 9,
   "metadata": {
    "scrolled": true
   },
   "outputs": [
    {
     "name": "stdout",
     "output_type": "stream",
     "text": [
      "Welcome, johnbachman!\n",
      "\n"
     ]
    }
   ],
   "source": [
    "syn = synapseclient.Synapse()\n",
    "syn.login()"
   ]
  },
  {
   "cell_type": "code",
   "execution_count": 20,
   "metadata": {},
   "outputs": [],
   "source": [
    "#from Synapse-stored csv\n",
    "data_path = syn.get(\"syn20682897\").path\n",
    "data = pd.read_csv(data_path, low_memory=False)   \n",
    "#from Synapse table\n",
    "#results = syn.tableQuery(\"SELECT * FROM syn20556247\")\n",
    "#data = results.asDataFrame()\n"
   ]
  },
  {
   "cell_type": "code",
   "execution_count": 28,
   "metadata": {},
   "outputs": [
    {
     "data": {
      "text/html": [
       "<div>\n",
       "<style scoped>\n",
       "    .dataframe tbody tr th:only-of-type {\n",
       "        vertical-align: middle;\n",
       "    }\n",
       "\n",
       "    .dataframe tbody tr th {\n",
       "        vertical-align: top;\n",
       "    }\n",
       "\n",
       "    .dataframe thead th {\n",
       "        text-align: right;\n",
       "    }\n",
       "</style>\n",
       "<table border=\"1\" class=\"dataframe\">\n",
       "  <thead>\n",
       "    <tr style=\"text-align: right;\">\n",
       "      <th></th>\n",
       "      <th>drug_screen_id</th>\n",
       "      <th>drug_assay_id</th>\n",
       "      <th>experiment_synapse_id</th>\n",
       "      <th>study_synapse_id</th>\n",
       "      <th>funder</th>\n",
       "      <th>model_name</th>\n",
       "      <th>cellosaurus_id</th>\n",
       "      <th>organism_name</th>\n",
       "      <th>drug_name</th>\n",
       "      <th>DT_explorer_internal_id</th>\n",
       "      <th>dosage</th>\n",
       "      <th>dosage_unit</th>\n",
       "      <th>response</th>\n",
       "      <th>response_type</th>\n",
       "      <th>response_unit</th>\n",
       "      <th>model_type</th>\n",
       "      <th>disease_name</th>\n",
       "      <th>disease_efo_id</th>\n",
       "      <th>symptom_name</th>\n",
       "      <th>symptom_efo_id</th>\n",
       "    </tr>\n",
       "  </thead>\n",
       "  <tbody>\n",
       "    <tr>\n",
       "      <th>0</th>\n",
       "      <td>1</td>\n",
       "      <td>syn11373153.17</td>\n",
       "      <td>syn11373153.1</td>\n",
       "      <td>syn5610425</td>\n",
       "      <td>CTF</td>\n",
       "      <td>N10</td>\n",
       "      <td>NaN</td>\n",
       "      <td>human</td>\n",
       "      <td>GPHR-00000018</td>\n",
       "      <td>159129</td>\n",
       "      <td>100.000000</td>\n",
       "      <td>uM</td>\n",
       "      <td>99.979123</td>\n",
       "      <td>percent viability</td>\n",
       "      <td>%</td>\n",
       "      <td>cell line</td>\n",
       "      <td>no disease</td>\n",
       "      <td>NaN</td>\n",
       "      <td>no symptom</td>\n",
       "      <td>NaN</td>\n",
       "    </tr>\n",
       "    <tr>\n",
       "      <th>1</th>\n",
       "      <td>1</td>\n",
       "      <td>syn11373153.18</td>\n",
       "      <td>syn11373153.1</td>\n",
       "      <td>syn5610425</td>\n",
       "      <td>CTF</td>\n",
       "      <td>N10</td>\n",
       "      <td>NaN</td>\n",
       "      <td>human</td>\n",
       "      <td>GPHR-00000018</td>\n",
       "      <td>159129</td>\n",
       "      <td>33.333430</td>\n",
       "      <td>uM</td>\n",
       "      <td>103.789330</td>\n",
       "      <td>percent viability</td>\n",
       "      <td>%</td>\n",
       "      <td>cell line</td>\n",
       "      <td>no disease</td>\n",
       "      <td>NaN</td>\n",
       "      <td>no symptom</td>\n",
       "      <td>NaN</td>\n",
       "    </tr>\n",
       "    <tr>\n",
       "      <th>2</th>\n",
       "      <td>1</td>\n",
       "      <td>syn11373153.19</td>\n",
       "      <td>syn11373153.1</td>\n",
       "      <td>syn5610425</td>\n",
       "      <td>CTF</td>\n",
       "      <td>N10</td>\n",
       "      <td>NaN</td>\n",
       "      <td>human</td>\n",
       "      <td>GPHR-00000018</td>\n",
       "      <td>159129</td>\n",
       "      <td>11.111175</td>\n",
       "      <td>uM</td>\n",
       "      <td>102.178887</td>\n",
       "      <td>percent viability</td>\n",
       "      <td>%</td>\n",
       "      <td>cell line</td>\n",
       "      <td>no disease</td>\n",
       "      <td>NaN</td>\n",
       "      <td>no symptom</td>\n",
       "      <td>NaN</td>\n",
       "    </tr>\n",
       "    <tr>\n",
       "      <th>3</th>\n",
       "      <td>1</td>\n",
       "      <td>syn11373153.20</td>\n",
       "      <td>syn11373153.1</td>\n",
       "      <td>syn5610425</td>\n",
       "      <td>CTF</td>\n",
       "      <td>N10</td>\n",
       "      <td>NaN</td>\n",
       "      <td>human</td>\n",
       "      <td>GPHR-00000018</td>\n",
       "      <td>159129</td>\n",
       "      <td>3.703736</td>\n",
       "      <td>uM</td>\n",
       "      <td>104.653527</td>\n",
       "      <td>percent viability</td>\n",
       "      <td>%</td>\n",
       "      <td>cell line</td>\n",
       "      <td>no disease</td>\n",
       "      <td>NaN</td>\n",
       "      <td>no symptom</td>\n",
       "      <td>NaN</td>\n",
       "    </tr>\n",
       "    <tr>\n",
       "      <th>4</th>\n",
       "      <td>1</td>\n",
       "      <td>syn11373153.21</td>\n",
       "      <td>syn11373153.1</td>\n",
       "      <td>syn5610425</td>\n",
       "      <td>CTF</td>\n",
       "      <td>N10</td>\n",
       "      <td>NaN</td>\n",
       "      <td>human</td>\n",
       "      <td>GPHR-00000018</td>\n",
       "      <td>159129</td>\n",
       "      <td>1.234554</td>\n",
       "      <td>uM</td>\n",
       "      <td>105.312040</td>\n",
       "      <td>percent viability</td>\n",
       "      <td>%</td>\n",
       "      <td>cell line</td>\n",
       "      <td>no disease</td>\n",
       "      <td>NaN</td>\n",
       "      <td>no symptom</td>\n",
       "      <td>NaN</td>\n",
       "    </tr>\n",
       "  </tbody>\n",
       "</table>\n",
       "</div>"
      ],
      "text/plain": [
       "   drug_screen_id   drug_assay_id experiment_synapse_id study_synapse_id  \\\n",
       "0               1  syn11373153.17         syn11373153.1       syn5610425   \n",
       "1               1  syn11373153.18         syn11373153.1       syn5610425   \n",
       "2               1  syn11373153.19         syn11373153.1       syn5610425   \n",
       "3               1  syn11373153.20         syn11373153.1       syn5610425   \n",
       "4               1  syn11373153.21         syn11373153.1       syn5610425   \n",
       "\n",
       "  funder model_name cellosaurus_id organism_name      drug_name  \\\n",
       "0    CTF        N10            NaN         human  GPHR-00000018   \n",
       "1    CTF        N10            NaN         human  GPHR-00000018   \n",
       "2    CTF        N10            NaN         human  GPHR-00000018   \n",
       "3    CTF        N10            NaN         human  GPHR-00000018   \n",
       "4    CTF        N10            NaN         human  GPHR-00000018   \n",
       "\n",
       "   DT_explorer_internal_id      dosage dosage_unit    response  \\\n",
       "0                   159129  100.000000          uM   99.979123   \n",
       "1                   159129   33.333430          uM  103.789330   \n",
       "2                   159129   11.111175          uM  102.178887   \n",
       "3                   159129    3.703736          uM  104.653527   \n",
       "4                   159129    1.234554          uM  105.312040   \n",
       "\n",
       "       response_type response_unit model_type disease_name  disease_efo_id  \\\n",
       "0  percent viability             %  cell line   no disease             NaN   \n",
       "1  percent viability             %  cell line   no disease             NaN   \n",
       "2  percent viability             %  cell line   no disease             NaN   \n",
       "3  percent viability             %  cell line   no disease             NaN   \n",
       "4  percent viability             %  cell line   no disease             NaN   \n",
       "\n",
       "  symptom_name  symptom_efo_id  \n",
       "0   no symptom             NaN  \n",
       "1   no symptom             NaN  \n",
       "2   no symptom             NaN  \n",
       "3   no symptom             NaN  \n",
       "4   no symptom             NaN  "
      ]
     },
     "execution_count": 28,
     "metadata": {},
     "output_type": "execute_result"
    }
   ],
   "source": [
    "data.head()"
   ]
  },
  {
   "cell_type": "markdown",
   "metadata": {},
   "source": [
    "## Summary data"
   ]
  },
  {
   "cell_type": "code",
   "execution_count": 97,
   "metadata": {},
   "outputs": [
    {
     "data": {
      "text/plain": [
       "array(['AUC_Simpson', 'AUC_Trapezoid', 'IC50_abs', 'Min_viability'],\n",
       "      dtype=object)"
      ]
     },
     "execution_count": 97,
     "metadata": {},
     "output_type": "execute_result"
    }
   ],
   "source": [
    "data_path = syn.get(\"syn20684161\").path\n",
    "data = pd.read_csv(data_path, low_memory=False)   \n",
    "data.response_type.unique()"
   ]
  },
  {
   "cell_type": "code",
   "execution_count": 98,
   "metadata": {},
   "outputs": [],
   "source": [
    "ic50 = data[data.response_type == 'Min_viability']"
   ]
  },
  {
   "cell_type": "code",
   "execution_count": 100,
   "metadata": {},
   "outputs": [
    {
     "data": {
      "text/plain": [
       "array(['no disease', 'NF1', 'NF2'], dtype=object)"
      ]
     },
     "execution_count": 100,
     "metadata": {},
     "output_type": "execute_result"
    }
   ],
   "source": [
    "data.disease_name.unique()"
   ]
  },
  {
   "cell_type": "code",
   "execution_count": 101,
   "metadata": {},
   "outputs": [],
   "source": [
    "targetspath = syn.get('syn17091507')\n",
    "readRDS = robjects.r['readRDS']\n",
    "targets = readRDS(targetspath.path)"
   ]
  },
  {
   "cell_type": "code",
   "execution_count": 81,
   "metadata": {},
   "outputs": [],
   "source": [
    "targets_filt = (targets\n",
    "                .query('mean_pchembl > 6')\n",
    "                .filter([\"internal_id\", \"hugo_gene\", \"std_name\"])\n",
    "                .drop_duplicates())"
   ]
  },
  {
   "cell_type": "code",
   "execution_count": 88,
   "metadata": {},
   "outputs": [
    {
     "data": {
      "text/html": [
       "<div>\n",
       "<style scoped>\n",
       "    .dataframe tbody tr th:only-of-type {\n",
       "        vertical-align: middle;\n",
       "    }\n",
       "\n",
       "    .dataframe tbody tr th {\n",
       "        vertical-align: top;\n",
       "    }\n",
       "\n",
       "    .dataframe thead th {\n",
       "        text-align: right;\n",
       "    }\n",
       "</style>\n",
       "<table border=\"1\" class=\"dataframe\">\n",
       "  <thead>\n",
       "    <tr style=\"text-align: right;\">\n",
       "      <th></th>\n",
       "      <th>internal_id</th>\n",
       "      <th>hugo_gene</th>\n",
       "      <th>n_quantitative</th>\n",
       "      <th>mean_pchembl</th>\n",
       "      <th>cv</th>\n",
       "      <th>sd</th>\n",
       "      <th>IC50_nM</th>\n",
       "      <th>AC50_nM</th>\n",
       "      <th>EC50_nM</th>\n",
       "      <th>Potency_nM</th>\n",
       "      <th>Ki_nM</th>\n",
       "      <th>Kd_nM</th>\n",
       "      <th>n_qualitative</th>\n",
       "      <th>std_name</th>\n",
       "      <th>total_n</th>\n",
       "      <th>confidence</th>\n",
       "      <th>pchembl_d</th>\n",
       "      <th>pchembl_t</th>\n",
       "      <th>known_selectivity_index</th>\n",
       "    </tr>\n",
       "  </thead>\n",
       "  <tbody>\n",
       "    <tr>\n",
       "      <th>1</th>\n",
       "      <td>3</td>\n",
       "      <td>HTR7</td>\n",
       "      <td>1</td>\n",
       "      <td>8.01</td>\n",
       "      <td>NaN</td>\n",
       "      <td>NaN</td>\n",
       "      <td>NaN</td>\n",
       "      <td>NaN</td>\n",
       "      <td>NaN</td>\n",
       "      <td>NaN</td>\n",
       "      <td>9.7</td>\n",
       "      <td>NaN</td>\n",
       "      <td>-2147483648</td>\n",
       "      <td>CHEMBL2413451</td>\n",
       "      <td>1</td>\n",
       "      <td>-0.229</td>\n",
       "      <td>8.01</td>\n",
       "      <td>10322.90</td>\n",
       "      <td>1.0</td>\n",
       "    </tr>\n",
       "    <tr>\n",
       "      <th>2</th>\n",
       "      <td>4</td>\n",
       "      <td>CHRNA4</td>\n",
       "      <td>1</td>\n",
       "      <td>7.54</td>\n",
       "      <td>NaN</td>\n",
       "      <td>NaN</td>\n",
       "      <td>NaN</td>\n",
       "      <td>NaN</td>\n",
       "      <td>NaN</td>\n",
       "      <td>NaN</td>\n",
       "      <td>29.0</td>\n",
       "      <td>NaN</td>\n",
       "      <td>-2147483648</td>\n",
       "      <td>CHEMBL204871</td>\n",
       "      <td>1</td>\n",
       "      <td>-0.229</td>\n",
       "      <td>15.08</td>\n",
       "      <td>4501.97</td>\n",
       "      <td>0.5</td>\n",
       "    </tr>\n",
       "    <tr>\n",
       "      <th>3</th>\n",
       "      <td>4</td>\n",
       "      <td>CHRNB2</td>\n",
       "      <td>1</td>\n",
       "      <td>7.54</td>\n",
       "      <td>NaN</td>\n",
       "      <td>NaN</td>\n",
       "      <td>NaN</td>\n",
       "      <td>NaN</td>\n",
       "      <td>NaN</td>\n",
       "      <td>NaN</td>\n",
       "      <td>29.0</td>\n",
       "      <td>NaN</td>\n",
       "      <td>-2147483648</td>\n",
       "      <td>CHEMBL204871</td>\n",
       "      <td>1</td>\n",
       "      <td>-0.229</td>\n",
       "      <td>15.08</td>\n",
       "      <td>4194.75</td>\n",
       "      <td>0.5</td>\n",
       "    </tr>\n",
       "    <tr>\n",
       "      <th>4</th>\n",
       "      <td>5</td>\n",
       "      <td>GSK3A</td>\n",
       "      <td>2</td>\n",
       "      <td>7.76</td>\n",
       "      <td>5.285076</td>\n",
       "      <td>0.410122</td>\n",
       "      <td>34.0</td>\n",
       "      <td>NaN</td>\n",
       "      <td>NaN</td>\n",
       "      <td>NaN</td>\n",
       "      <td>9.0</td>\n",
       "      <td>NaN</td>\n",
       "      <td>-2147483648</td>\n",
       "      <td>CHEMBL3582401</td>\n",
       "      <td>2</td>\n",
       "      <td>0.393</td>\n",
       "      <td>7.76</td>\n",
       "      <td>2034.63</td>\n",
       "      <td>1.0</td>\n",
       "    </tr>\n",
       "    <tr>\n",
       "      <th>5</th>\n",
       "      <td>6</td>\n",
       "      <td>FAAH</td>\n",
       "      <td>1</td>\n",
       "      <td>9.30</td>\n",
       "      <td>NaN</td>\n",
       "      <td>NaN</td>\n",
       "      <td>0.5</td>\n",
       "      <td>NaN</td>\n",
       "      <td>NaN</td>\n",
       "      <td>NaN</td>\n",
       "      <td>NaN</td>\n",
       "      <td>NaN</td>\n",
       "      <td>-2147483648</td>\n",
       "      <td>CHEMBL2386554</td>\n",
       "      <td>1</td>\n",
       "      <td>-0.229</td>\n",
       "      <td>9.30</td>\n",
       "      <td>6375.76</td>\n",
       "      <td>1.0</td>\n",
       "    </tr>\n",
       "  </tbody>\n",
       "</table>\n",
       "</div>"
      ],
      "text/plain": [
       "   internal_id hugo_gene  n_quantitative  mean_pchembl        cv        sd  \\\n",
       "1            3      HTR7               1          8.01       NaN       NaN   \n",
       "2            4    CHRNA4               1          7.54       NaN       NaN   \n",
       "3            4    CHRNB2               1          7.54       NaN       NaN   \n",
       "4            5     GSK3A               2          7.76  5.285076  0.410122   \n",
       "5            6      FAAH               1          9.30       NaN       NaN   \n",
       "\n",
       "   IC50_nM  AC50_nM  EC50_nM  Potency_nM  Ki_nM  Kd_nM  n_qualitative  \\\n",
       "1      NaN      NaN      NaN         NaN    9.7    NaN    -2147483648   \n",
       "2      NaN      NaN      NaN         NaN   29.0    NaN    -2147483648   \n",
       "3      NaN      NaN      NaN         NaN   29.0    NaN    -2147483648   \n",
       "4     34.0      NaN      NaN         NaN    9.0    NaN    -2147483648   \n",
       "5      0.5      NaN      NaN         NaN    NaN    NaN    -2147483648   \n",
       "\n",
       "        std_name  total_n  confidence  pchembl_d  pchembl_t  \\\n",
       "1  CHEMBL2413451        1      -0.229       8.01   10322.90   \n",
       "2   CHEMBL204871        1      -0.229      15.08    4501.97   \n",
       "3   CHEMBL204871        1      -0.229      15.08    4194.75   \n",
       "4  CHEMBL3582401        2       0.393       7.76    2034.63   \n",
       "5  CHEMBL2386554        1      -0.229       9.30    6375.76   \n",
       "\n",
       "   known_selectivity_index  \n",
       "1                      1.0  \n",
       "2                      0.5  \n",
       "3                      0.5  \n",
       "4                      1.0  \n",
       "5                      1.0  "
      ]
     },
     "execution_count": 88,
     "metadata": {},
     "output_type": "execute_result"
    }
   ],
   "source": [
    "targets.head()"
   ]
  },
  {
   "cell_type": "code",
   "execution_count": 83,
   "metadata": {},
   "outputs": [],
   "source": [
    "data_tgts = ic50.merge(targets, left_on=\"DT_explorer_internal_id\",\n",
    "                    right_on=\"internal_id\",\n",
    "                    how=\"inner\")\n",
    "#.filter([\"DT_explorer_internal_id\", \"hugo_gene\"]\n",
    "#                                       ).assign(foo = 1\n",
    "#                        ).pivot_table(values = 'foo',\n",
    "#                                      index = 'DT_explorer_internal_id',\n",
    "#                                      columns = \"hugo_gene\", fill_value = 0)\"\"\""
   ]
  },
  {
   "cell_type": "code",
   "execution_count": 90,
   "metadata": {},
   "outputs": [],
   "source": [
    "data_tgts = ic50.merge(targets, left_on=\"DT_explorer_internal_id\",\n",
    "                    right_on=\"internal_id\",\n",
    "                    how=\"inner\")\n",
    "data_tgts = data_tgts[['disease_name', 'DT_explorer_internal_id',\n",
    "           'drug_name', 'std_name', 'dosage', 'response_type',\n",
    "           'response', 'response_unit',\n",
    "           'hugo_gene', 'mean_pchembl', 'cv', 'sd', 'IC50_nM', \n",
    "           'AC50_nM', 'EC50_nM', 'known_selectivity_index']]\n",
    "data_tgts = data_tgts[(data_tgts.response != 0) & (data_tgts.response != np.inf)]"
   ]
  },
  {
   "cell_type": "code",
   "execution_count": 96,
   "metadata": {},
   "outputs": [
    {
     "data": {
      "text/html": [
       "<div>\n",
       "<style scoped>\n",
       "    .dataframe tbody tr th:only-of-type {\n",
       "        vertical-align: middle;\n",
       "    }\n",
       "\n",
       "    .dataframe tbody tr th {\n",
       "        vertical-align: top;\n",
       "    }\n",
       "\n",
       "    .dataframe thead th {\n",
       "        text-align: right;\n",
       "    }\n",
       "</style>\n",
       "<table border=\"1\" class=\"dataframe\">\n",
       "  <thead>\n",
       "    <tr style=\"text-align: right;\">\n",
       "      <th></th>\n",
       "      <th>disease_name</th>\n",
       "      <th>DT_explorer_internal_id</th>\n",
       "      <th>drug_name</th>\n",
       "      <th>std_name</th>\n",
       "      <th>dosage</th>\n",
       "      <th>response_type</th>\n",
       "      <th>response</th>\n",
       "      <th>response_unit</th>\n",
       "      <th>hugo_gene</th>\n",
       "      <th>mean_pchembl</th>\n",
       "      <th>cv</th>\n",
       "      <th>sd</th>\n",
       "      <th>IC50_nM</th>\n",
       "      <th>AC50_nM</th>\n",
       "      <th>EC50_nM</th>\n",
       "      <th>known_selectivity_index</th>\n",
       "    </tr>\n",
       "  </thead>\n",
       "  <tbody>\n",
       "    <tr>\n",
       "      <th>75204</th>\n",
       "      <td>NF1</td>\n",
       "      <td>179480</td>\n",
       "      <td>NCGC00167518-03</td>\n",
       "      <td>TEMSIROLIMUS</td>\n",
       "      <td>[0.000780415,46.08294931]</td>\n",
       "      <td>IC50_abs</td>\n",
       "      <td>1.392725e+03</td>\n",
       "      <td>uM</td>\n",
       "      <td>MTOR</td>\n",
       "      <td>5.75</td>\n",
       "      <td>NaN</td>\n",
       "      <td>NaN</td>\n",
       "      <td>1760.0</td>\n",
       "      <td>NaN</td>\n",
       "      <td>NaN</td>\n",
       "      <td>1.0</td>\n",
       "    </tr>\n",
       "    <tr>\n",
       "      <th>75205</th>\n",
       "      <td>NF1</td>\n",
       "      <td>179480</td>\n",
       "      <td>NCGC00167518-03</td>\n",
       "      <td>TEMSIROLIMUS</td>\n",
       "      <td>[0.000780415,46.08294931]</td>\n",
       "      <td>IC50_abs</td>\n",
       "      <td>1.392725e+03</td>\n",
       "      <td>uM</td>\n",
       "      <td>BRAF</td>\n",
       "      <td>NaN</td>\n",
       "      <td>NaN</td>\n",
       "      <td>NaN</td>\n",
       "      <td>NaN</td>\n",
       "      <td>NaN</td>\n",
       "      <td>NaN</td>\n",
       "      <td>NaN</td>\n",
       "    </tr>\n",
       "    <tr>\n",
       "      <th>75206</th>\n",
       "      <td>NF1</td>\n",
       "      <td>179480</td>\n",
       "      <td>NCGC00167518-03</td>\n",
       "      <td>TEMSIROLIMUS</td>\n",
       "      <td>[0.000780415,46.08294931]</td>\n",
       "      <td>IC50_abs</td>\n",
       "      <td>6.024084e+01</td>\n",
       "      <td>uM</td>\n",
       "      <td>MTOR</td>\n",
       "      <td>5.75</td>\n",
       "      <td>NaN</td>\n",
       "      <td>NaN</td>\n",
       "      <td>1760.0</td>\n",
       "      <td>NaN</td>\n",
       "      <td>NaN</td>\n",
       "      <td>1.0</td>\n",
       "    </tr>\n",
       "    <tr>\n",
       "      <th>75207</th>\n",
       "      <td>NF1</td>\n",
       "      <td>179480</td>\n",
       "      <td>NCGC00167518-03</td>\n",
       "      <td>TEMSIROLIMUS</td>\n",
       "      <td>[0.000780415,46.08294931]</td>\n",
       "      <td>IC50_abs</td>\n",
       "      <td>6.024084e+01</td>\n",
       "      <td>uM</td>\n",
       "      <td>BRAF</td>\n",
       "      <td>NaN</td>\n",
       "      <td>NaN</td>\n",
       "      <td>NaN</td>\n",
       "      <td>NaN</td>\n",
       "      <td>NaN</td>\n",
       "      <td>NaN</td>\n",
       "      <td>NaN</td>\n",
       "    </tr>\n",
       "    <tr>\n",
       "      <th>75208</th>\n",
       "      <td>no disease</td>\n",
       "      <td>179480</td>\n",
       "      <td>NCGC00167518-03</td>\n",
       "      <td>TEMSIROLIMUS</td>\n",
       "      <td>[0.00078041474654,46.082949308]</td>\n",
       "      <td>IC50_abs</td>\n",
       "      <td>3.092603e+09</td>\n",
       "      <td>uM</td>\n",
       "      <td>MTOR</td>\n",
       "      <td>5.75</td>\n",
       "      <td>NaN</td>\n",
       "      <td>NaN</td>\n",
       "      <td>1760.0</td>\n",
       "      <td>NaN</td>\n",
       "      <td>NaN</td>\n",
       "      <td>1.0</td>\n",
       "    </tr>\n",
       "    <tr>\n",
       "      <th>75209</th>\n",
       "      <td>no disease</td>\n",
       "      <td>179480</td>\n",
       "      <td>NCGC00167518-03</td>\n",
       "      <td>TEMSIROLIMUS</td>\n",
       "      <td>[0.00078041474654,46.082949308]</td>\n",
       "      <td>IC50_abs</td>\n",
       "      <td>3.092603e+09</td>\n",
       "      <td>uM</td>\n",
       "      <td>BRAF</td>\n",
       "      <td>NaN</td>\n",
       "      <td>NaN</td>\n",
       "      <td>NaN</td>\n",
       "      <td>NaN</td>\n",
       "      <td>NaN</td>\n",
       "      <td>NaN</td>\n",
       "      <td>NaN</td>\n",
       "    </tr>\n",
       "    <tr>\n",
       "      <th>75210</th>\n",
       "      <td>NF1</td>\n",
       "      <td>179480</td>\n",
       "      <td>NCGC00167518-03</td>\n",
       "      <td>TEMSIROLIMUS</td>\n",
       "      <td>[7.8e-10,4.61e-05]</td>\n",
       "      <td>IC50_abs</td>\n",
       "      <td>3.287926e-05</td>\n",
       "      <td>uM</td>\n",
       "      <td>MTOR</td>\n",
       "      <td>5.75</td>\n",
       "      <td>NaN</td>\n",
       "      <td>NaN</td>\n",
       "      <td>1760.0</td>\n",
       "      <td>NaN</td>\n",
       "      <td>NaN</td>\n",
       "      <td>1.0</td>\n",
       "    </tr>\n",
       "    <tr>\n",
       "      <th>75211</th>\n",
       "      <td>NF1</td>\n",
       "      <td>179480</td>\n",
       "      <td>NCGC00167518-03</td>\n",
       "      <td>TEMSIROLIMUS</td>\n",
       "      <td>[7.8e-10,4.61e-05]</td>\n",
       "      <td>IC50_abs</td>\n",
       "      <td>3.287926e-05</td>\n",
       "      <td>uM</td>\n",
       "      <td>BRAF</td>\n",
       "      <td>NaN</td>\n",
       "      <td>NaN</td>\n",
       "      <td>NaN</td>\n",
       "      <td>NaN</td>\n",
       "      <td>NaN</td>\n",
       "      <td>NaN</td>\n",
       "      <td>NaN</td>\n",
       "    </tr>\n",
       "  </tbody>\n",
       "</table>\n",
       "</div>"
      ],
      "text/plain": [
       "      disease_name  DT_explorer_internal_id        drug_name      std_name  \\\n",
       "75204          NF1                   179480  NCGC00167518-03  TEMSIROLIMUS   \n",
       "75205          NF1                   179480  NCGC00167518-03  TEMSIROLIMUS   \n",
       "75206          NF1                   179480  NCGC00167518-03  TEMSIROLIMUS   \n",
       "75207          NF1                   179480  NCGC00167518-03  TEMSIROLIMUS   \n",
       "75208   no disease                   179480  NCGC00167518-03  TEMSIROLIMUS   \n",
       "75209   no disease                   179480  NCGC00167518-03  TEMSIROLIMUS   \n",
       "75210          NF1                   179480  NCGC00167518-03  TEMSIROLIMUS   \n",
       "75211          NF1                   179480  NCGC00167518-03  TEMSIROLIMUS   \n",
       "\n",
       "                                dosage response_type      response  \\\n",
       "75204        [0.000780415,46.08294931]      IC50_abs  1.392725e+03   \n",
       "75205        [0.000780415,46.08294931]      IC50_abs  1.392725e+03   \n",
       "75206        [0.000780415,46.08294931]      IC50_abs  6.024084e+01   \n",
       "75207        [0.000780415,46.08294931]      IC50_abs  6.024084e+01   \n",
       "75208  [0.00078041474654,46.082949308]      IC50_abs  3.092603e+09   \n",
       "75209  [0.00078041474654,46.082949308]      IC50_abs  3.092603e+09   \n",
       "75210               [7.8e-10,4.61e-05]      IC50_abs  3.287926e-05   \n",
       "75211               [7.8e-10,4.61e-05]      IC50_abs  3.287926e-05   \n",
       "\n",
       "      response_unit hugo_gene  mean_pchembl  cv  sd  IC50_nM  AC50_nM  \\\n",
       "75204            uM      MTOR          5.75 NaN NaN   1760.0      NaN   \n",
       "75205            uM      BRAF           NaN NaN NaN      NaN      NaN   \n",
       "75206            uM      MTOR          5.75 NaN NaN   1760.0      NaN   \n",
       "75207            uM      BRAF           NaN NaN NaN      NaN      NaN   \n",
       "75208            uM      MTOR          5.75 NaN NaN   1760.0      NaN   \n",
       "75209            uM      BRAF           NaN NaN NaN      NaN      NaN   \n",
       "75210            uM      MTOR          5.75 NaN NaN   1760.0      NaN   \n",
       "75211            uM      BRAF           NaN NaN NaN      NaN      NaN   \n",
       "\n",
       "       EC50_nM  known_selectivity_index  \n",
       "75204      NaN                      1.0  \n",
       "75205      NaN                      NaN  \n",
       "75206      NaN                      1.0  \n",
       "75207      NaN                      NaN  \n",
       "75208      NaN                      1.0  \n",
       "75209      NaN                      NaN  \n",
       "75210      NaN                      1.0  \n",
       "75211      NaN                      NaN  "
      ]
     },
     "execution_count": 96,
     "metadata": {},
     "output_type": "execute_result"
    }
   ],
   "source": [
    "data_tgts[data_tgts.std_name == 'TEMSIROLIMUS'].iloc[0:50]"
   ]
  },
  {
   "cell_type": "markdown",
   "metadata": {},
   "source": [
    "## Notebook for old dataset"
   ]
  },
  {
   "cell_type": "code",
   "execution_count": 11,
   "metadata": {},
   "outputs": [],
   "source": [
    "import rpy2.robjects as robjects\n",
    "from rpy2.robjects import pandas2ri\n",
    "pandas2ri.activate()\n"
   ]
  },
  {
   "cell_type": "code",
   "execution_count": 12,
   "metadata": {},
   "outputs": [],
   "source": [
    "targetspath = syn.get('syn17091507')\n",
    "readRDS = robjects.r['readRDS']\n",
    "\n",
    "targets = readRDS(targetspath.path)"
   ]
  },
  {
   "cell_type": "code",
   "execution_count": 15,
   "metadata": {},
   "outputs": [
    {
     "data": {
      "text/html": [
       "<div>\n",
       "<style scoped>\n",
       "    .dataframe tbody tr th:only-of-type {\n",
       "        vertical-align: middle;\n",
       "    }\n",
       "\n",
       "    .dataframe tbody tr th {\n",
       "        vertical-align: top;\n",
       "    }\n",
       "\n",
       "    .dataframe thead th {\n",
       "        text-align: right;\n",
       "    }\n",
       "</style>\n",
       "<table border=\"1\" class=\"dataframe\">\n",
       "  <thead>\n",
       "    <tr style=\"text-align: right;\">\n",
       "      <th></th>\n",
       "      <th>internal_id</th>\n",
       "      <th>hugo_gene</th>\n",
       "      <th>std_name</th>\n",
       "    </tr>\n",
       "  </thead>\n",
       "  <tbody>\n",
       "    <tr>\n",
       "      <th>1</th>\n",
       "      <td>3</td>\n",
       "      <td>HTR7</td>\n",
       "      <td>CHEMBL2413451</td>\n",
       "    </tr>\n",
       "    <tr>\n",
       "      <th>2</th>\n",
       "      <td>4</td>\n",
       "      <td>CHRNA4</td>\n",
       "      <td>CHEMBL204871</td>\n",
       "    </tr>\n",
       "    <tr>\n",
       "      <th>3</th>\n",
       "      <td>4</td>\n",
       "      <td>CHRNB2</td>\n",
       "      <td>CHEMBL204871</td>\n",
       "    </tr>\n",
       "    <tr>\n",
       "      <th>4</th>\n",
       "      <td>5</td>\n",
       "      <td>GSK3A</td>\n",
       "      <td>CHEMBL3582401</td>\n",
       "    </tr>\n",
       "    <tr>\n",
       "      <th>5</th>\n",
       "      <td>6</td>\n",
       "      <td>FAAH</td>\n",
       "      <td>CHEMBL2386554</td>\n",
       "    </tr>\n",
       "  </tbody>\n",
       "</table>\n",
       "</div>"
      ],
      "text/plain": [
       "   internal_id hugo_gene       std_name\n",
       "1            3      HTR7  CHEMBL2413451\n",
       "2            4    CHRNA4   CHEMBL204871\n",
       "3            4    CHRNB2   CHEMBL204871\n",
       "4            5     GSK3A  CHEMBL3582401\n",
       "5            6      FAAH  CHEMBL2386554"
      ]
     },
     "execution_count": 15,
     "metadata": {},
     "output_type": "execute_result"
    }
   ],
   "source": [
    "\n",
    "targets_filt = (targets\n",
    "                .query('mean_pchembl > 6')\n",
    "                .filter([\"internal_id\", \"hugo_gene\", \"std_name\"])\n",
    "                .drop_duplicates())\n",
    "    \n",
    "pd.DataFrame.head(targets_filt)"
   ]
  },
  {
   "cell_type": "code",
   "execution_count": 17,
   "metadata": {},
   "outputs": [
    {
     "ename": "SynapseHTTPError",
     "evalue": "403 Client Error: \nYou do not have READ permission for the requested entity, syn17462699.",
     "output_type": "error",
     "traceback": [
      "\u001b[0;31m---------------------------------------------------------------------------\u001b[0m",
      "\u001b[0;31mSynapseHTTPError\u001b[0m                          Traceback (most recent call last)",
      "\u001b[0;32m<ipython-input-17-7321bb219825>\u001b[0m in \u001b[0;36m<module>\u001b[0;34m\u001b[0m\n\u001b[0;32m----> 1\u001b[0;31m \u001b[0mdrug_data_path\u001b[0m \u001b[0;34m=\u001b[0m \u001b[0msyn\u001b[0m\u001b[0;34m.\u001b[0m\u001b[0mget\u001b[0m\u001b[0;34m(\u001b[0m\u001b[0;34m\"syn17462699\"\u001b[0m\u001b[0;34m)\u001b[0m\u001b[0;34m.\u001b[0m\u001b[0mpath\u001b[0m\u001b[0;34m\u001b[0m\u001b[0;34m\u001b[0m\u001b[0m\n\u001b[0m\u001b[1;32m      2\u001b[0m \u001b[0mdrug_data\u001b[0m \u001b[0;34m=\u001b[0m \u001b[0mpd\u001b[0m\u001b[0;34m.\u001b[0m\u001b[0mread_csv\u001b[0m\u001b[0;34m(\u001b[0m\u001b[0mdrug_data_path\u001b[0m\u001b[0;34m,\u001b[0m \u001b[0mlow_memory\u001b[0m\u001b[0;34m=\u001b[0m\u001b[0;32mFalse\u001b[0m\u001b[0;34m)\u001b[0m\u001b[0;34m\u001b[0m\u001b[0;34m\u001b[0m\u001b[0m\n\u001b[1;32m      3\u001b[0m \u001b[0;34m\u001b[0m\u001b[0m\n\u001b[1;32m      4\u001b[0m \u001b[0mpd\u001b[0m\u001b[0;34m.\u001b[0m\u001b[0mDataFrame\u001b[0m\u001b[0;34m.\u001b[0m\u001b[0mhead\u001b[0m\u001b[0;34m(\u001b[0m\u001b[0mdrug_data\u001b[0m\u001b[0;34m)\u001b[0m\u001b[0;34m\u001b[0m\u001b[0;34m\u001b[0m\u001b[0m\n",
      "\u001b[0;32m~/.virtualenvs/py37env/lib/python3.7/site-packages/synapseclient/client.py\u001b[0m in \u001b[0;36mget\u001b[0;34m(self, entity, **kwargs)\u001b[0m\n\u001b[1;32m    659\u001b[0m         \u001b[0;32melse\u001b[0m\u001b[0;34m:\u001b[0m\u001b[0;34m\u001b[0m\u001b[0;34m\u001b[0m\u001b[0m\n\u001b[1;32m    660\u001b[0m             \u001b[0mversion\u001b[0m \u001b[0;34m=\u001b[0m \u001b[0mkwargs\u001b[0m\u001b[0;34m.\u001b[0m\u001b[0mget\u001b[0m\u001b[0;34m(\u001b[0m\u001b[0;34m'version'\u001b[0m\u001b[0;34m,\u001b[0m \u001b[0;32mNone\u001b[0m\u001b[0;34m)\u001b[0m\u001b[0;34m\u001b[0m\u001b[0;34m\u001b[0m\u001b[0m\n\u001b[0;32m--> 661\u001b[0;31m             \u001b[0mbundle\u001b[0m \u001b[0;34m=\u001b[0m \u001b[0mself\u001b[0m\u001b[0;34m.\u001b[0m\u001b[0m_getEntityBundle\u001b[0m\u001b[0;34m(\u001b[0m\u001b[0mentity\u001b[0m\u001b[0;34m,\u001b[0m \u001b[0mversion\u001b[0m\u001b[0;34m)\u001b[0m\u001b[0;34m\u001b[0m\u001b[0;34m\u001b[0m\u001b[0m\n\u001b[0m\u001b[1;32m    662\u001b[0m         \u001b[0;31m# Check and warn for unmet access requirements\u001b[0m\u001b[0;34m\u001b[0m\u001b[0;34m\u001b[0m\u001b[0;34m\u001b[0m\u001b[0m\n\u001b[1;32m    663\u001b[0m         \u001b[0mself\u001b[0m\u001b[0;34m.\u001b[0m\u001b[0m_check_entity_restrictions\u001b[0m\u001b[0;34m(\u001b[0m\u001b[0mbundle\u001b[0m\u001b[0;34m[\u001b[0m\u001b[0;34m'restrictionInformation'\u001b[0m\u001b[0;34m]\u001b[0m\u001b[0;34m,\u001b[0m \u001b[0mentity\u001b[0m\u001b[0;34m,\u001b[0m \u001b[0mkwargs\u001b[0m\u001b[0;34m.\u001b[0m\u001b[0mget\u001b[0m\u001b[0;34m(\u001b[0m\u001b[0;34m'downloadFile'\u001b[0m\u001b[0;34m,\u001b[0m \u001b[0;32mTrue\u001b[0m\u001b[0;34m)\u001b[0m\u001b[0;34m)\u001b[0m\u001b[0;34m\u001b[0m\u001b[0;34m\u001b[0m\u001b[0m\n",
      "\u001b[0;32m~/.virtualenvs/py37env/lib/python3.7/site-packages/synapseclient/client.py\u001b[0m in \u001b[0;36m_getEntityBundle\u001b[0;34m(self, entity, version, requestedObjects)\u001b[0m\n\u001b[1;32m   1181\u001b[0m         \u001b[0;32melse\u001b[0m\u001b[0;34m:\u001b[0m\u001b[0;34m\u001b[0m\u001b[0;34m\u001b[0m\u001b[0m\n\u001b[1;32m   1182\u001b[0m             \u001b[0muri\u001b[0m \u001b[0;34m=\u001b[0m \u001b[0;34mf'/entity/{id_of(entity)}/bundle2'\u001b[0m\u001b[0;34m\u001b[0m\u001b[0;34m\u001b[0m\u001b[0m\n\u001b[0;32m-> 1183\u001b[0;31m         \u001b[0mbundle\u001b[0m \u001b[0;34m=\u001b[0m \u001b[0mself\u001b[0m\u001b[0;34m.\u001b[0m\u001b[0mrestPOST\u001b[0m\u001b[0;34m(\u001b[0m\u001b[0muri\u001b[0m\u001b[0;34m,\u001b[0m \u001b[0mbody\u001b[0m\u001b[0;34m=\u001b[0m\u001b[0mjson\u001b[0m\u001b[0;34m.\u001b[0m\u001b[0mdumps\u001b[0m\u001b[0;34m(\u001b[0m\u001b[0mrequestedObjects\u001b[0m\u001b[0;34m)\u001b[0m\u001b[0;34m)\u001b[0m\u001b[0;34m\u001b[0m\u001b[0;34m\u001b[0m\u001b[0m\n\u001b[0m\u001b[1;32m   1184\u001b[0m \u001b[0;34m\u001b[0m\u001b[0m\n\u001b[1;32m   1185\u001b[0m         \u001b[0;32mreturn\u001b[0m \u001b[0mbundle\u001b[0m\u001b[0;34m\u001b[0m\u001b[0;34m\u001b[0m\u001b[0m\n",
      "\u001b[0;32m~/.virtualenvs/py37env/lib/python3.7/site-packages/synapseclient/client.py\u001b[0m in \u001b[0;36mrestPOST\u001b[0;34m(self, uri, body, endpoint, headers, retryPolicy, requests_session, **kwargs)\u001b[0m\n\u001b[1;32m   3794\u001b[0m         \u001b[0;34m:\u001b[0m\u001b[0mreturns\u001b[0m\u001b[0;34m:\u001b[0m \u001b[0mJSON\u001b[0m \u001b[0mencoding\u001b[0m \u001b[0mof\u001b[0m \u001b[0mresponse\u001b[0m\u001b[0;34m\u001b[0m\u001b[0;34m\u001b[0m\u001b[0m\n\u001b[1;32m   3795\u001b[0m         \"\"\"\n\u001b[0;32m-> 3796\u001b[0;31m         \u001b[0mresponse\u001b[0m \u001b[0;34m=\u001b[0m \u001b[0mself\u001b[0m\u001b[0;34m.\u001b[0m\u001b[0m_rest_call\u001b[0m\u001b[0;34m(\u001b[0m\u001b[0;34m'post'\u001b[0m\u001b[0;34m,\u001b[0m \u001b[0muri\u001b[0m\u001b[0;34m,\u001b[0m \u001b[0mbody\u001b[0m\u001b[0;34m,\u001b[0m \u001b[0mendpoint\u001b[0m\u001b[0;34m,\u001b[0m \u001b[0mheaders\u001b[0m\u001b[0;34m,\u001b[0m \u001b[0mretryPolicy\u001b[0m\u001b[0;34m,\u001b[0m \u001b[0mrequests_session\u001b[0m\u001b[0;34m,\u001b[0m \u001b[0;34m**\u001b[0m\u001b[0mkwargs\u001b[0m\u001b[0;34m)\u001b[0m\u001b[0;34m\u001b[0m\u001b[0;34m\u001b[0m\u001b[0m\n\u001b[0m\u001b[1;32m   3797\u001b[0m         \u001b[0;32mreturn\u001b[0m \u001b[0mself\u001b[0m\u001b[0;34m.\u001b[0m\u001b[0m_return_rest_body\u001b[0m\u001b[0;34m(\u001b[0m\u001b[0mresponse\u001b[0m\u001b[0;34m)\u001b[0m\u001b[0;34m\u001b[0m\u001b[0;34m\u001b[0m\u001b[0m\n\u001b[1;32m   3798\u001b[0m \u001b[0;34m\u001b[0m\u001b[0m\n",
      "\u001b[0;32m~/.virtualenvs/py37env/lib/python3.7/site-packages/synapseclient/client.py\u001b[0m in \u001b[0;36m_rest_call\u001b[0;34m(self, method, uri, data, endpoint, headers, retryPolicy, requests_session, **kwargs)\u001b[0m\n\u001b[1;32m   3761\u001b[0m         response = with_retry(lambda: requests_method_fn(uri, data=data, headers=headers, **kwargs),\n\u001b[1;32m   3762\u001b[0m                               verbose=self.debug, **retryPolicy)\n\u001b[0;32m-> 3763\u001b[0;31m         \u001b[0mself\u001b[0m\u001b[0;34m.\u001b[0m\u001b[0m_handle_synapse_http_error\u001b[0m\u001b[0;34m(\u001b[0m\u001b[0mresponse\u001b[0m\u001b[0;34m)\u001b[0m\u001b[0;34m\u001b[0m\u001b[0;34m\u001b[0m\u001b[0m\n\u001b[0m\u001b[1;32m   3764\u001b[0m         \u001b[0;32mreturn\u001b[0m \u001b[0mresponse\u001b[0m\u001b[0;34m\u001b[0m\u001b[0;34m\u001b[0m\u001b[0m\n\u001b[1;32m   3765\u001b[0m \u001b[0;34m\u001b[0m\u001b[0m\n",
      "\u001b[0;32m~/.virtualenvs/py37env/lib/python3.7/site-packages/synapseclient/client.py\u001b[0m in \u001b[0;36m_handle_synapse_http_error\u001b[0;34m(self, response)\u001b[0m\n\u001b[1;32m   3740\u001b[0m \u001b[0;34m\u001b[0m\u001b[0m\n\u001b[1;32m   3741\u001b[0m         \u001b[0;32mtry\u001b[0m\u001b[0;34m:\u001b[0m\u001b[0;34m\u001b[0m\u001b[0;34m\u001b[0m\u001b[0m\n\u001b[0;32m-> 3742\u001b[0;31m             \u001b[0mexceptions\u001b[0m\u001b[0;34m.\u001b[0m\u001b[0m_raise_for_status\u001b[0m\u001b[0;34m(\u001b[0m\u001b[0mresponse\u001b[0m\u001b[0;34m,\u001b[0m \u001b[0mverbose\u001b[0m\u001b[0;34m=\u001b[0m\u001b[0mself\u001b[0m\u001b[0;34m.\u001b[0m\u001b[0mdebug\u001b[0m\u001b[0;34m)\u001b[0m\u001b[0;34m\u001b[0m\u001b[0;34m\u001b[0m\u001b[0m\n\u001b[0m\u001b[1;32m   3743\u001b[0m         \u001b[0;32mexcept\u001b[0m \u001b[0mexceptions\u001b[0m\u001b[0;34m.\u001b[0m\u001b[0mSynapseHTTPError\u001b[0m \u001b[0;32mas\u001b[0m \u001b[0mex\u001b[0m\u001b[0;34m:\u001b[0m\u001b[0;34m\u001b[0m\u001b[0;34m\u001b[0m\u001b[0m\n\u001b[1;32m   3744\u001b[0m             \u001b[0;31m# if we get a unauthenticated or forbidden error and the user is not logged in\u001b[0m\u001b[0;34m\u001b[0m\u001b[0;34m\u001b[0m\u001b[0;34m\u001b[0m\u001b[0m\n",
      "\u001b[0;32m~/.virtualenvs/py37env/lib/python3.7/site-packages/synapseclient/core/exceptions.py\u001b[0m in \u001b[0;36m_raise_for_status\u001b[0;34m(response, verbose)\u001b[0m\n\u001b[1;32m    158\u001b[0m                 \u001b[0mmessage\u001b[0m \u001b[0;34m+=\u001b[0m \u001b[0;34m\"\\nCould not append all response info\"\u001b[0m\u001b[0;34m\u001b[0m\u001b[0;34m\u001b[0m\u001b[0m\n\u001b[1;32m    159\u001b[0m \u001b[0;34m\u001b[0m\u001b[0m\n\u001b[0;32m--> 160\u001b[0;31m         \u001b[0;32mraise\u001b[0m \u001b[0mSynapseHTTPError\u001b[0m\u001b[0;34m(\u001b[0m\u001b[0mmessage\u001b[0m\u001b[0;34m,\u001b[0m \u001b[0mresponse\u001b[0m\u001b[0;34m=\u001b[0m\u001b[0mresponse\u001b[0m\u001b[0;34m)\u001b[0m\u001b[0;34m\u001b[0m\u001b[0;34m\u001b[0m\u001b[0m\n\u001b[0m",
      "\u001b[0;31mSynapseHTTPError\u001b[0m: 403 Client Error: \nYou do not have READ permission for the requested entity, syn17462699."
     ]
    }
   ],
   "source": [
    "drug_data_path = syn.get(\"syn17462699\").path\n",
    "drug_data = pd.read_csv(drug_data_path, low_memory=False)\n",
    "                       \n",
    "pd.DataFrame.head(drug_data)"
   ]
  },
  {
   "cell_type": "code",
   "execution_count": null,
   "metadata": {},
   "outputs": [],
   "source": []
  }
 ],
 "metadata": {
  "hide_input": false,
  "kernelspec": {
   "display_name": "Python 3",
   "language": "python",
   "name": "python3"
  },
  "language_info": {
   "codemirror_mode": {
    "name": "ipython",
    "version": 3
   },
   "file_extension": ".py",
   "mimetype": "text/x-python",
   "name": "python",
   "nbconvert_exporter": "python",
   "pygments_lexer": "ipython3",
   "version": "3.7.4"
  }
 },
 "nbformat": 4,
 "nbformat_minor": 2
}
